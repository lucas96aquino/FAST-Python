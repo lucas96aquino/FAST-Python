{
  "nbformat": 4,
  "nbformat_minor": 0,
  "metadata": {
    "colab": {
      "provenance": [],
      "authorship_tag": "ABX9TyPTng7aY4SJl0vz4e0Wkcwg"
    },
    "kernelspec": {
      "name": "python3",
      "display_name": "Python 3"
    },
    "language_info": {
      "name": "python"
    }
  },
  "cells": [
    {
      "cell_type": "code",
      "execution_count": null,
      "metadata": {
        "id": "tzWETuReurN7"
      },
      "outputs": [],
      "source": [
        "# pd É A CONVENÇÃO DE IMPORTAÇÃO\n",
        "\n",
        "import pandas as pd"
      ]
    },
    {
      "cell_type": "code",
      "source": [
        "pd.__version__"
      ],
      "metadata": {
        "colab": {
          "base_uri": "https://localhost:8080/",
          "height": 35
        },
        "id": "me77VBHfyT4x",
        "outputId": "b38ddae4-5e1d-4957-a31f-3f143c067ec3"
      },
      "execution_count": null,
      "outputs": [
        {
          "output_type": "execute_result",
          "data": {
            "text/plain": [
              "'1.5.3'"
            ],
            "application/vnd.google.colaboratory.intrinsic+json": {
              "type": "string"
            }
          },
          "metadata": {},
          "execution_count": 3
        }
      ]
    },
    {
      "cell_type": "code",
      "source": [
        "# QUE TIPO DE DADOS O PANDAS MANIPULA?\n",
        "\n",
        "# Manipula dois tipos de dados:\n",
        "# DataFrame - tabela com linhas e colunas, um objeto\n",
        "# Series - Uma coluna. Cada coluna num dataframe é considerada uma série\n",
        "# O pd.Series cria uma coluna nova\n",
        "\n",
        "pd.Series(['a','b','c','d'])\n",
        "\n",
        "# TAMBÉM É POSSÍVEL PASSAR QUAIS SERÃO OS ÍNDICES USANDO o index=[] dentro dos parenteses\n"
      ],
      "metadata": {
        "colab": {
          "base_uri": "https://localhost:8080/"
        },
        "id": "VYY3osKeym5G",
        "outputId": "f4f8dc11-30e4-44eb-c14d-fdb2a9073833"
      },
      "execution_count": null,
      "outputs": [
        {
          "output_type": "execute_result",
          "data": {
            "text/plain": [
              "0    a\n",
              "1    b\n",
              "2    c\n",
              "3    d\n",
              "dtype: object"
            ]
          },
          "metadata": {},
          "execution_count": 4
        }
      ]
    },
    {
      "cell_type": "code",
      "source": [
        "s1 = pd.Series(['a','b','c','d'])\n",
        "s2 = pd.Series(['e','f','g','h'])\n",
        "\n",
        "pd.DataFrame(s1)"
      ],
      "metadata": {
        "colab": {
          "base_uri": "https://localhost:8080/",
          "height": 175
        },
        "id": "EgojdMUbzZ79",
        "outputId": "35865922-7a74-42bd-e9d0-1a98306a7e86"
      },
      "execution_count": null,
      "outputs": [
        {
          "output_type": "execute_result",
          "data": {
            "text/plain": [
              "   0\n",
              "0  a\n",
              "1  b\n",
              "2  c\n",
              "3  d"
            ],
            "text/html": [
              "\n",
              "  <div id=\"df-c1370838-507e-4de3-a777-d4649057272e\" class=\"colab-df-container\">\n",
              "    <div>\n",
              "<style scoped>\n",
              "    .dataframe tbody tr th:only-of-type {\n",
              "        vertical-align: middle;\n",
              "    }\n",
              "\n",
              "    .dataframe tbody tr th {\n",
              "        vertical-align: top;\n",
              "    }\n",
              "\n",
              "    .dataframe thead th {\n",
              "        text-align: right;\n",
              "    }\n",
              "</style>\n",
              "<table border=\"1\" class=\"dataframe\">\n",
              "  <thead>\n",
              "    <tr style=\"text-align: right;\">\n",
              "      <th></th>\n",
              "      <th>0</th>\n",
              "    </tr>\n",
              "  </thead>\n",
              "  <tbody>\n",
              "    <tr>\n",
              "      <th>0</th>\n",
              "      <td>a</td>\n",
              "    </tr>\n",
              "    <tr>\n",
              "      <th>1</th>\n",
              "      <td>b</td>\n",
              "    </tr>\n",
              "    <tr>\n",
              "      <th>2</th>\n",
              "      <td>c</td>\n",
              "    </tr>\n",
              "    <tr>\n",
              "      <th>3</th>\n",
              "      <td>d</td>\n",
              "    </tr>\n",
              "  </tbody>\n",
              "</table>\n",
              "</div>\n",
              "    <div class=\"colab-df-buttons\">\n",
              "\n",
              "  <div class=\"colab-df-container\">\n",
              "    <button class=\"colab-df-convert\" onclick=\"convertToInteractive('df-c1370838-507e-4de3-a777-d4649057272e')\"\n",
              "            title=\"Convert this dataframe to an interactive table.\"\n",
              "            style=\"display:none;\">\n",
              "\n",
              "  <svg xmlns=\"http://www.w3.org/2000/svg\" height=\"24px\" viewBox=\"0 -960 960 960\">\n",
              "    <path d=\"M120-120v-720h720v720H120Zm60-500h600v-160H180v160Zm220 220h160v-160H400v160Zm0 220h160v-160H400v160ZM180-400h160v-160H180v160Zm440 0h160v-160H620v160ZM180-180h160v-160H180v160Zm440 0h160v-160H620v160Z\"/>\n",
              "  </svg>\n",
              "    </button>\n",
              "\n",
              "  <style>\n",
              "    .colab-df-container {\n",
              "      display:flex;\n",
              "      gap: 12px;\n",
              "    }\n",
              "\n",
              "    .colab-df-convert {\n",
              "      background-color: #E8F0FE;\n",
              "      border: none;\n",
              "      border-radius: 50%;\n",
              "      cursor: pointer;\n",
              "      display: none;\n",
              "      fill: #1967D2;\n",
              "      height: 32px;\n",
              "      padding: 0 0 0 0;\n",
              "      width: 32px;\n",
              "    }\n",
              "\n",
              "    .colab-df-convert:hover {\n",
              "      background-color: #E2EBFA;\n",
              "      box-shadow: 0px 1px 2px rgba(60, 64, 67, 0.3), 0px 1px 3px 1px rgba(60, 64, 67, 0.15);\n",
              "      fill: #174EA6;\n",
              "    }\n",
              "\n",
              "    .colab-df-buttons div {\n",
              "      margin-bottom: 4px;\n",
              "    }\n",
              "\n",
              "    [theme=dark] .colab-df-convert {\n",
              "      background-color: #3B4455;\n",
              "      fill: #D2E3FC;\n",
              "    }\n",
              "\n",
              "    [theme=dark] .colab-df-convert:hover {\n",
              "      background-color: #434B5C;\n",
              "      box-shadow: 0px 1px 3px 1px rgba(0, 0, 0, 0.15);\n",
              "      filter: drop-shadow(0px 1px 2px rgba(0, 0, 0, 0.3));\n",
              "      fill: #FFFFFF;\n",
              "    }\n",
              "  </style>\n",
              "\n",
              "    <script>\n",
              "      const buttonEl =\n",
              "        document.querySelector('#df-c1370838-507e-4de3-a777-d4649057272e button.colab-df-convert');\n",
              "      buttonEl.style.display =\n",
              "        google.colab.kernel.accessAllowed ? 'block' : 'none';\n",
              "\n",
              "      async function convertToInteractive(key) {\n",
              "        const element = document.querySelector('#df-c1370838-507e-4de3-a777-d4649057272e');\n",
              "        const dataTable =\n",
              "          await google.colab.kernel.invokeFunction('convertToInteractive',\n",
              "                                                    [key], {});\n",
              "        if (!dataTable) return;\n",
              "\n",
              "        const docLinkHtml = 'Like what you see? Visit the ' +\n",
              "          '<a target=\"_blank\" href=https://colab.research.google.com/notebooks/data_table.ipynb>data table notebook</a>'\n",
              "          + ' to learn more about interactive tables.';\n",
              "        element.innerHTML = '';\n",
              "        dataTable['output_type'] = 'display_data';\n",
              "        await google.colab.output.renderOutput(dataTable, element);\n",
              "        const docLink = document.createElement('div');\n",
              "        docLink.innerHTML = docLinkHtml;\n",
              "        element.appendChild(docLink);\n",
              "      }\n",
              "    </script>\n",
              "  </div>\n",
              "\n",
              "\n",
              "<div id=\"df-51c08e2a-2031-4c4c-b81c-cf250f31bd44\">\n",
              "  <button class=\"colab-df-quickchart\" onclick=\"quickchart('df-51c08e2a-2031-4c4c-b81c-cf250f31bd44')\"\n",
              "            title=\"Suggest charts.\"\n",
              "            style=\"display:none;\">\n",
              "\n",
              "<svg xmlns=\"http://www.w3.org/2000/svg\" height=\"24px\"viewBox=\"0 0 24 24\"\n",
              "     width=\"24px\">\n",
              "    <g>\n",
              "        <path d=\"M19 3H5c-1.1 0-2 .9-2 2v14c0 1.1.9 2 2 2h14c1.1 0 2-.9 2-2V5c0-1.1-.9-2-2-2zM9 17H7v-7h2v7zm4 0h-2V7h2v10zm4 0h-2v-4h2v4z\"/>\n",
              "    </g>\n",
              "</svg>\n",
              "  </button>\n",
              "\n",
              "<style>\n",
              "  .colab-df-quickchart {\n",
              "      --bg-color: #E8F0FE;\n",
              "      --fill-color: #1967D2;\n",
              "      --hover-bg-color: #E2EBFA;\n",
              "      --hover-fill-color: #174EA6;\n",
              "      --disabled-fill-color: #AAA;\n",
              "      --disabled-bg-color: #DDD;\n",
              "  }\n",
              "\n",
              "  [theme=dark] .colab-df-quickchart {\n",
              "      --bg-color: #3B4455;\n",
              "      --fill-color: #D2E3FC;\n",
              "      --hover-bg-color: #434B5C;\n",
              "      --hover-fill-color: #FFFFFF;\n",
              "      --disabled-bg-color: #3B4455;\n",
              "      --disabled-fill-color: #666;\n",
              "  }\n",
              "\n",
              "  .colab-df-quickchart {\n",
              "    background-color: var(--bg-color);\n",
              "    border: none;\n",
              "    border-radius: 50%;\n",
              "    cursor: pointer;\n",
              "    display: none;\n",
              "    fill: var(--fill-color);\n",
              "    height: 32px;\n",
              "    padding: 0;\n",
              "    width: 32px;\n",
              "  }\n",
              "\n",
              "  .colab-df-quickchart:hover {\n",
              "    background-color: var(--hover-bg-color);\n",
              "    box-shadow: 0 1px 2px rgba(60, 64, 67, 0.3), 0 1px 3px 1px rgba(60, 64, 67, 0.15);\n",
              "    fill: var(--button-hover-fill-color);\n",
              "  }\n",
              "\n",
              "  .colab-df-quickchart-complete:disabled,\n",
              "  .colab-df-quickchart-complete:disabled:hover {\n",
              "    background-color: var(--disabled-bg-color);\n",
              "    fill: var(--disabled-fill-color);\n",
              "    box-shadow: none;\n",
              "  }\n",
              "\n",
              "  .colab-df-spinner {\n",
              "    border: 2px solid var(--fill-color);\n",
              "    border-color: transparent;\n",
              "    border-bottom-color: var(--fill-color);\n",
              "    animation:\n",
              "      spin 1s steps(1) infinite;\n",
              "  }\n",
              "\n",
              "  @keyframes spin {\n",
              "    0% {\n",
              "      border-color: transparent;\n",
              "      border-bottom-color: var(--fill-color);\n",
              "      border-left-color: var(--fill-color);\n",
              "    }\n",
              "    20% {\n",
              "      border-color: transparent;\n",
              "      border-left-color: var(--fill-color);\n",
              "      border-top-color: var(--fill-color);\n",
              "    }\n",
              "    30% {\n",
              "      border-color: transparent;\n",
              "      border-left-color: var(--fill-color);\n",
              "      border-top-color: var(--fill-color);\n",
              "      border-right-color: var(--fill-color);\n",
              "    }\n",
              "    40% {\n",
              "      border-color: transparent;\n",
              "      border-right-color: var(--fill-color);\n",
              "      border-top-color: var(--fill-color);\n",
              "    }\n",
              "    60% {\n",
              "      border-color: transparent;\n",
              "      border-right-color: var(--fill-color);\n",
              "    }\n",
              "    80% {\n",
              "      border-color: transparent;\n",
              "      border-right-color: var(--fill-color);\n",
              "      border-bottom-color: var(--fill-color);\n",
              "    }\n",
              "    90% {\n",
              "      border-color: transparent;\n",
              "      border-bottom-color: var(--fill-color);\n",
              "    }\n",
              "  }\n",
              "</style>\n",
              "\n",
              "  <script>\n",
              "    async function quickchart(key) {\n",
              "      const quickchartButtonEl =\n",
              "        document.querySelector('#' + key + ' button');\n",
              "      quickchartButtonEl.disabled = true;  // To prevent multiple clicks.\n",
              "      quickchartButtonEl.classList.add('colab-df-spinner');\n",
              "      try {\n",
              "        const charts = await google.colab.kernel.invokeFunction(\n",
              "            'suggestCharts', [key], {});\n",
              "      } catch (error) {\n",
              "        console.error('Error during call to suggestCharts:', error);\n",
              "      }\n",
              "      quickchartButtonEl.classList.remove('colab-df-spinner');\n",
              "      quickchartButtonEl.classList.add('colab-df-quickchart-complete');\n",
              "    }\n",
              "    (() => {\n",
              "      let quickchartButtonEl =\n",
              "        document.querySelector('#df-51c08e2a-2031-4c4c-b81c-cf250f31bd44 button');\n",
              "      quickchartButtonEl.style.display =\n",
              "        google.colab.kernel.accessAllowed ? 'block' : 'none';\n",
              "    })();\n",
              "  </script>\n",
              "</div>\n",
              "    </div>\n",
              "  </div>\n"
            ]
          },
          "metadata": {},
          "execution_count": 6
        }
      ]
    },
    {
      "cell_type": "code",
      "source": [
        "# LENDO ARQUIVOS DE DADOS EXTERNOS\n",
        "# CSV\n",
        "\n",
        "import pandas as pd\n",
        "\n",
        "df_pokemon = pd.read_csv('pokemon.csv')\n",
        "print(df_pokemon)"
      ],
      "metadata": {
        "id": "ygcLEok0z5aD",
        "colab": {
          "base_uri": "https://localhost:8080/"
        },
        "outputId": "4efdc198-b1da-4cc5-c22a-23c5d66be44f"
      },
      "execution_count": null,
      "outputs": [
        {
          "output_type": "stream",
          "name": "stdout",
          "text": [
            "       #                   Name   Type 1  Type 2  Total  HP  Attack  Defense  \\\n",
            "0      1              Bulbasaur    Grass  Poison    318  45      49       49   \n",
            "1      2                Ivysaur    Grass  Poison    405  60      62       63   \n",
            "2      3               Venusaur    Grass  Poison    525  80      82       83   \n",
            "3      3  VenusaurMega Venusaur    Grass  Poison    625  80     100      123   \n",
            "4      4             Charmander     Fire     NaN    309  39      52       43   \n",
            "..   ...                    ...      ...     ...    ...  ..     ...      ...   \n",
            "795  719                Diancie     Rock   Fairy    600  50     100      150   \n",
            "796  719    DiancieMega Diancie     Rock   Fairy    700  50     160      110   \n",
            "797  720    HoopaHoopa Confined  Psychic   Ghost    600  80     110       60   \n",
            "798  720     HoopaHoopa Unbound  Psychic    Dark    680  80     160       60   \n",
            "799  721              Volcanion     Fire   Water    600  80     110      120   \n",
            "\n",
            "     Sp. Atk  Sp. Def  Speed  Generation  Legendary  \n",
            "0         65       65     45           1      False  \n",
            "1         80       80     60           1      False  \n",
            "2        100      100     80           1      False  \n",
            "3        122      120     80           1      False  \n",
            "4         60       50     65           1      False  \n",
            "..       ...      ...    ...         ...        ...  \n",
            "795      100      150     50           6       True  \n",
            "796      160      110    110           6       True  \n",
            "797      150      130     70           6       True  \n",
            "798      170      130     80           6       True  \n",
            "799      130       90     70           6       True  \n",
            "\n",
            "[800 rows x 13 columns]\n"
          ]
        }
      ]
    },
    {
      "cell_type": "code",
      "source": [
        "# HEAD\n",
        "# VISUALIZAR AS 5 PRIMEIRAS LINHAS\n",
        "# O () PODE RECEBER VALORES DE QUANTIDADE\n",
        "# EX: QUERO VER AS 8 PRIMEIRAS LINHAS\n",
        "# head.(8)\n",
        "\n",
        "print(df_pokemon.head())"
      ],
      "metadata": {
        "colab": {
          "base_uri": "https://localhost:8080/"
        },
        "id": "sLljrRwcRMFS",
        "outputId": "c8c6bdd2-cfc0-49ba-e1dd-2aee4e2b400a"
      },
      "execution_count": null,
      "outputs": [
        {
          "output_type": "stream",
          "name": "stdout",
          "text": [
            "   #                   Name Type 1  Type 2  Total  HP  Attack  Defense  \\\n",
            "0  1              Bulbasaur  Grass  Poison    318  45      49       49   \n",
            "1  2                Ivysaur  Grass  Poison    405  60      62       63   \n",
            "2  3               Venusaur  Grass  Poison    525  80      82       83   \n",
            "3  3  VenusaurMega Venusaur  Grass  Poison    625  80     100      123   \n",
            "4  4             Charmander   Fire     NaN    309  39      52       43   \n",
            "\n",
            "   Sp. Atk  Sp. Def  Speed  Generation  Legendary  \n",
            "0       65       65     45           1      False  \n",
            "1       80       80     60           1      False  \n",
            "2      100      100     80           1      False  \n",
            "3      122      120     80           1      False  \n",
            "4       60       50     65           1      False  \n"
          ]
        }
      ]
    },
    {
      "cell_type": "code",
      "source": [
        "# TAIL\n",
        "# AS 5 ULTIMAS LINHAS\n",
        "\n",
        "print(df_pokemon.tail())"
      ],
      "metadata": {
        "colab": {
          "base_uri": "https://localhost:8080/"
        },
        "id": "4-NDbotSSBko",
        "outputId": "f2604ac0-5f80-4be1-c230-c2e4954b61df"
      },
      "execution_count": null,
      "outputs": [
        {
          "output_type": "stream",
          "name": "stdout",
          "text": [
            "       #                 Name   Type 1 Type 2  Total  HP  Attack  Defense  \\\n",
            "795  719              Diancie     Rock  Fairy    600  50     100      150   \n",
            "796  719  DiancieMega Diancie     Rock  Fairy    700  50     160      110   \n",
            "797  720  HoopaHoopa Confined  Psychic  Ghost    600  80     110       60   \n",
            "798  720   HoopaHoopa Unbound  Psychic   Dark    680  80     160       60   \n",
            "799  721            Volcanion     Fire  Water    600  80     110      120   \n",
            "\n",
            "     Sp. Atk  Sp. Def  Speed  Generation  Legendary  \n",
            "795      100      150     50           6       True  \n",
            "796      160      110    110           6       True  \n",
            "797      150      130     70           6       True  \n",
            "798      170      130     80           6       True  \n",
            "799      130       90     70           6       True  \n"
          ]
        }
      ]
    },
    {
      "cell_type": "code",
      "source": [
        "# SABER AS COLUNAS\n",
        "\n",
        "print(df_pokemon.columns)"
      ],
      "metadata": {
        "colab": {
          "base_uri": "https://localhost:8080/"
        },
        "id": "7HJrZ_L1SYIL",
        "outputId": "db6228a2-0245-4117-9217-2665c1ada1f1"
      },
      "execution_count": null,
      "outputs": [
        {
          "output_type": "stream",
          "name": "stdout",
          "text": [
            "Index(['#', 'Name', 'Type 1', 'Type 2', 'Total', 'HP', 'Attack', 'Defense',\n",
            "       'Sp. Atk', 'Sp. Def', 'Speed', 'Generation', 'Legendary'],\n",
            "      dtype='object')\n"
          ]
        }
      ]
    },
    {
      "cell_type": "code",
      "source": [
        "# VISUALIZAR INFORMAÇÕES DAS LINHAS\n",
        "# ELE RETORNA INFORMAÇÕES DO TAMANHO DA LINHA\n",
        "# ONDE COMEÇA, ONDE TERMINA\n",
        "\n",
        "print(df_pokemon.index)"
      ],
      "metadata": {
        "colab": {
          "base_uri": "https://localhost:8080/"
        },
        "id": "okyH2UWaShv6",
        "outputId": "0ccd10e7-b962-4e11-e3c7-41d61bf098dc"
      },
      "execution_count": null,
      "outputs": [
        {
          "output_type": "stream",
          "name": "stdout",
          "text": [
            "RangeIndex(start=0, stop=800, step=1)\n"
          ]
        }
      ]
    },
    {
      "cell_type": "code",
      "source": [
        "# INFORMAÇÕES SOBRE O ARQUIVO\n",
        "# PANORAMA GERAL SOBRE O DATASET\n",
        "\n",
        "print(df_pokemon.info)"
      ],
      "metadata": {
        "colab": {
          "base_uri": "https://localhost:8080/"
        },
        "id": "y9wggkIWTBnM",
        "outputId": "c5746a25-1a3e-4dbd-8123-4bd87c5207d6"
      },
      "execution_count": null,
      "outputs": [
        {
          "output_type": "stream",
          "name": "stdout",
          "text": [
            "<bound method DataFrame.info of        #                   Name   Type 1  Type 2  Total  HP  Attack  Defense  \\\n",
            "0      1              Bulbasaur    Grass  Poison    318  45      49       49   \n",
            "1      2                Ivysaur    Grass  Poison    405  60      62       63   \n",
            "2      3               Venusaur    Grass  Poison    525  80      82       83   \n",
            "3      3  VenusaurMega Venusaur    Grass  Poison    625  80     100      123   \n",
            "4      4             Charmander     Fire     NaN    309  39      52       43   \n",
            "..   ...                    ...      ...     ...    ...  ..     ...      ...   \n",
            "795  719                Diancie     Rock   Fairy    600  50     100      150   \n",
            "796  719    DiancieMega Diancie     Rock   Fairy    700  50     160      110   \n",
            "797  720    HoopaHoopa Confined  Psychic   Ghost    600  80     110       60   \n",
            "798  720     HoopaHoopa Unbound  Psychic    Dark    680  80     160       60   \n",
            "799  721              Volcanion     Fire   Water    600  80     110      120   \n",
            "\n",
            "     Sp. Atk  Sp. Def  Speed  Generation  Legendary  \n",
            "0         65       65     45           1      False  \n",
            "1         80       80     60           1      False  \n",
            "2        100      100     80           1      False  \n",
            "3        122      120     80           1      False  \n",
            "4         60       50     65           1      False  \n",
            "..       ...      ...    ...         ...        ...  \n",
            "795      100      150     50           6       True  \n",
            "796      160      110    110           6       True  \n",
            "797      150      130     70           6       True  \n",
            "798      170      130     80           6       True  \n",
            "799      130       90     70           6       True  \n",
            "\n",
            "[800 rows x 13 columns]>\n"
          ]
        }
      ]
    },
    {
      "cell_type": "code",
      "source": [
        "# FILTROS\n",
        "# FILTRO POR NOME\n",
        "\n",
        "print(df_pokemon[['Name', 'Type 1']])"
      ],
      "metadata": {
        "colab": {
          "base_uri": "https://localhost:8080/"
        },
        "id": "7IyX8PA7TRY0",
        "outputId": "046cd1df-0abf-407d-df1d-95fceb2bc937"
      },
      "execution_count": null,
      "outputs": [
        {
          "output_type": "stream",
          "name": "stdout",
          "text": [
            "                      Name   Type 1\n",
            "0                Bulbasaur    Grass\n",
            "1                  Ivysaur    Grass\n",
            "2                 Venusaur    Grass\n",
            "3    VenusaurMega Venusaur    Grass\n",
            "4               Charmander     Fire\n",
            "..                     ...      ...\n",
            "795                Diancie     Rock\n",
            "796    DiancieMega Diancie     Rock\n",
            "797    HoopaHoopa Confined  Psychic\n",
            "798     HoopaHoopa Unbound  Psychic\n",
            "799              Volcanion     Fire\n",
            "\n",
            "[800 rows x 2 columns]\n"
          ]
        }
      ]
    },
    {
      "cell_type": "code",
      "source": [
        "# FILTRANDO ATRAVÉS POR INFORMAÇÕES DAS LINHAS\n",
        "# FILTRANDO APENAS POKÉMONS LENDARIOS\n",
        "\n",
        "print(df_pokemon.loc[df_pokemon ['Legendary'] == True])"
      ],
      "metadata": {
        "colab": {
          "base_uri": "https://localhost:8080/"
        },
        "id": "4DQ6OtSsTbNN",
        "outputId": "84f60394-061a-4b55-f0f6-40945e1b886f"
      },
      "execution_count": null,
      "outputs": [
        {
          "output_type": "stream",
          "name": "stdout",
          "text": [
            "       #                 Name    Type 1    Type 2  Total   HP  Attack  \\\n",
            "156  144             Articuno       Ice    Flying    580   90      85   \n",
            "157  145               Zapdos  Electric    Flying    580   90      90   \n",
            "158  146              Moltres      Fire    Flying    580   90     100   \n",
            "162  150               Mewtwo   Psychic       NaN    680  106     110   \n",
            "163  150  MewtwoMega Mewtwo X   Psychic  Fighting    780  106     190   \n",
            "..   ...                  ...       ...       ...    ...  ...     ...   \n",
            "795  719              Diancie      Rock     Fairy    600   50     100   \n",
            "796  719  DiancieMega Diancie      Rock     Fairy    700   50     160   \n",
            "797  720  HoopaHoopa Confined   Psychic     Ghost    600   80     110   \n",
            "798  720   HoopaHoopa Unbound   Psychic      Dark    680   80     160   \n",
            "799  721            Volcanion      Fire     Water    600   80     110   \n",
            "\n",
            "     Defense  Sp. Atk  Sp. Def  Speed  Generation  Legendary  \n",
            "156      100       95      125     85           1       True  \n",
            "157       85      125       90    100           1       True  \n",
            "158       90      125       85     90           1       True  \n",
            "162       90      154       90    130           1       True  \n",
            "163      100      154      100    130           1       True  \n",
            "..       ...      ...      ...    ...         ...        ...  \n",
            "795      150      100      150     50           6       True  \n",
            "796      110      160      110    110           6       True  \n",
            "797       60      150      130     70           6       True  \n",
            "798       60      170      130     80           6       True  \n",
            "799      120      130       90     70           6       True  \n",
            "\n",
            "[65 rows x 13 columns]\n"
          ]
        }
      ]
    },
    {
      "cell_type": "code",
      "source": [
        "# ORDENAR POR NOMES E TIPOS\n",
        "\n",
        "print(df_pokemon.sort_values(['Name', 'Type 1']))"
      ],
      "metadata": {
        "colab": {
          "base_uri": "https://localhost:8080/"
        },
        "id": "Dco5vHoBT5zS",
        "outputId": "8e775e57-658f-405f-acc0-a7484fda3282"
      },
      "execution_count": null,
      "outputs": [
        {
          "output_type": "stream",
          "name": "stdout",
          "text": [
            "       #                     Name   Type 1  Type 2  Total   HP  Attack  \\\n",
            "510  460                Abomasnow    Grass     Ice    494   90      92   \n",
            "511  460  AbomasnowMega Abomasnow    Grass     Ice    594   90     132   \n",
            "68    63                     Abra  Psychic     NaN    310   25      20   \n",
            "392  359                    Absol     Dark     NaN    465   65     130   \n",
            "393  359          AbsolMega Absol     Dark     NaN    565   65     150   \n",
            "..   ...                      ...      ...     ...    ...  ...     ...   \n",
            "632  571                  Zoroark     Dark     NaN    510   60     105   \n",
            "631  570                    Zorua     Dark     NaN    330   40      65   \n",
            "46    41                    Zubat   Poison  Flying    245   40      45   \n",
            "695  634                 Zweilous     Dark  Dragon    420   72      85   \n",
            "794  718         Zygarde50% Forme   Dragon  Ground    600  108     100   \n",
            "\n",
            "     Defense  Sp. Atk  Sp. Def  Speed  Generation  Legendary  \n",
            "510       75       92       85     60           4      False  \n",
            "511      105      132      105     30           4      False  \n",
            "68        15      105       55     90           1      False  \n",
            "392       60       75       60     75           3      False  \n",
            "393       60      115       60    115           3      False  \n",
            "..       ...      ...      ...    ...         ...        ...  \n",
            "632       60      120       60    105           5      False  \n",
            "631       40       80       40     65           5      False  \n",
            "46        35       30       40     55           1      False  \n",
            "695       70       65       70     58           5      False  \n",
            "794      121       81       95     95           6       True  \n",
            "\n",
            "[800 rows x 13 columns]\n"
          ]
        }
      ]
    },
    {
      "cell_type": "code",
      "source": [
        "# ORDENAR POR NOMES E TIPOS\n",
        "\n",
        "print(df_pokemon.sort_values('Name'))"
      ],
      "metadata": {
        "colab": {
          "base_uri": "https://localhost:8080/"
        },
        "id": "kdMtqq4zUe5B",
        "outputId": "56109ef5-cb61-465a-cafa-0c0dbab0b3fc"
      },
      "execution_count": null,
      "outputs": [
        {
          "output_type": "stream",
          "name": "stdout",
          "text": [
            "       #                     Name   Type 1  Type 2  Total   HP  Attack  \\\n",
            "510  460                Abomasnow    Grass     Ice    494   90      92   \n",
            "511  460  AbomasnowMega Abomasnow    Grass     Ice    594   90     132   \n",
            "68    63                     Abra  Psychic     NaN    310   25      20   \n",
            "392  359                    Absol     Dark     NaN    465   65     130   \n",
            "393  359          AbsolMega Absol     Dark     NaN    565   65     150   \n",
            "..   ...                      ...      ...     ...    ...  ...     ...   \n",
            "632  571                  Zoroark     Dark     NaN    510   60     105   \n",
            "631  570                    Zorua     Dark     NaN    330   40      65   \n",
            "46    41                    Zubat   Poison  Flying    245   40      45   \n",
            "695  634                 Zweilous     Dark  Dragon    420   72      85   \n",
            "794  718         Zygarde50% Forme   Dragon  Ground    600  108     100   \n",
            "\n",
            "     Defense  Sp. Atk  Sp. Def  Speed  Generation  Legendary  \n",
            "510       75       92       85     60           4      False  \n",
            "511      105      132      105     30           4      False  \n",
            "68        15      105       55     90           1      False  \n",
            "392       60       75       60     75           3      False  \n",
            "393       60      115       60    115           3      False  \n",
            "..       ...      ...      ...    ...         ...        ...  \n",
            "632       60      120       60    105           5      False  \n",
            "631       40       80       40     65           5      False  \n",
            "46        35       30       40     55           1      False  \n",
            "695       70       65       70     58           5      False  \n",
            "794      121       81       95     95           6       True  \n",
            "\n",
            "[800 rows x 13 columns]\n"
          ]
        }
      ]
    },
    {
      "cell_type": "code",
      "source": [
        "# CRIANDO COLUNA COM ARQUIVO CSV\n",
        "\n",
        "# df_pokemon['total'] = df_pokemon['HP'] + todas as outras colunas\n",
        "# após atribuição na soma, dar print no dataframe a nova coluna vai estar lá"
      ],
      "metadata": {
        "id": "SKCYznW1UjTu"
      },
      "execution_count": null,
      "outputs": []
    },
    {
      "cell_type": "code",
      "source": [
        "# COMO EXIBIR COLUNAS ESPECIFICAS\n",
        "\n",
        "print(df_pokemon[['Name', 'Total', 'Type 2']])"
      ],
      "metadata": {
        "colab": {
          "base_uri": "https://localhost:8080/"
        },
        "id": "hKYcAHp8VRp6",
        "outputId": "a85f4ea4-9f35-437f-9f2a-f34f9cbd3dbc"
      },
      "execution_count": null,
      "outputs": [
        {
          "output_type": "stream",
          "name": "stdout",
          "text": [
            "                      Name  Total  Type 2\n",
            "0                Bulbasaur    318  Poison\n",
            "1                  Ivysaur    405  Poison\n",
            "2                 Venusaur    525  Poison\n",
            "3    VenusaurMega Venusaur    625  Poison\n",
            "4               Charmander    309     NaN\n",
            "..                     ...    ...     ...\n",
            "795                Diancie    600   Fairy\n",
            "796    DiancieMega Diancie    700   Fairy\n",
            "797    HoopaHoopa Confined    600   Ghost\n",
            "798     HoopaHoopa Unbound    680    Dark\n",
            "799              Volcanion    600   Water\n",
            "\n",
            "[800 rows x 3 columns]\n"
          ]
        }
      ]
    },
    {
      "cell_type": "code",
      "source": [
        "# EXIBIR VALORES DO MAIOR PARA O MENOR\n",
        "\n",
        "print(df_pokemon.sort_values('Total', ascending=False))"
      ],
      "metadata": {
        "colab": {
          "base_uri": "https://localhost:8080/"
        },
        "id": "R8kGgBECVmeJ",
        "outputId": "bbeacf46-1e6a-48e0-b776-cb9777479ee5"
      },
      "execution_count": null,
      "outputs": [
        {
          "output_type": "stream",
          "name": "stdout",
          "text": [
            "       #                   Name   Type 1    Type 2  Total   HP  Attack  \\\n",
            "426  384  RayquazaMega Rayquaza   Dragon    Flying    780  105     180   \n",
            "164  150    MewtwoMega Mewtwo Y  Psychic       NaN    780  106     150   \n",
            "163  150    MewtwoMega Mewtwo X  Psychic  Fighting    780  106     190   \n",
            "422  382    KyogrePrimal Kyogre    Water       NaN    770  100     150   \n",
            "424  383  GroudonPrimal Groudon   Ground      Fire    770  100     180   \n",
            "..   ...                    ...      ...       ...    ...  ...     ...   \n",
            "13    10               Caterpie      Bug       NaN    195   45      30   \n",
            "288  265                Wurmple      Bug       NaN    195   45      45   \n",
            "446  401              Kricketot      Bug       NaN    194   37      25   \n",
            "322  298                Azurill   Normal     Fairy    190   50      20   \n",
            "206  191                Sunkern    Grass       NaN    180   30      30   \n",
            "\n",
            "     Defense  Sp. Atk  Sp. Def  Speed  Generation  Legendary  \n",
            "426      100      180      100    115           3       True  \n",
            "164       70      194      120    140           1       True  \n",
            "163      100      154      100    130           1       True  \n",
            "422       90      180      160     90           3       True  \n",
            "424      160      150       90     90           3       True  \n",
            "..       ...      ...      ...    ...         ...        ...  \n",
            "13        35       20       20     45           1      False  \n",
            "288       35       20       30     20           3      False  \n",
            "446       41       25       41     25           4      False  \n",
            "322       40       20       40     20           3      False  \n",
            "206       30       30       30     30           2      False  \n",
            "\n",
            "[800 rows x 13 columns]\n"
          ]
        }
      ]
    },
    {
      "cell_type": "code",
      "source": [
        "# No DataFrame df_pokemon, selecione todos os nomes  Pokémon que têm um Ataque\n",
        "# (Attack) maior que 100 e uma Defesa (Defense) maior que 80.\n",
        "\n",
        "filtro = df_pokemon[pokemon_df.loc[:, 'Attack'] < 100]\n",
        "\n",
        "print(filtro)\n"
      ],
      "metadata": {
        "colab": {
          "base_uri": "https://localhost:8080/",
          "height": 246
        },
        "id": "taxglQqNWBkQ",
        "outputId": "4ec777b7-d511-4323-db8a-61c024810c59"
      },
      "execution_count": null,
      "outputs": [
        {
          "output_type": "error",
          "ename": "NameError",
          "evalue": "ignored",
          "traceback": [
            "\u001b[0;31m---------------------------------------------------------------------------\u001b[0m",
            "\u001b[0;31mNameError\u001b[0m                                 Traceback (most recent call last)",
            "\u001b[0;32m<ipython-input-28-6f42ab364c44>\u001b[0m in \u001b[0;36m<cell line: 4>\u001b[0;34m()\u001b[0m\n\u001b[1;32m      2\u001b[0m \u001b[0;31m# (Attack) maior que 100 e uma Defesa (Defense) maior que 80.\u001b[0m\u001b[0;34m\u001b[0m\u001b[0;34m\u001b[0m\u001b[0m\n\u001b[1;32m      3\u001b[0m \u001b[0;34m\u001b[0m\u001b[0m\n\u001b[0;32m----> 4\u001b[0;31m \u001b[0mfiltro\u001b[0m \u001b[0;34m=\u001b[0m \u001b[0mdf_pokemon\u001b[0m\u001b[0;34m[\u001b[0m\u001b[0mpokemon_df\u001b[0m\u001b[0;34m.\u001b[0m\u001b[0mloc\u001b[0m\u001b[0;34m[\u001b[0m\u001b[0;34m:\u001b[0m\u001b[0;34m,\u001b[0m \u001b[0;34m'Attack'\u001b[0m\u001b[0;34m]\u001b[0m \u001b[0;34m<\u001b[0m \u001b[0;36m100\u001b[0m\u001b[0;34m]\u001b[0m\u001b[0;34m\u001b[0m\u001b[0;34m\u001b[0m\u001b[0m\n\u001b[0m\u001b[1;32m      5\u001b[0m \u001b[0;34m\u001b[0m\u001b[0m\n\u001b[1;32m      6\u001b[0m \u001b[0mprint\u001b[0m\u001b[0;34m(\u001b[0m\u001b[0mfiltro\u001b[0m\u001b[0;34m)\u001b[0m\u001b[0;34m\u001b[0m\u001b[0;34m\u001b[0m\u001b[0m\n",
            "\u001b[0;31mNameError\u001b[0m: name 'pokemon_df' is not defined"
          ]
        }
      ]
    },
    {
      "cell_type": "code",
      "source": [
        "import pandas as pd\n",
        "\n",
        "df_pokemon = pd.read_csv('pokemon.csv')\n",
        "pokemon_filtrados = df_pokemon[(df_pokemon['Attack'] > 100) & (df_pokemon['Defense'] > 80)]\n",
        "print(pokemon_filtrados[['Name', 'Attack', 'Defense']])"
      ],
      "metadata": {
        "id": "kyY8DAIwW5R6",
        "colab": {
          "base_uri": "https://localhost:8080/"
        },
        "outputId": "7242bc4a-0eeb-46b5-8009-08d7b167a09b"
      },
      "execution_count": null,
      "outputs": [
        {
          "output_type": "stream",
          "name": "stdout",
          "text": [
            "                          Name  Attack  Defense\n",
            "7    CharizardMega Charizard X     130      111\n",
            "12     BlastoiseMega Blastoise     103      120\n",
            "82                       Golem     120      130\n",
            "106                     Krabby     105       90\n",
            "107                    Kingler     130      115\n",
            "..                         ...     ...      ...\n",
            "789                    Avalugg     117      184\n",
            "792                    Xerneas     131       95\n",
            "793                    Yveltal     131       95\n",
            "796        DiancieMega Diancie     160      110\n",
            "799                  Volcanion     110      120\n",
            "\n",
            "[93 rows x 3 columns]\n"
          ]
        }
      ]
    },
    {
      "cell_type": "code",
      "source": [
        "# EXPORTANDO CSV\n",
        "\n",
        "df_pokemon.to_csv('pokemon2.csv')\n",
        "\n",
        "df_pokemon2 = pd.read_csv('pokemon2.csv')\n",
        "print(df_pokemon2)"
      ],
      "metadata": {
        "id": "8I7W12R6jAkS",
        "colab": {
          "base_uri": "https://localhost:8080/"
        },
        "outputId": "a8e84072-e6a1-4e37-908f-64c58dd56822"
      },
      "execution_count": null,
      "outputs": [
        {
          "output_type": "stream",
          "name": "stdout",
          "text": [
            "     Unnamed: 0    #                   Name   Type 1  Type 2  Total  HP  \\\n",
            "0             0    1              Bulbasaur    Grass  Poison    318  45   \n",
            "1             1    2                Ivysaur    Grass  Poison    405  60   \n",
            "2             2    3               Venusaur    Grass  Poison    525  80   \n",
            "3             3    3  VenusaurMega Venusaur    Grass  Poison    625  80   \n",
            "4             4    4             Charmander     Fire     NaN    309  39   \n",
            "..          ...  ...                    ...      ...     ...    ...  ..   \n",
            "795         795  719                Diancie     Rock   Fairy    600  50   \n",
            "796         796  719    DiancieMega Diancie     Rock   Fairy    700  50   \n",
            "797         797  720    HoopaHoopa Confined  Psychic   Ghost    600  80   \n",
            "798         798  720     HoopaHoopa Unbound  Psychic    Dark    680  80   \n",
            "799         799  721              Volcanion     Fire   Water    600  80   \n",
            "\n",
            "     Attack  Defense  Sp. Atk  Sp. Def  Speed  Generation  Legendary  \n",
            "0        49       49       65       65     45           1      False  \n",
            "1        62       63       80       80     60           1      False  \n",
            "2        82       83      100      100     80           1      False  \n",
            "3       100      123      122      120     80           1      False  \n",
            "4        52       43       60       50     65           1      False  \n",
            "..      ...      ...      ...      ...    ...         ...        ...  \n",
            "795     100      150      100      150     50           6       True  \n",
            "796     160      110      160      110    110           6       True  \n",
            "797     110       60      150      130     70           6       True  \n",
            "798     160       60      170      130     80           6       True  \n",
            "799     110      120      130       90     70           6       True  \n",
            "\n",
            "[800 rows x 14 columns]\n"
          ]
        }
      ]
    },
    {
      "cell_type": "code",
      "source": [
        "# EXPORTANDO CSV SEM INDEX\n",
        "\n",
        "df_pokemon.to_csv('pokemon1.csv', index=False)\n",
        "\n",
        "df_pokemon1 = pd.read_csv('pokemon1.csv')\n",
        "print(df_pokemon1)"
      ],
      "metadata": {
        "colab": {
          "base_uri": "https://localhost:8080/"
        },
        "id": "wfNp2tBEDBbf",
        "outputId": "867789c2-5a6e-44f7-da0c-7fef4d28bb1f"
      },
      "execution_count": null,
      "outputs": [
        {
          "output_type": "stream",
          "name": "stdout",
          "text": [
            "       #                   Name   Type 1  Type 2  Total  HP  Attack  Defense  \\\n",
            "0      1              Bulbasaur    Grass  Poison    318  45      49       49   \n",
            "1      2                Ivysaur    Grass  Poison    405  60      62       63   \n",
            "2      3               Venusaur    Grass  Poison    525  80      82       83   \n",
            "3      3  VenusaurMega Venusaur    Grass  Poison    625  80     100      123   \n",
            "4      4             Charmander     Fire     NaN    309  39      52       43   \n",
            "..   ...                    ...      ...     ...    ...  ..     ...      ...   \n",
            "795  719                Diancie     Rock   Fairy    600  50     100      150   \n",
            "796  719    DiancieMega Diancie     Rock   Fairy    700  50     160      110   \n",
            "797  720    HoopaHoopa Confined  Psychic   Ghost    600  80     110       60   \n",
            "798  720     HoopaHoopa Unbound  Psychic    Dark    680  80     160       60   \n",
            "799  721              Volcanion     Fire   Water    600  80     110      120   \n",
            "\n",
            "     Sp. Atk  Sp. Def  Speed  Generation  Legendary  \n",
            "0         65       65     45           1      False  \n",
            "1         80       80     60           1      False  \n",
            "2        100      100     80           1      False  \n",
            "3        122      120     80           1      False  \n",
            "4         60       50     65           1      False  \n",
            "..       ...      ...    ...         ...        ...  \n",
            "795      100      150     50           6       True  \n",
            "796      160      110    110           6       True  \n",
            "797      150      130     70           6       True  \n",
            "798      170      130     80           6       True  \n",
            "799      130       90     70           6       True  \n",
            "\n",
            "[800 rows x 13 columns]\n"
          ]
        }
      ]
    },
    {
      "cell_type": "code",
      "source": [],
      "metadata": {
        "colab": {
          "base_uri": "https://localhost:8080/",
          "height": 175
        },
        "id": "fb4tDdAcDj8I",
        "outputId": "b7ce0018-3b90-4d2a-aaa6-338b1b91a7db"
      },
      "execution_count": null,
      "outputs": [
        {
          "output_type": "error",
          "ename": "NameError",
          "evalue": "ignored",
          "traceback": [
            "\u001b[0;31m---------------------------------------------------------------------------\u001b[0m",
            "\u001b[0;31mNameError\u001b[0m                                 Traceback (most recent call last)",
            "\u001b[0;32m<ipython-input-5-ab250639f569>\u001b[0m in \u001b[0;36m<cell line: 1>\u001b[0;34m()\u001b[0m\n\u001b[0;32m----> 1\u001b[0;31m \u001b[0mprint\u001b[0m\u001b[0;34m(\u001b[0m\u001b[0mpokemon1\u001b[0m\u001b[0;34m.\u001b[0m\u001b[0mcsv\u001b[0m\u001b[0;34m)\u001b[0m\u001b[0;34m\u001b[0m\u001b[0;34m\u001b[0m\u001b[0m\n\u001b[0m",
            "\u001b[0;31mNameError\u001b[0m: name 'pokemon1' is not defined"
          ]
        }
      ]
    },
    {
      "cell_type": "code",
      "source": [
        "import pandas as pd\n",
        "\n",
        "df_vacinados = pd.read_csv('vacinados.csv')\n",
        "print(df_vacinados)"
      ],
      "metadata": {
        "colab": {
          "base_uri": "https://localhost:8080/",
          "height": 286
        },
        "id": "rkezoV8yDmgV",
        "outputId": "e5436ab6-a5e9-49be-bc57-cd58086ab302"
      },
      "execution_count": null,
      "outputs": [
        {
          "output_type": "error",
          "ename": "ParserError",
          "evalue": "ignored",
          "traceback": [
            "\u001b[0;31m---------------------------------------------------------------------------\u001b[0m",
            "\u001b[0;31mParserError\u001b[0m                               Traceback (most recent call last)",
            "\u001b[0;32m<ipython-input-14-6d931e6142a0>\u001b[0m in \u001b[0;36m<cell line: 3>\u001b[0;34m()\u001b[0m\n\u001b[1;32m      1\u001b[0m \u001b[0;32mimport\u001b[0m \u001b[0mpandas\u001b[0m \u001b[0;32mas\u001b[0m \u001b[0mpd\u001b[0m\u001b[0;34m\u001b[0m\u001b[0;34m\u001b[0m\u001b[0m\n\u001b[1;32m      2\u001b[0m \u001b[0;34m\u001b[0m\u001b[0m\n\u001b[0;32m----> 3\u001b[0;31m \u001b[0mdf_vacinados\u001b[0m \u001b[0;34m=\u001b[0m \u001b[0mpd\u001b[0m\u001b[0;34m.\u001b[0m\u001b[0mread_csv\u001b[0m\u001b[0;34m(\u001b[0m\u001b[0;34m'vacinados.csv'\u001b[0m\u001b[0;34m)\u001b[0m\u001b[0;34m\u001b[0m\u001b[0;34m\u001b[0m\u001b[0m\n\u001b[0m\u001b[1;32m      4\u001b[0m \u001b[0mprint\u001b[0m\u001b[0;34m(\u001b[0m\u001b[0mdf_vacinados\u001b[0m\u001b[0;34m)\u001b[0m\u001b[0;34m\u001b[0m\u001b[0;34m\u001b[0m\u001b[0m\n",
            "\u001b[0;32m/usr/local/lib/python3.10/dist-packages/pandas/util/_decorators.py\u001b[0m in \u001b[0;36mwrapper\u001b[0;34m(*args, **kwargs)\u001b[0m\n\u001b[1;32m    209\u001b[0m                 \u001b[0;32melse\u001b[0m\u001b[0;34m:\u001b[0m\u001b[0;34m\u001b[0m\u001b[0;34m\u001b[0m\u001b[0m\n\u001b[1;32m    210\u001b[0m                     \u001b[0mkwargs\u001b[0m\u001b[0;34m[\u001b[0m\u001b[0mnew_arg_name\u001b[0m\u001b[0;34m]\u001b[0m \u001b[0;34m=\u001b[0m \u001b[0mnew_arg_value\u001b[0m\u001b[0;34m\u001b[0m\u001b[0;34m\u001b[0m\u001b[0m\n\u001b[0;32m--> 211\u001b[0;31m             \u001b[0;32mreturn\u001b[0m \u001b[0mfunc\u001b[0m\u001b[0;34m(\u001b[0m\u001b[0;34m*\u001b[0m\u001b[0margs\u001b[0m\u001b[0;34m,\u001b[0m \u001b[0;34m**\u001b[0m\u001b[0mkwargs\u001b[0m\u001b[0;34m)\u001b[0m\u001b[0;34m\u001b[0m\u001b[0;34m\u001b[0m\u001b[0m\n\u001b[0m\u001b[1;32m    212\u001b[0m \u001b[0;34m\u001b[0m\u001b[0m\n\u001b[1;32m    213\u001b[0m         \u001b[0;32mreturn\u001b[0m \u001b[0mcast\u001b[0m\u001b[0;34m(\u001b[0m\u001b[0mF\u001b[0m\u001b[0;34m,\u001b[0m \u001b[0mwrapper\u001b[0m\u001b[0;34m)\u001b[0m\u001b[0;34m\u001b[0m\u001b[0;34m\u001b[0m\u001b[0m\n",
            "\u001b[0;32m/usr/local/lib/python3.10/dist-packages/pandas/util/_decorators.py\u001b[0m in \u001b[0;36mwrapper\u001b[0;34m(*args, **kwargs)\u001b[0m\n\u001b[1;32m    329\u001b[0m                     \u001b[0mstacklevel\u001b[0m\u001b[0;34m=\u001b[0m\u001b[0mfind_stack_level\u001b[0m\u001b[0;34m(\u001b[0m\u001b[0;34m)\u001b[0m\u001b[0;34m,\u001b[0m\u001b[0;34m\u001b[0m\u001b[0;34m\u001b[0m\u001b[0m\n\u001b[1;32m    330\u001b[0m                 )\n\u001b[0;32m--> 331\u001b[0;31m             \u001b[0;32mreturn\u001b[0m \u001b[0mfunc\u001b[0m\u001b[0;34m(\u001b[0m\u001b[0;34m*\u001b[0m\u001b[0margs\u001b[0m\u001b[0;34m,\u001b[0m \u001b[0;34m**\u001b[0m\u001b[0mkwargs\u001b[0m\u001b[0;34m)\u001b[0m\u001b[0;34m\u001b[0m\u001b[0;34m\u001b[0m\u001b[0m\n\u001b[0m\u001b[1;32m    332\u001b[0m \u001b[0;34m\u001b[0m\u001b[0m\n\u001b[1;32m    333\u001b[0m         \u001b[0;31m# error: \"Callable[[VarArg(Any), KwArg(Any)], Any]\" has no\u001b[0m\u001b[0;34m\u001b[0m\u001b[0;34m\u001b[0m\u001b[0m\n",
            "\u001b[0;32m/usr/local/lib/python3.10/dist-packages/pandas/io/parsers/readers.py\u001b[0m in \u001b[0;36mread_csv\u001b[0;34m(filepath_or_buffer, sep, delimiter, header, names, index_col, usecols, squeeze, prefix, mangle_dupe_cols, dtype, engine, converters, true_values, false_values, skipinitialspace, skiprows, skipfooter, nrows, na_values, keep_default_na, na_filter, verbose, skip_blank_lines, parse_dates, infer_datetime_format, keep_date_col, date_parser, dayfirst, cache_dates, iterator, chunksize, compression, thousands, decimal, lineterminator, quotechar, quoting, doublequote, escapechar, comment, encoding, encoding_errors, dialect, error_bad_lines, warn_bad_lines, on_bad_lines, delim_whitespace, low_memory, memory_map, float_precision, storage_options)\u001b[0m\n\u001b[1;32m    948\u001b[0m     \u001b[0mkwds\u001b[0m\u001b[0;34m.\u001b[0m\u001b[0mupdate\u001b[0m\u001b[0;34m(\u001b[0m\u001b[0mkwds_defaults\u001b[0m\u001b[0;34m)\u001b[0m\u001b[0;34m\u001b[0m\u001b[0;34m\u001b[0m\u001b[0m\n\u001b[1;32m    949\u001b[0m \u001b[0;34m\u001b[0m\u001b[0m\n\u001b[0;32m--> 950\u001b[0;31m     \u001b[0;32mreturn\u001b[0m \u001b[0m_read\u001b[0m\u001b[0;34m(\u001b[0m\u001b[0mfilepath_or_buffer\u001b[0m\u001b[0;34m,\u001b[0m \u001b[0mkwds\u001b[0m\u001b[0;34m)\u001b[0m\u001b[0;34m\u001b[0m\u001b[0;34m\u001b[0m\u001b[0m\n\u001b[0m\u001b[1;32m    951\u001b[0m \u001b[0;34m\u001b[0m\u001b[0m\n\u001b[1;32m    952\u001b[0m \u001b[0;34m\u001b[0m\u001b[0m\n",
            "\u001b[0;32m/usr/local/lib/python3.10/dist-packages/pandas/io/parsers/readers.py\u001b[0m in \u001b[0;36m_read\u001b[0;34m(filepath_or_buffer, kwds)\u001b[0m\n\u001b[1;32m    609\u001b[0m \u001b[0;34m\u001b[0m\u001b[0m\n\u001b[1;32m    610\u001b[0m     \u001b[0;32mwith\u001b[0m \u001b[0mparser\u001b[0m\u001b[0;34m:\u001b[0m\u001b[0;34m\u001b[0m\u001b[0;34m\u001b[0m\u001b[0m\n\u001b[0;32m--> 611\u001b[0;31m         \u001b[0;32mreturn\u001b[0m \u001b[0mparser\u001b[0m\u001b[0;34m.\u001b[0m\u001b[0mread\u001b[0m\u001b[0;34m(\u001b[0m\u001b[0mnrows\u001b[0m\u001b[0;34m)\u001b[0m\u001b[0;34m\u001b[0m\u001b[0;34m\u001b[0m\u001b[0m\n\u001b[0m\u001b[1;32m    612\u001b[0m \u001b[0;34m\u001b[0m\u001b[0m\n\u001b[1;32m    613\u001b[0m \u001b[0;34m\u001b[0m\u001b[0m\n",
            "\u001b[0;32m/usr/local/lib/python3.10/dist-packages/pandas/io/parsers/readers.py\u001b[0m in \u001b[0;36mread\u001b[0;34m(self, nrows)\u001b[0m\n\u001b[1;32m   1776\u001b[0m                     \u001b[0mcolumns\u001b[0m\u001b[0;34m,\u001b[0m\u001b[0;34m\u001b[0m\u001b[0;34m\u001b[0m\u001b[0m\n\u001b[1;32m   1777\u001b[0m                     \u001b[0mcol_dict\u001b[0m\u001b[0;34m,\u001b[0m\u001b[0;34m\u001b[0m\u001b[0;34m\u001b[0m\u001b[0m\n\u001b[0;32m-> 1778\u001b[0;31m                 \u001b[0;34m)\u001b[0m \u001b[0;34m=\u001b[0m \u001b[0mself\u001b[0m\u001b[0;34m.\u001b[0m\u001b[0m_engine\u001b[0m\u001b[0;34m.\u001b[0m\u001b[0mread\u001b[0m\u001b[0;34m(\u001b[0m  \u001b[0;31m# type: ignore[attr-defined]\u001b[0m\u001b[0;34m\u001b[0m\u001b[0;34m\u001b[0m\u001b[0m\n\u001b[0m\u001b[1;32m   1779\u001b[0m                     \u001b[0mnrows\u001b[0m\u001b[0;34m\u001b[0m\u001b[0;34m\u001b[0m\u001b[0m\n\u001b[1;32m   1780\u001b[0m                 )\n",
            "\u001b[0;32m/usr/local/lib/python3.10/dist-packages/pandas/io/parsers/c_parser_wrapper.py\u001b[0m in \u001b[0;36mread\u001b[0;34m(self, nrows)\u001b[0m\n\u001b[1;32m    228\u001b[0m         \u001b[0;32mtry\u001b[0m\u001b[0;34m:\u001b[0m\u001b[0;34m\u001b[0m\u001b[0;34m\u001b[0m\u001b[0m\n\u001b[1;32m    229\u001b[0m             \u001b[0;32mif\u001b[0m \u001b[0mself\u001b[0m\u001b[0;34m.\u001b[0m\u001b[0mlow_memory\u001b[0m\u001b[0;34m:\u001b[0m\u001b[0;34m\u001b[0m\u001b[0;34m\u001b[0m\u001b[0m\n\u001b[0;32m--> 230\u001b[0;31m                 \u001b[0mchunks\u001b[0m \u001b[0;34m=\u001b[0m \u001b[0mself\u001b[0m\u001b[0;34m.\u001b[0m\u001b[0m_reader\u001b[0m\u001b[0;34m.\u001b[0m\u001b[0mread_low_memory\u001b[0m\u001b[0;34m(\u001b[0m\u001b[0mnrows\u001b[0m\u001b[0;34m)\u001b[0m\u001b[0;34m\u001b[0m\u001b[0;34m\u001b[0m\u001b[0m\n\u001b[0m\u001b[1;32m    231\u001b[0m                 \u001b[0;31m# destructive to chunks\u001b[0m\u001b[0;34m\u001b[0m\u001b[0;34m\u001b[0m\u001b[0m\n\u001b[1;32m    232\u001b[0m                 \u001b[0mdata\u001b[0m \u001b[0;34m=\u001b[0m \u001b[0m_concatenate_chunks\u001b[0m\u001b[0;34m(\u001b[0m\u001b[0mchunks\u001b[0m\u001b[0;34m)\u001b[0m\u001b[0;34m\u001b[0m\u001b[0;34m\u001b[0m\u001b[0m\n",
            "\u001b[0;32m/usr/local/lib/python3.10/dist-packages/pandas/_libs/parsers.pyx\u001b[0m in \u001b[0;36mpandas._libs.parsers.TextReader.read_low_memory\u001b[0;34m()\u001b[0m\n",
            "\u001b[0;32m/usr/local/lib/python3.10/dist-packages/pandas/_libs/parsers.pyx\u001b[0m in \u001b[0;36mpandas._libs.parsers.TextReader._read_rows\u001b[0;34m()\u001b[0m\n",
            "\u001b[0;32m/usr/local/lib/python3.10/dist-packages/pandas/_libs/parsers.pyx\u001b[0m in \u001b[0;36mpandas._libs.parsers.TextReader._tokenize_rows\u001b[0;34m()\u001b[0m\n",
            "\u001b[0;32m/usr/local/lib/python3.10/dist-packages/pandas/_libs/parsers.pyx\u001b[0m in \u001b[0;36mpandas._libs.parsers.raise_parser_error\u001b[0;34m()\u001b[0m\n",
            "\u001b[0;31mParserError\u001b[0m: Error tokenizing data. C error: Expected 1 fields in line 512, saw 2\n"
          ]
        }
      ]
    }
  ]
}