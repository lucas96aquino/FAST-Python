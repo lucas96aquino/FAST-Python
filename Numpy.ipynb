{
  "nbformat": 4,
  "nbformat_minor": 0,
  "metadata": {
    "colab": {
      "provenance": [],
      "authorship_tag": "ABX9TyOy/5sj0Lc4l/dBtjQzZKCh",
      "include_colab_link": true
    },
    "kernelspec": {
      "name": "python3",
      "display_name": "Python 3"
    },
    "language_info": {
      "name": "python"
    }
  },
  "cells": [
    {
      "cell_type": "markdown",
      "metadata": {
        "id": "view-in-github",
        "colab_type": "text"
      },
      "source": [
        "<a href=\"https://colab.research.google.com/github/lucas96aquino/FAST-Python/blob/main/Numpy.ipynb\" target=\"_parent\"><img src=\"https://colab.research.google.com/assets/colab-badge.svg\" alt=\"Open In Colab\"/></a>"
      ]
    },
    {
      "cell_type": "code",
      "execution_count": null,
      "metadata": {
        "colab": {
          "base_uri": "https://localhost:8080/"
        },
        "id": "mN61EEIZfh0y",
        "outputId": "a20769d4-40a4-4488-da27-c886505b1d53"
      },
      "outputs": [
        {
          "output_type": "stream",
          "name": "stdout",
          "text": [
            "A soma dos arrays é: [ 7  9 11 13 15]\n",
            "A subtração dos arrays é: [-5 -5 -5 -5 -5]\n",
            "[[11 22 33]\n",
            " [14 25 36]]\n"
          ]
        }
      ],
      "source": [
        "# O ARRAY É UM CONJUNTO DE DADOS QUE COMPORTA ELEMENTOS DO MESMO TIPO\n",
        "\n",
        "import numpy as np\n",
        "\n",
        "# OPERAÇÃO COM ARRAYS\n",
        "\n",
        "arr1 = np.array([1, 2, 3, 4, 5])\n",
        "arr2 = np.array([6, 7, 8, 9, 10])\n",
        "\n",
        "soma = arr1 + arr2\n",
        "print(f\"A soma dos arrays é: {soma}\")\n",
        "\n",
        "# OPERAÇÃO COM ARRAYS\n",
        "subtracao = arr1 - arr2\n",
        "print(f\"A subtração dos arrays é: {subtracao}\")\n",
        "\n",
        "# VALOR MINIMO DO ARRAY\n",
        "minimo = np.min(arr1)\n",
        "\n",
        "# VALOR MAXIMO\n",
        "maximo = np.max(arr1)\n",
        "\n",
        "# MEDIA DOS ELEMENTOS\n",
        "media = np.mean(arr1)\n",
        "\n",
        "# EXPONENCIACAO\n",
        "exponenciacao = np.power(arr1, 2)\n",
        "\n",
        "# broadcasting - para somar array de diferentes formas\n",
        "\n",
        "arr3 = np.array([[1,2,3], [4,5,6]])\n",
        "arr4 = np.array([10,20,30])\n",
        "\n",
        "resultado = arr3+arr4\n",
        "print(resultado)"
      ]
    },
    {
      "cell_type": "code",
      "source": [
        "# EXERCÍCIO 1\n",
        "\n",
        "import numpy as np\n",
        "\n",
        "start = input(\"Você deseja calcular suas médias? [S] ou [N]\")\n",
        "\n",
        "while start == \"S\":\n",
        "\n",
        "  notas = float(input(\"Digite as suas notas: \"))\n"
      ],
      "metadata": {
        "colab": {
          "base_uri": "https://localhost:8080/"
        },
        "id": "BZN9k2i0rCDd",
        "outputId": "2b6d3041-68a7-447c-c4e1-591cb96c7060"
      },
      "execution_count": null,
      "outputs": [
        {
          "output_type": "stream",
          "name": "stdout",
          "text": [
            "A média das notas é: 6.67\n"
          ]
        }
      ]
    },
    {
      "cell_type": "code",
      "source": [
        "# EXERCÍCIO 2\n",
        "\n",
        "import numpy as np\n",
        "\n",
        "temperatura_media = np.array([30, 32, 28, 29, 33, 25, 26])\n",
        "\n",
        "media = np.mean(temperatura_media)\n",
        "maxima = np.max(temperatura_media)\n",
        "minima = np.min(temperatura_media)\n",
        "\n",
        "print(f\"A média das temperaturas é {media}, a máxima da semana é {maxima} e a mínima é {min}.\")"
      ],
      "metadata": {
        "colab": {
          "base_uri": "https://localhost:8080/"
        },
        "id": "qU1MCh97tsNp",
        "outputId": "68622016-2fdc-4602-edb9-d3e7a4916b27"
      },
      "execution_count": null,
      "outputs": [
        {
          "output_type": "stream",
          "name": "stdout",
          "text": [
            "A média das temperaturas é 29.0, a máxima da semana é 33 e a mínima é <built-in function min>.\n"
          ]
        }
      ]
    },
    {
      "cell_type": "code",
      "source": [
        "# EXERCICIO 3\n",
        "\n",
        "import numpy as np\n",
        "\n",
        "aluno1 = np.array([3, 4, 5, 8])\n",
        "aluno2 = np.array([5, 8, 9, 10])\n",
        "aluno3 = np.array([7, 8, 8, 9])\n",
        "\n",
        "def media (n1):\n",
        "  media_alunos = np.mean(n1)\n",
        "  return media_alunos\n",
        "\n",
        "def verificar (n1):\n",
        "  for i in notas:\n",
        "    if i < 7:\n",
        "      print(\"Nota menor que 7.\")\n",
        "    else:\n",
        "      print(\"Nota maior que 7.\")\n",
        "\n"
      ],
      "metadata": {
        "colab": {
          "base_uri": "https://localhost:8080/"
        },
        "id": "OrHT0GZJvjdC",
        "outputId": "efc35985-079a-4919-8eb3-e50b362b9019"
      },
      "execution_count": null,
      "outputs": [
        {
          "output_type": "stream",
          "name": "stdout",
          "text": [
            "Nota menor que 7.\n",
            "Nota menor que 7.\n",
            "Nota maior que 7.\n",
            "Nota maior que 7.\n",
            "Nota menor que 7.\n",
            "Nota maior que 7.\n"
          ]
        }
      ]
    },
    {
      "cell_type": "code",
      "source": [
        "# EXERCÍCIO 1\n",
        "\n",
        "import numpy as np\n",
        "\n",
        "notas_list = []\n",
        "\n",
        "for c in range (1, 4):\n",
        "  notas = (float(input(\"Informe as 3 notas do estudante: \")))\n",
        "  notas_list.append(notas)\n",
        "\n",
        "notas_array = np.array(notas_list)\n",
        "media = notas_array.mean()\n",
        "\n",
        "print(f\"A média das notas = {media:.2f}\")"
      ],
      "metadata": {
        "colab": {
          "base_uri": "https://localhost:8080/"
        },
        "id": "OTEnBOr3vxn4",
        "outputId": "71310bfc-bb0a-4a76-ade0-a1ba91257729"
      },
      "execution_count": null,
      "outputs": [
        {
          "output_type": "stream",
          "name": "stdout",
          "text": [
            "Informe as 3 notas do estudante: 12\n",
            "Informe as 3 notas do estudante: 3\n",
            "Informe as 3 notas do estudante: 4\n",
            "A média das notas = 6.33\n"
          ]
        }
      ]
    },
    {
      "cell_type": "code",
      "source": [
        "# EXERCÍCIO 2\n",
        "\n",
        "lista_temperaturas = []\n",
        "\n",
        "for i in range(7):\n",
        "  lista_temperaturas.append(float(input(\"Digite as temperaturas: \")))\n",
        "\n",
        "temp_array = np.array(lista_temperaturas)\n",
        "media = np.mean(temp_array)\n",
        "maxima = np.max(temp_array)\n",
        "minima = np.min(temp_array)\n",
        "\n",
        "print(f\"A média das temperaturas é {media:.2f}, a temperatura máxima é {maxima} e a mínima é {minima}.\")\n",
        "print(temp_array)"
      ],
      "metadata": {
        "colab": {
          "base_uri": "https://localhost:8080/"
        },
        "id": "M-korkFEzfxx",
        "outputId": "8bbb94cc-0ea9-4d53-e129-22040cca741f"
      },
      "execution_count": null,
      "outputs": [
        {
          "output_type": "stream",
          "name": "stdout",
          "text": [
            "Digite as temperaturas: 32\n",
            "Digite as temperaturas: 31\n",
            "Digite as temperaturas: 28\n",
            "Digite as temperaturas: 27\n",
            "Digite as temperaturas: 25\n",
            "Digite as temperaturas: 26\n",
            "Digite as temperaturas: 28\n",
            "A média das temperaturas é 28.14, a temperatura máxima é 32.0 e a mínima é 25.0.\n",
            "[32. 31. 28. 27. 25. 26. 28.]\n"
          ]
        }
      ]
    },
    {
      "cell_type": "code",
      "source": [
        "# EXERCÍCIO 3\n",
        "\n",
        "import numpy as np\n",
        "\n",
        "def media (n1):\n",
        "  media_alunos = np.mean(n1)\n",
        "  return media_alunos\n",
        "\n",
        "def verificar (notas):\n",
        "  for i in notas:\n",
        "    if i < 7:\n",
        "      print(\"Nota menor do que 7.\")\n",
        "    else:\n",
        "      print(\"Nota maior do que 7.\")\n",
        "\n",
        "notas = []\n",
        "\n",
        "for i in range(3):\n",
        "  notas.append(float(input(\"Digite as notas: \")))\n",
        "\n",
        "notas_array = np.array(notas)\n",
        "\n",
        "print(media(notas_array))\n",
        "verificar(notas_array)\n"
      ],
      "metadata": {
        "colab": {
          "base_uri": "https://localhost:8080/"
        },
        "id": "opRzue-c00Ka",
        "outputId": "24327a87-6178-4823-8bb1-3ae7ab648d10"
      },
      "execution_count": null,
      "outputs": [
        {
          "output_type": "stream",
          "name": "stdout",
          "text": [
            "Digite as notas: 10\n",
            "Digite as notas: 10\n",
            "Digite as notas: 6\n",
            "8.666666666666666\n",
            "Nota maior do que 7.\n",
            "Nota maior do que 7.\n",
            "Nota menor do que 7.\n"
          ]
        }
      ]
    },
    {
      "cell_type": "code",
      "source": [
        "# EXERCÍCIO 4\n",
        "\n",
        "import numpy as np\n",
        "\n",
        "vendas = []\n",
        "\n",
        "def verificar(vendas):\n",
        "  for i in vendas:\n",
        "    if i > 1000:\n",
        "      print(\"Venda maior que 1000!\")\n",
        "    else:\n",
        "      print(\"Venda menor que 1000.\")\n",
        "\n",
        "for i in range(10):\n",
        "  vendas.append(float(input(\"Registre as vendas: \")))\n",
        "\n",
        "vendas_array = np.array(vendas)\n",
        "verificar(vendas_array)"
      ],
      "metadata": {
        "colab": {
          "base_uri": "https://localhost:8080/"
        },
        "id": "v8SfmNGN2gTj",
        "outputId": "5a904149-7b9f-4ca3-b6c8-e3fcfd1cb0c1"
      },
      "execution_count": null,
      "outputs": [
        {
          "output_type": "stream",
          "name": "stdout",
          "text": [
            "Registre as vendas: 1001\n",
            "Registre as vendas: 1000\n",
            "Registre as vendas: 900\n",
            "Registre as vendas: 800\n",
            "Registre as vendas: 500\n",
            "Registre as vendas: 1010\n",
            "Registre as vendas: 2000\n",
            "Registre as vendas: 3000\n",
            "Registre as vendas: 800\n",
            "Registre as vendas: 600\n",
            "Venda maior que 1000!\n",
            "Venda menor que 1000.\n",
            "Venda menor que 1000.\n",
            "Venda menor que 1000.\n",
            "Venda menor que 1000.\n",
            "Venda maior que 1000!\n",
            "Venda maior que 1000!\n",
            "Venda maior que 1000!\n",
            "Venda menor que 1000.\n",
            "Venda menor que 1000.\n"
          ]
        }
      ]
    },
    {
      "cell_type": "code",
      "source": [
        "# EXERCÍCIO 5\n",
        "\n",
        "import numpy as np\n",
        "\n",
        "cel = [25.8, 29.7, 31.6, 24, 25.9, 32, 45.9]\n",
        "np_array = np.array(cel)\n",
        "print(f\"Celcius: {np_array}\")\n",
        "\n",
        "faren = (9 * np_array / 5 + 32)\n",
        "print(f\"Farenheit: {faren}\")\n",
        "\n",
        "kelvin = (np_array + 273.15)\n",
        "print(f\"Kelvin: {kelvin}\")"
      ],
      "metadata": {
        "colab": {
          "base_uri": "https://localhost:8080/"
        },
        "id": "4EQ2nD5X8R0I",
        "outputId": "c277b45e-56fc-4de0-c829-d36392670d99"
      },
      "execution_count": null,
      "outputs": [
        {
          "output_type": "stream",
          "name": "stdout",
          "text": [
            "Celcius: [25.8 29.7 31.6 24.  25.9 32.  45.9]\n",
            "Farenheit: [ 78.44  85.46  88.88  75.2   78.62  89.6  114.62]\n",
            "Kelvin: [298.95 302.85 304.75 297.15 299.05 305.15 319.05]\n"
          ]
        }
      ]
    },
    {
      "cell_type": "code",
      "source": [
        "# EXERCÍCIO 6\n",
        "\n",
        "import numpy as np\n",
        "\n",
        "def verificar(n1):\n",
        "  contador = 0\n",
        "  for i in n1:\n",
        "    if i > dobro_media_anual:\n",
        "      print(\"Despesa maior que o dobro da média anual identificada.\")\n",
        "      contador += 1\n",
        "    else:\n",
        "      print(\"Despesa menor que o dobro da média anual.\")\n",
        "\n",
        "    return contador\n",
        "\n",
        "despesas = [9000, 8000, 6000, 5000, 3000, 3000, 4000, 8000, 10000, 12000, 9000, 10000]\n",
        "\n",
        "contador = 0\n",
        "\n",
        "despesas_array = np.array(despesas)\n",
        "media_anual = np.mean(despesas_array)\n",
        "dobro_media_anual = media_anual*2\n",
        "\n",
        "print(f\"A média anual é {media_anual}\")\n",
        "print(f\"O dobro da média anual é {dobro_media_anual}\")\n",
        "\n",
        "print(f\"Foram identificadas um total de {contador} despesas maiores que o dobro da média anual.\")"
      ],
      "metadata": {
        "colab": {
          "base_uri": "https://localhost:8080/"
        },
        "id": "yOXDLeOGGaOP",
        "outputId": "f79fb2af-f7b2-48f0-adb2-a6a58b8dafbc"
      },
      "execution_count": null,
      "outputs": [
        {
          "output_type": "stream",
          "name": "stdout",
          "text": [
            "A média anual é 7250.0\n",
            "O dobro da média anual é 14500.0\n",
            "Foram identificadas um total de 0 despesas maiores que o dobro da média anual.\n"
          ]
        }
      ]
    },
    {
      "cell_type": "code",
      "source": [
        "# EXERCÍCIO 7\n",
        "\n",
        "import numpy as np\n",
        "\n",
        "# Criar a matriz de resultados dos testes (0 para negativo, 1 para positivo)\n",
        "resultados = np.array([[1, 0, 1, 1, 0],\n",
        "                       [0, 1, 0, 1, 1],\n",
        "                       [1, 1, 1, 0, 0],\n",
        "                       [0, 0, 1, 1, 0]])\n",
        "\n",
        "# Usar o fatiamento para contar quantos usuários obtiveram resultados positivos em cada teste\n",
        "\n",
        "resultados_positivos_por_teste = np.sum(resultados, axis=0)\n",
        "\n",
        "# Imprimir o resultado\n",
        "\n",
        "for i, resultado in enumerate(resultados_positivos_por_teste):\n",
        "    print(f\"Teste {i + 1}: {resultado} usuários obtiveram resultado positivo.\")"
      ],
      "metadata": {
        "colab": {
          "base_uri": "https://localhost:8080/"
        },
        "id": "nEiGnyGGKZ6H",
        "outputId": "bdefc565-7d61-4946-fe11-c9b610cbfd80"
      },
      "execution_count": null,
      "outputs": [
        {
          "output_type": "stream",
          "name": "stdout",
          "text": [
            "Teste 1: 2 usuários obtiveram resultado positivo.\n",
            "Teste 2: 2 usuários obtiveram resultado positivo.\n",
            "Teste 3: 3 usuários obtiveram resultado positivo.\n",
            "Teste 4: 3 usuários obtiveram resultado positivo.\n",
            "Teste 5: 1 usuários obtiveram resultado positivo.\n"
          ]
        }
      ]
    },
    {
      "cell_type": "code",
      "source": [
        "# EXERCÍCIO 8\n",
        "\n",
        "import numpy as np\n",
        "\n",
        "investimento = [3500]\n",
        "taxa = 0,30\n",
        "\n",
        "investimento_array = np.array(investimento)\n",
        "\n",
        "investimento_mensal = (investimento_array * taxa) + 3500\n",
        "\n",
        "print(f\"O investimento mensal é {investimento_mensal}\")\n",
        "\n"
      ],
      "metadata": {
        "colab": {
          "base_uri": "https://localhost:8080/"
        },
        "id": "_tZCUSkiLNAV",
        "outputId": "6a86400b-656e-4883-93dc-0a24c8ad5358"
      },
      "execution_count": null,
      "outputs": [
        {
          "output_type": "stream",
          "name": "stdout",
          "text": [
            "O investimento mensal é [  3500 108500]\n"
          ]
        }
      ]
    },
    {
      "cell_type": "code",
      "source": [],
      "metadata": {
        "id": "8cTUPq6oMCZf"
      },
      "execution_count": null,
      "outputs": []
    }
  ]
}