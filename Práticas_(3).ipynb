{
  "nbformat": 4,
  "nbformat_minor": 0,
  "metadata": {
    "colab": {
      "provenance": [],
      "authorship_tag": "ABX9TyPovaApF/oJSxRaJUMbIqCH"
    },
    "kernelspec": {
      "name": "python3",
      "display_name": "Python 3"
    },
    "language_info": {
      "name": "python"
    }
  },
  "cells": [
    {
      "cell_type": "code",
      "execution_count": null,
      "metadata": {
        "colab": {
          "base_uri": "https://localhost:8080/"
        },
        "id": "-HhKzT-42LWy",
        "outputId": "8906e680-0c32-4c99-a149-3b9fa6a92de6"
      },
      "outputs": [
        {
          "name": "stdout",
          "output_type": "stream",
          "text": [
            "Digite a idade: 5\n",
            "Digite a idade: 6\n",
            "Digite a idade: 8\n",
            "Digite a idade: 9\n"
          ]
        }
      ],
      "source": [
        "idades = []\n",
        "\n",
        "for i in range(4):\n",
        "  idades.append(int(input(\"Digite a idade: \")))\n",
        "\n",
        "soma = sum(idades)\n",
        "media = soma/len(idades)\n",
        "maior = max(idades)\n",
        "menor = min(idades)\n",
        "\n",
        "print = (\"A soma das idades é\", soma, \", a média das idades é\", media, \", a maior idade da lista é \", maior,\" e a menor é \", menor,\".\")"
      ]
    },
    {
      "cell_type": "code",
      "source": [
        "# EXERCÍCIO 3\n",
        "\n",
        "idades = []\n",
        "\n",
        "for i in range(4):\n",
        "  idades.append(int(input(\"Digite a idade: \")))\n",
        "\n",
        "media = sum(idades)/len(idades)\n",
        "maior = max(idades)\n",
        "menor = min(idades)\n",
        "\n",
        "print(idades)\n",
        "print(f\"A média das idades é {media}, a maior idade é {maior} e a menor idade é {menor}.\")\n",
        "\n"
      ],
      "metadata": {
        "id": "jgFOxWT724k3"
      },
      "execution_count": null,
      "outputs": []
    }
  ]
}