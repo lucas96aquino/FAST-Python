{
  "nbformat": 4,
  "nbformat_minor": 0,
  "metadata": {
    "colab": {
      "provenance": [],
      "authorship_tag": "ABX9TyNuxp0fYRWVZ6TLM0wTMQaX"
    },
    "kernelspec": {
      "name": "python3",
      "display_name": "Python 3"
    },
    "language_info": {
      "name": "python"
    }
  },
  "cells": [
    {
      "cell_type": "code",
      "execution_count": 6,
      "metadata": {
        "colab": {
          "base_uri": "https://localhost:8080/"
        },
        "id": "_O0dXGR2Wn2P",
        "outputId": "11da66d9-b03c-41e5-c514-d21497d0a980"
      },
      "outputs": [
        {
          "output_type": "stream",
          "name": "stdout",
          "text": [
            "Digite o serviço desejado: [1] Banho [2] Tosa [3] Banho e Tosa [4] Outros1\n",
            "Digite o serviço desejado: [1] Banho [2] Tosa [3] Banho e Tosa [4] Outros1\n",
            "Digite o serviço desejado: [1] Banho [2] Tosa [3] Banho e Tosa [4] Outros1\n",
            "Digite o serviço desejado: [1] Banho [2] Tosa [3] Banho e Tosa [4] Outros2\n",
            "Digite o serviço desejado: [1] Banho [2] Tosa [3] Banho e Tosa [4] Outros1\n",
            "O total de serviços de banho é 4, o total de serviços para Tosa é 1, o total de serviços para banho e tosa é 0 e o total de outros serviços é 0.\n"
          ]
        }
      ],
      "source": [
        "contBanho = 0\n",
        "contTosa = 0\n",
        "contBanhoTosa = 0\n",
        "contOutros = 0\n",
        "\n",
        "for i in range(5):\n",
        "  servico = input(\"Digite o serviço desejado: [1] Banho [2] Tosa [3] Banho e Tosa [4] Outros\")\n",
        "  if servico == \"1\":\n",
        "    contBanho += 1\n",
        "  elif servico == \"2\":\n",
        "    contTosa += 1\n",
        "  elif servico == \"3\":\n",
        "    contBanhoTosa += 1\n",
        "  elif servico == \"4\":\n",
        "    contOutros += 1\n",
        "\n",
        "print(f\"O total de serviços de banho é {contBanho}, o total de serviços para Tosa é {contTosa}, o total de serviços para banho e tosa é {contBanhoTosa} e o total de outros serviços é {contOutros}.\")"
      ]
    }
  ]
}