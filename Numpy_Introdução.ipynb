{
  "nbformat": 4,
  "nbformat_minor": 0,
  "metadata": {
    "colab": {
      "provenance": [],
      "authorship_tag": "ABX9TyMUh3olvnQNztZwPyP+emIa"
    },
    "kernelspec": {
      "name": "python3",
      "display_name": "Python 3"
    },
    "language_info": {
      "name": "python"
    }
  },
  "cells": [
    {
      "cell_type": "code",
      "execution_count": null,
      "metadata": {
        "id": "1E-tFgl8ovEX"
      },
      "outputs": [],
      "source": [
        "# IMPORTAR A LIB\n",
        "\n",
        "import numpy as np"
      ]
    },
    {
      "cell_type": "code",
      "source": [
        "# Versão da documentação\n",
        "\n",
        "print(np.__version__)"
      ],
      "metadata": {
        "colab": {
          "base_uri": "https://localhost:8080/"
        },
        "id": "pVUpkLyYpB_y",
        "outputId": "a35a7ff6-1aa0-4d1d-aa1f-1da91d62348b"
      },
      "execution_count": null,
      "outputs": [
        {
          "output_type": "stream",
          "name": "stdout",
          "text": [
            "1.23.5\n"
          ]
        }
      ]
    },
    {
      "cell_type": "code",
      "source": [
        "# CRIAR UMA MATRIZ\n",
        "\n",
        "Array = np.array([10, 20, 30, 40, 50])"
      ],
      "metadata": {
        "id": "KROwQ8dxpIf9"
      },
      "execution_count": null,
      "outputs": []
    },
    {
      "cell_type": "code",
      "source": [
        "Array"
      ],
      "metadata": {
        "colab": {
          "base_uri": "https://localhost:8080/"
        },
        "id": "6QZEABwupRaX",
        "outputId": "577a8b32-79ae-4598-b659-13ab0fc13c6f"
      },
      "execution_count": null,
      "outputs": [
        {
          "output_type": "execute_result",
          "data": {
            "text/plain": [
              "array([10, 20, 30, 40, 50])"
            ]
          },
          "metadata": {},
          "execution_count": 5
        }
      ]
    },
    {
      "cell_type": "code",
      "source": [
        "type(Array)"
      ],
      "metadata": {
        "colab": {
          "base_uri": "https://localhost:8080/"
        },
        "id": "PXHcwjfVpXBL",
        "outputId": "fddeda5c-cad6-46da-cb28-7aabd81b16cf"
      },
      "execution_count": null,
      "outputs": [
        {
          "output_type": "execute_result",
          "data": {
            "text/plain": [
              "numpy.ndarray"
            ]
          },
          "metadata": {},
          "execution_count": 7
        }
      ]
    },
    {
      "cell_type": "code",
      "source": [
        "# MATRIZ COM DUAS DIMENSÕES - array 2d\n",
        "\n",
        "duasDimensoes = np.array(\n",
        "              [[10, 9, 8, 7, 8],\n",
        "              [5, 4, 3, 2, 1]]\n",
        ")\n",
        "\n",
        "print(duasDimensoes)"
      ],
      "metadata": {
        "colab": {
          "base_uri": "https://localhost:8080/"
        },
        "id": "hfHQCS8BpZCh",
        "outputId": "9d3a98aa-970d-40c2-ad08-3101e6d38d28"
      },
      "execution_count": null,
      "outputs": [
        {
          "output_type": "stream",
          "name": "stdout",
          "text": [
            "[[10  9  8  7  8]\n",
            " [ 5  4  3  2  1]]\n"
          ]
        }
      ]
    },
    {
      "cell_type": "code",
      "source": [
        "tresDimensoes = np.array([\n",
        "    [15, 14, 13, 12, 11],\n",
        "    [10, 9, 8, 7, 6],\n",
        "    [5, 4, 3, 2, 1]\n",
        "])\n",
        "\n",
        "print(tresDimensoes)"
      ],
      "metadata": {
        "colab": {
          "base_uri": "https://localhost:8080/"
        },
        "id": "w0V0tZEkptgQ",
        "outputId": "c090a27e-0145-45c6-9dad-effd8169fcd3"
      },
      "execution_count": null,
      "outputs": [
        {
          "output_type": "stream",
          "name": "stdout",
          "text": [
            "[[15 14 13 12 11]\n",
            " [10  9  8  7  6]\n",
            " [ 5  4  3  2  1]]\n"
          ]
        }
      ]
    },
    {
      "cell_type": "code",
      "source": [
        "# Experimento de Processamento\n",
        "\n",
        "Estressando_NP = np.arange(10)\n",
        "Estressando_NP_02 = np.arange(3)\n",
        "\n",
        "print(Estressando_NP, Estressando_NP_02)"
      ],
      "metadata": {
        "colab": {
          "base_uri": "https://localhost:8080/"
        },
        "id": "WYp8BgHyp_8_",
        "outputId": "2b0b4b49-f89e-4456-fd06-d95fe54d304c"
      },
      "execution_count": null,
      "outputs": [
        {
          "output_type": "stream",
          "name": "stdout",
          "text": [
            "[0 1 2 3 4 5 6 7 8 9] [0 1 2]\n"
          ]
        }
      ]
    },
    {
      "cell_type": "code",
      "source": [
        "# Acessar os arrays\n",
        "\n",
        "# Acessar a 1º posição\n",
        "\n",
        "Array[0]\n",
        "\n",
        "# Acessar a última posição\n",
        "\n",
        "Array[-1]"
      ],
      "metadata": {
        "colab": {
          "base_uri": "https://localhost:8080/"
        },
        "id": "YEWSZBfnq8zE",
        "outputId": "ea4626a4-8547-4f21-e158-c82e59214bc2"
      },
      "execution_count": null,
      "outputs": [
        {
          "output_type": "execute_result",
          "data": {
            "text/plain": [
              "50"
            ]
          },
          "metadata": {},
          "execution_count": 21
        }
      ]
    },
    {
      "cell_type": "code",
      "source": [
        "# Acessar a última posição\n",
        "\n",
        "Array[-1]"
      ],
      "metadata": {
        "id": "GKFxfRnosXZS"
      },
      "execution_count": null,
      "outputs": []
    },
    {
      "cell_type": "code",
      "source": [
        "# Acessar o Range\n",
        "\n",
        "Array[2:]"
      ],
      "metadata": {
        "colab": {
          "base_uri": "https://localhost:8080/"
        },
        "id": "Xpp6UA7Lsi8v",
        "outputId": "bfea3363-69dc-4fd3-b153-b6d6fe3ac041"
      },
      "execution_count": null,
      "outputs": [
        {
          "output_type": "execute_result",
          "data": {
            "text/plain": [
              "array([30, 40, 50])"
            ]
          },
          "metadata": {},
          "execution_count": 22
        }
      ]
    },
    {
      "cell_type": "code",
      "source": [
        "# Operações\n",
        "\n",
        "Array [0] + Array [1]"
      ],
      "metadata": {
        "colab": {
          "base_uri": "https://localhost:8080/"
        },
        "id": "RZ26wuCJsmXg",
        "outputId": "d5895bb4-1238-4129-9e0b-7505dffe8fd2"
      },
      "execution_count": null,
      "outputs": [
        {
          "output_type": "execute_result",
          "data": {
            "text/plain": [
              "30"
            ]
          },
          "metadata": {},
          "execution_count": 23
        }
      ]
    },
    {
      "cell_type": "code",
      "source": [
        "# Condições\n",
        "\n",
        "Array[0] == Array[1]"
      ],
      "metadata": {
        "colab": {
          "base_uri": "https://localhost:8080/"
        },
        "id": "Le40zccystrT",
        "outputId": "65055424-cd5f-4360-f19b-c733e0cb3049"
      },
      "execution_count": null,
      "outputs": [
        {
          "output_type": "execute_result",
          "data": {
            "text/plain": [
              "False"
            ]
          },
          "metadata": {},
          "execution_count": 24
        }
      ]
    },
    {
      "cell_type": "code",
      "source": [
        "Array[2] < Array[3]"
      ],
      "metadata": {
        "colab": {
          "base_uri": "https://localhost:8080/"
        },
        "id": "QepHA146s9mF",
        "outputId": "96865f74-5b50-4b19-fc87-0b1a29c9be02"
      },
      "execution_count": null,
      "outputs": [
        {
          "output_type": "execute_result",
          "data": {
            "text/plain": [
              "True"
            ]
          },
          "metadata": {},
          "execution_count": 25
        }
      ]
    },
    {
      "cell_type": "code",
      "source": [
        "Array.shape"
      ],
      "metadata": {
        "colab": {
          "base_uri": "https://localhost:8080/"
        },
        "id": "uHS6XUAds_xw",
        "outputId": "0c04b68d-2e73-4e15-9332-11d0e9ff077b"
      },
      "execution_count": null,
      "outputs": [
        {
          "output_type": "execute_result",
          "data": {
            "text/plain": [
              "(5,)"
            ]
          },
          "metadata": {},
          "execution_count": 26
        }
      ]
    },
    {
      "cell_type": "code",
      "source": [
        "#  3 DIMENSÕES, 5 REGISTROS\n",
        "\n",
        "tresDimensoes.shape"
      ],
      "metadata": {
        "colab": {
          "base_uri": "https://localhost:8080/"
        },
        "id": "BPaH5-lhtIQg",
        "outputId": "b437d454-d053-4b1b-926a-1fa1c965195c"
      },
      "execution_count": null,
      "outputs": [
        {
          "output_type": "execute_result",
          "data": {
            "text/plain": [
              "(3, 5)"
            ]
          },
          "metadata": {},
          "execution_count": 27
        }
      ]
    },
    {
      "cell_type": "code",
      "source": [
        "# Loop\n",
        "\n",
        "for Loop in Array:\n",
        "  print(Loop)"
      ],
      "metadata": {
        "colab": {
          "base_uri": "https://localhost:8080/"
        },
        "id": "sJElY2GFtLC5",
        "outputId": "903e24ff-f614-4bdc-9e35-6c41038ea65d"
      },
      "execution_count": null,
      "outputs": [
        {
          "output_type": "stream",
          "name": "stdout",
          "text": [
            "10\n",
            "20\n",
            "30\n",
            "40\n",
            "50\n"
          ]
        }
      ]
    },
    {
      "cell_type": "code",
      "source": [
        "for Loop in duasDimensoes:\n",
        "  for interno in Loop:\n",
        "    print(interno)"
      ],
      "metadata": {
        "colab": {
          "base_uri": "https://localhost:8080/"
        },
        "id": "k_e691Bntf9Y",
        "outputId": "f4669eb4-2a5e-4dc1-8879-892da1ffde4c"
      },
      "execution_count": null,
      "outputs": [
        {
          "output_type": "stream",
          "name": "stdout",
          "text": [
            "10\n",
            "9\n",
            "8\n",
            "7\n",
            "8\n",
            "5\n",
            "4\n",
            "3\n",
            "2\n",
            "1\n"
          ]
        }
      ]
    },
    {
      "cell_type": "code",
      "source": [
        "tresDimensoes = np.array([\n",
        "    [15, 14, 13, 12, 11],\n",
        "    [10, 9, 8, 7, 6],\n",
        "    [5, 4, 3, 2, 1]\n",
        "])\n",
        "\n",
        "print(tresDimensoes)\n",
        "print(\"dimensoes: \", tresDimensoes.shape)"
      ],
      "metadata": {
        "id": "QdXqqIrctknH",
        "colab": {
          "base_uri": "https://localhost:8080/"
        },
        "outputId": "781fa406-971b-43d7-f95c-d0ea0412bedb"
      },
      "execution_count": null,
      "outputs": [
        {
          "output_type": "stream",
          "name": "stdout",
          "text": [
            "[[15 14 13 12 11]\n",
            " [10  9  8  7  6]\n",
            " [ 5  4  3  2  1]]\n",
            "dimensoes:  (3, 5)\n"
          ]
        }
      ]
    },
    {
      "cell_type": "code",
      "source": [
        "# fatiando array\n",
        "\n",
        "tresDimensoes = np.array([\n",
        "    [15, 14, 13, 12, 11],\n",
        "    [10, 9, 8, 7, 6],\n",
        "    [5, 4, 3, 2, 1]\n",
        "])\n",
        "\n",
        "# O PRIMEIRO ÍNDICE [1:3] É REFERENTE AS LINHAS, O SEGUNDO [1:4] É REFERENTE AS COLUNAS\n",
        "\n",
        "print(tresDimensoes[1:3, 1:4])"
      ],
      "metadata": {
        "colab": {
          "base_uri": "https://localhost:8080/"
        },
        "id": "T62_yTX0tH4F",
        "outputId": "9a5536f9-5a2e-49c2-8348-47b4855029fc"
      },
      "execution_count": null,
      "outputs": [
        {
          "output_type": "stream",
          "name": "stdout",
          "text": [
            "[[9 8 7]\n",
            " [4 3 2]]\n"
          ]
        }
      ]
    },
    {
      "cell_type": "code",
      "source": [
        "# fatiando array\n",
        "\n",
        "tresDimensoes = np.array([\n",
        "    [15, 14, 13, 12, 11],\n",
        "    [10, 9, 8, 7, 6],\n",
        "    [5, 4, 3, 2, 1]\n",
        "])\n",
        "\n",
        "# O PRIMEIRO ÍNDICE [1] É REFERENTE AS LINHAS, O SEGUNDO [1:4] É REFERENTE AS COLUNAS\n",
        "# O 4 É A PARADA E NÃO É EXIBIDO\n",
        "\n",
        "print(tresDimensoes[1, 1:4])"
      ],
      "metadata": {
        "colab": {
          "base_uri": "https://localhost:8080/"
        },
        "id": "JYgI2Fcatd42",
        "outputId": "a2e35179-3b31-4554-ad9d-60cbc1de5273"
      },
      "execution_count": null,
      "outputs": [
        {
          "output_type": "stream",
          "name": "stdout",
          "text": [
            "[9 8 7]\n"
          ]
        }
      ]
    },
    {
      "cell_type": "code",
      "source": [
        "# fatiando array\n",
        "# SUBAMOSTRAGEM, LINHAS PARES\n",
        "# E COLUNAS IMPARES\n",
        "\n",
        "tresDimensoes = np.array([\n",
        "    [15, 14, 13, 12, 11],\n",
        "    [10, 9, 8, 7, 6],\n",
        "    [5, 4, 3, 2, 1]\n",
        "])\n",
        "\n",
        "# O PRIMEIRO ÍNDICE [1] É REFERENTE AS LINHAS, O SEGUNDO [1:4] É REFERENTE AS COLUNAS\n",
        "# O 4 É A PARADA E NÃO É EXIBIDO\n",
        "\n",
        "print(tresDimensoes[::2,1::2])"
      ],
      "metadata": {
        "colab": {
          "base_uri": "https://localhost:8080/"
        },
        "id": "cfbUzzb3u51h",
        "outputId": "e2282b7c-5e6d-4c4e-bceb-3f1b6347c300"
      },
      "execution_count": null,
      "outputs": [
        {
          "output_type": "stream",
          "name": "stdout",
          "text": [
            "[[14 12]\n",
            " [ 4  2]]\n"
          ]
        }
      ]
    },
    {
      "cell_type": "code",
      "source": [
        "# fatiando array\n",
        "# SELECIONANDO A COLUNA\n",
        "\n",
        "tresDimensoes = np.array([\n",
        "    [15, 14, 13, 12, 11],\n",
        "    [10, 9, 8, 7, 6],\n",
        "    [5, 4, 3, 2, 1]\n",
        "])\n",
        "\n",
        "# ATRAVÉS DO COMANDO [:, 3] ELE VAI RETORNAR TODOS OS ITENS DA COLUNA 3\n",
        "\n",
        "print(tresDimensoes[:, 3])"
      ],
      "metadata": {
        "colab": {
          "base_uri": "https://localhost:8080/"
        },
        "id": "5dg-YJWJvBgS",
        "outputId": "26fe84d9-d7aa-4147-c812-cc62a52537d1"
      },
      "execution_count": null,
      "outputs": [
        {
          "output_type": "stream",
          "name": "stdout",
          "text": [
            "[12  7  2]\n"
          ]
        }
      ]
    },
    {
      "cell_type": "code",
      "source": [
        "# fatiando array\n",
        "# espelhamento\n",
        "\n",
        "tresDimensoes = np.array([\n",
        "    [15, 14, 13, 12, 11],\n",
        "    [10, 9, 8, 7, 6],\n",
        "    [5, 4, 3, 2, 1]\n",
        "])\n",
        "\n",
        "#horizontal\n",
        "print(tresDimensoes[:,::-1])\n",
        "#vertical\n",
        "print(tresDimensoes[::-1,:])"
      ],
      "metadata": {
        "colab": {
          "base_uri": "https://localhost:8080/"
        },
        "id": "0Q9gpV8awKH7",
        "outputId": "813db4f7-7c22-4e33-f731-b0f0ceb088d8"
      },
      "execution_count": null,
      "outputs": [
        {
          "output_type": "stream",
          "name": "stdout",
          "text": [
            "[[11 12 13 14 15]\n",
            " [ 6  7  8  9 10]\n",
            " [ 1  2  3  4  5]]\n",
            "[[ 5  4  3  2  1]\n",
            " [10  9  8  7  6]\n",
            " [15 14 13 12 11]]\n"
          ]
        }
      ]
    },
    {
      "cell_type": "code",
      "source": [],
      "metadata": {
        "id": "a-BRJLk6wYXJ"
      },
      "execution_count": null,
      "outputs": []
    }
  ]
}