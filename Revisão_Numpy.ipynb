{
  "nbformat": 4,
  "nbformat_minor": 0,
  "metadata": {
    "colab": {
      "provenance": [],
      "authorship_tag": "ABX9TyM+c7tfPNRy9yBzf6VvkVLq"
    },
    "kernelspec": {
      "name": "python3",
      "display_name": "Python 3"
    },
    "language_info": {
      "name": "python"
    }
  },
  "cells": [
    {
      "cell_type": "code",
      "execution_count": null,
      "metadata": {
        "colab": {
          "base_uri": "https://localhost:8080/"
        },
        "id": "c1QB2iDRw5Hh",
        "outputId": "1e288d89-4089-4501-cc9c-77229d6883fd"
      },
      "outputs": [
        {
          "output_type": "stream",
          "name": "stdout",
          "text": [
            "[0.2  0.33 0.43 0.5 ]\n"
          ]
        }
      ],
      "source": [
        "# O ARRAY É UM CONJUNTO DE DADOS DO MESMO TIPO.\n",
        "\n",
        "import numpy as np\n",
        "\n",
        "arr1 = np.array([1,2,3,4])\n",
        "arr2 = np.array([5,6,7,8])\n",
        "\n",
        "# SOMA\n",
        "divisao = arr1 / arr2\n",
        "print(np.round(divisao,2))\n"
      ]
    },
    {
      "cell_type": "code",
      "source": [
        "# EXERCÍCIO 1\n",
        "\n",
        "import numpy as np\n",
        "\n",
        "notas = np.array([8.5, 7.0, 5.6, 6.5, 8.0, 10.0, 1.0])\n",
        "media_notas = np.mean(notas)\n",
        "print(np.round(media_notas,1))"
      ],
      "metadata": {
        "colab": {
          "base_uri": "https://localhost:8080/"
        },
        "id": "Id0mb0IFz5D4",
        "outputId": "a1abf1ae-4712-4c1c-9d12-ba3c05051948"
      },
      "execution_count": null,
      "outputs": [
        {
          "output_type": "stream",
          "name": "stdout",
          "text": [
            "6.7\n"
          ]
        }
      ]
    },
    {
      "cell_type": "code",
      "source": [
        "# EXERCÍCIO 3\n",
        "\n",
        "import numpy as np\n",
        "\n",
        "notas = []\n",
        "\n",
        "for i in range(5):\n",
        "  nota = float(input(\"Digite uma nota: \"))\n",
        "  notas.append(nota)\n",
        "\n",
        "# Converter a lista em array\n",
        "notas = np.array(notas)\n",
        "\n",
        "# calcular media\n",
        "media = np.mean(notas[:3])\n",
        "nota_acima_sete = notas[notas > 7]\n",
        "\n",
        "print(f\"A média dos 3 primeiros alunos é {np.round(media,2)} e as notas acima de 7 são {nota_acima_sete}\")"
      ],
      "metadata": {
        "colab": {
          "base_uri": "https://localhost:8080/"
        },
        "id": "kNqUgQp52Pzx",
        "outputId": "c9c25d55-7d6f-4ad0-d45c-1dd2e5844ea7"
      },
      "execution_count": null,
      "outputs": [
        {
          "output_type": "stream",
          "name": "stdout",
          "text": [
            "Digite uma nota: 10\n",
            "Digite uma nota: 7\n",
            "Digite uma nota: 5\n",
            "Digite uma nota: 4\n",
            "Digite uma nota: 2\n",
            "A média dos 3 primeiros alunos é 7.33 e as notas acima de 7 são [10.]\n"
          ]
        }
      ]
    },
    {
      "cell_type": "code",
      "source": [],
      "metadata": {
        "id": "Ltw6RPOM4jUH"
      },
      "execution_count": null,
      "outputs": []
    }
  ]
}