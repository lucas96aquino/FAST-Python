{
  "nbformat": 4,
  "nbformat_minor": 0,
  "metadata": {
    "colab": {
      "provenance": [],
      "authorship_tag": "ABX9TyNEV8HDS3cFrbUGzsUa66xd"
    },
    "kernelspec": {
      "name": "python3",
      "display_name": "Python 3"
    },
    "language_info": {
      "name": "python"
    }
  },
  "cells": [
    {
      "cell_type": "code",
      "execution_count": null,
      "metadata": {
        "colab": {
          "base_uri": "https://localhost:8080/",
          "height": 35
        },
        "id": "VsRJu5b6xauv",
        "outputId": "523ac6a5-2105-4f43-9173-80bbba3d8938"
      },
      "outputs": [
        {
          "output_type": "execute_result",
          "data": {
            "text/plain": [
              "'VdoPto'"
            ],
            "application/vnd.google.colaboratory.intrinsic+json": {
              "type": "string"
            }
          },
          "metadata": {},
          "execution_count": 4
        }
      ],
      "source": [
        "# FATIAMENTO DE STRING\n",
        "# O ÚLTIMO VALOR, O 13, NÃO ENTRA NA CONTAGEM\n",
        "\n",
        "frase = \"Curso em Vídeo Python\"\n",
        "\n",
        "frase[9:13]\n",
        "frase[9:21]\n"
      ]
    },
    {
      "cell_type": "code",
      "source": [
        "# PULANDO DE DOIS EM DOIS\n",
        "\n",
        "frase = \"Curso em Vídeo Python\"\n",
        "frase[9:21:2]"
      ],
      "metadata": {
        "colab": {
          "base_uri": "https://localhost:8080/",
          "height": 35
        },
        "id": "DSLaK0QMxgAh",
        "outputId": "e3019c91-e419-4024-e8b4-c741e2179761"
      },
      "execution_count": null,
      "outputs": [
        {
          "output_type": "execute_result",
          "data": {
            "text/plain": [
              "'VdoPto'"
            ],
            "application/vnd.google.colaboratory.intrinsic+json": {
              "type": "string"
            }
          },
          "metadata": {},
          "execution_count": 5
        }
      ]
    },
    {
      "cell_type": "code",
      "source": [
        "# ESTABELECENDO UM LIMITE ONDE VAI TERMINAR\n",
        "\n",
        "frase = \"Curso em Vídeo Python\"\n",
        "frase[:5]"
      ],
      "metadata": {
        "colab": {
          "base_uri": "https://localhost:8080/",
          "height": 35
        },
        "id": "P77OJ94ox8Nw",
        "outputId": "444e56a6-fa07-4dff-f0ea-f1df580e581c"
      },
      "execution_count": null,
      "outputs": [
        {
          "output_type": "execute_result",
          "data": {
            "text/plain": [
              "'Curso'"
            ],
            "application/vnd.google.colaboratory.intrinsic+json": {
              "type": "string"
            }
          },
          "metadata": {},
          "execution_count": 6
        }
      ]
    },
    {
      "cell_type": "code",
      "source": [
        "# ESTABELECENDO O INDEX QUE COMEÇA\n",
        "\n",
        "frase = \"Curso em Vídeo Python\"\n",
        "frase[15:]"
      ],
      "metadata": {
        "colab": {
          "base_uri": "https://localhost:8080/",
          "height": 35
        },
        "id": "Jt6fEU6FyAuB",
        "outputId": "859413aa-07c0-4de7-e927-e9f582697f8a"
      },
      "execution_count": null,
      "outputs": [
        {
          "output_type": "execute_result",
          "data": {
            "text/plain": [
              "'Python'"
            ],
            "application/vnd.google.colaboratory.intrinsic+json": {
              "type": "string"
            }
          },
          "metadata": {},
          "execution_count": 7
        }
      ]
    },
    {
      "cell_type": "code",
      "source": [
        "# ESTABELECENDO O INDEX QUE COMEÇA\n",
        "\n",
        "frase = \"Curso em Vídeo Python\"\n",
        "frase[9::3]"
      ],
      "metadata": {
        "colab": {
          "base_uri": "https://localhost:8080/",
          "height": 35
        },
        "id": "NtCxRaMtyRkr",
        "outputId": "f145396e-aee6-49bc-f5bd-8b1858a15413"
      },
      "execution_count": null,
      "outputs": [
        {
          "output_type": "execute_result",
          "data": {
            "text/plain": [
              "'VePh'"
            ],
            "application/vnd.google.colaboratory.intrinsic+json": {
              "type": "string"
            }
          },
          "metadata": {},
          "execution_count": 8
        }
      ]
    },
    {
      "cell_type": "code",
      "source": [
        "# ANÁLISE DE STRING\n",
        "\n",
        "# COMPRIMENTO DA FRASE\n",
        "len(frase)\n",
        "\n"
      ],
      "metadata": {
        "colab": {
          "base_uri": "https://localhost:8080/"
        },
        "id": "zXOevOj3yjFM",
        "outputId": "a299a839-3ce1-4862-9fd9-2a6d886af1e0"
      },
      "execution_count": null,
      "outputs": [
        {
          "output_type": "execute_result",
          "data": {
            "text/plain": [
              "3"
            ]
          },
          "metadata": {},
          "execution_count": 10
        }
      ]
    },
    {
      "cell_type": "code",
      "source": [
        "# CONTAR UM CARACTERE\n",
        "\n",
        "frase.count('o')\n",
        "\n"
      ],
      "metadata": {
        "colab": {
          "base_uri": "https://localhost:8080/"
        },
        "id": "uZhoMljnyp47",
        "outputId": "28e8c4a4-5d91-47d4-ef5b-28c133dcc7d1"
      },
      "execution_count": null,
      "outputs": [
        {
          "output_type": "execute_result",
          "data": {
            "text/plain": [
              "3"
            ]
          },
          "metadata": {},
          "execution_count": 11
        }
      ]
    },
    {
      "cell_type": "code",
      "source": [
        "# CONTAR UM CARACTERE\n",
        "# CONTANDO ATÉ O CARACTERE 13\n",
        "\n",
        "frase.count('o', 0, 13)\n"
      ],
      "metadata": {
        "colab": {
          "base_uri": "https://localhost:8080/"
        },
        "id": "cSBZEj_Sy3cl",
        "outputId": "a0019766-237a-4f56-cc75-9d6d117ed489"
      },
      "execution_count": null,
      "outputs": [
        {
          "output_type": "execute_result",
          "data": {
            "text/plain": [
              "1"
            ]
          },
          "metadata": {},
          "execution_count": 12
        }
      ]
    },
    {
      "cell_type": "code",
      "source": [
        "# FIND\n",
        "# VAI DIZER EM QUE MOMENTO COMEÇOU O 'DEO'\n",
        "\n",
        "print(frase)\n",
        "frase.find(\"deo\")"
      ],
      "metadata": {
        "colab": {
          "base_uri": "https://localhost:8080/"
        },
        "id": "KrseED-SzQKE",
        "outputId": "31b7c3b6-e9e4-4c8e-e1ad-efa4d75140f8"
      },
      "execution_count": null,
      "outputs": [
        {
          "output_type": "stream",
          "name": "stdout",
          "text": [
            "Curso em Vídeo Python\n"
          ]
        },
        {
          "output_type": "execute_result",
          "data": {
            "text/plain": [
              "11"
            ]
          },
          "metadata": {},
          "execution_count": 14
        }
      ]
    },
    {
      "cell_type": "code",
      "source": [
        "# ELE VAI RETORNAR A POSIÇÃO -1 QUANDO UMA STRING NAO EXISTE\n",
        "\n",
        "frase.find(\"Android\")"
      ],
      "metadata": {
        "colab": {
          "base_uri": "https://localhost:8080/"
        },
        "id": "LvzXT0TizYHo",
        "outputId": "d94b6d90-8596-40e6-8dd7-1d90fe6cd4a8"
      },
      "execution_count": null,
      "outputs": [
        {
          "output_type": "execute_result",
          "data": {
            "text/plain": [
              "-1"
            ]
          },
          "metadata": {},
          "execution_count": 17
        }
      ]
    },
    {
      "cell_type": "code",
      "source": [
        "# RESPONDENDO SE UMA PALAVRA ESTÁ NA CADEIA/VARIAVEL\n",
        "\n",
        "\"Curso\" in frase"
      ],
      "metadata": {
        "colab": {
          "base_uri": "https://localhost:8080/"
        },
        "id": "ISiVyLbgz2sC",
        "outputId": "9056bc34-9860-455a-8f9b-4e0254e3529a"
      },
      "execution_count": null,
      "outputs": [
        {
          "output_type": "execute_result",
          "data": {
            "text/plain": [
              "True"
            ]
          },
          "metadata": {},
          "execution_count": 18
        }
      ]
    },
    {
      "cell_type": "code",
      "source": [
        "# TRANSFORMAÇÃO\n",
        "\n",
        "frase.replace(\"Python\", \"Android\")\n"
      ],
      "metadata": {
        "colab": {
          "base_uri": "https://localhost:8080/",
          "height": 35
        },
        "id": "G6UtqCnD0IgL",
        "outputId": "60f2a925-d054-495a-809d-483896ef5f10"
      },
      "execution_count": null,
      "outputs": [
        {
          "output_type": "execute_result",
          "data": {
            "text/plain": [
              "'Curso em Vídeo Android'"
            ],
            "application/vnd.google.colaboratory.intrinsic+json": {
              "type": "string"
            }
          },
          "metadata": {},
          "execution_count": 21
        }
      ]
    },
    {
      "cell_type": "code",
      "source": [
        "# UPPER\n",
        "# DEIXAR TODAS AS LETRAS MAIUSCULAS\n",
        "\n",
        "frase.upper()"
      ],
      "metadata": {
        "colab": {
          "base_uri": "https://localhost:8080/",
          "height": 35
        },
        "id": "KKm_7aPo0Vob",
        "outputId": "b8082653-9710-43d1-b566-bdc941564437"
      },
      "execution_count": null,
      "outputs": [
        {
          "output_type": "execute_result",
          "data": {
            "text/plain": [
              "'CURSO EM VÍDEO PYTHON'"
            ],
            "application/vnd.google.colaboratory.intrinsic+json": {
              "type": "string"
            }
          },
          "metadata": {},
          "execution_count": 23
        }
      ]
    },
    {
      "cell_type": "code",
      "source": [
        "# LOWER\n",
        "# Substitui tudo que tá em maiúsculo para minusculo\n",
        "\n",
        "frase.lower()"
      ],
      "metadata": {
        "colab": {
          "base_uri": "https://localhost:8080/",
          "height": 35
        },
        "id": "uOQ7zIZC0mMW",
        "outputId": "fd923659-e0d1-4db1-f2f3-fdc0040b4b25"
      },
      "execution_count": null,
      "outputs": [
        {
          "output_type": "execute_result",
          "data": {
            "text/plain": [
              "'curso em vídeo python'"
            ],
            "application/vnd.google.colaboratory.intrinsic+json": {
              "type": "string"
            }
          },
          "metadata": {},
          "execution_count": 24
        }
      ]
    },
    {
      "cell_type": "code",
      "source": [
        "# CAPITALIZE\n",
        "# Todos os caracteres para minúsculo, exceto o primeiro\n",
        "\n",
        "frase.capitalize()"
      ],
      "metadata": {
        "colab": {
          "base_uri": "https://localhost:8080/",
          "height": 35
        },
        "id": "2l3qiK6Q05AX",
        "outputId": "78b109bb-c7c4-4d2f-cfe6-eb6d06e59305"
      },
      "execution_count": null,
      "outputs": [
        {
          "output_type": "execute_result",
          "data": {
            "text/plain": [
              "'Curso em vídeo python'"
            ],
            "application/vnd.google.colaboratory.intrinsic+json": {
              "type": "string"
            }
          },
          "metadata": {},
          "execution_count": 25
        }
      ]
    },
    {
      "cell_type": "code",
      "source": [
        "# TITLE\n",
        "# Analisa quantas palavras tem na string, fazendo o capitalize palavra por palavra\n",
        "\n",
        "frase.title()"
      ],
      "metadata": {
        "colab": {
          "base_uri": "https://localhost:8080/",
          "height": 35
        },
        "id": "dPtOcgxQ1AiG",
        "outputId": "f08a8dfc-a818-45d8-bdf7-c7a355c8c114"
      },
      "execution_count": null,
      "outputs": [
        {
          "output_type": "execute_result",
          "data": {
            "text/plain": [
              "'Curso Em Vídeo Python'"
            ],
            "application/vnd.google.colaboratory.intrinsic+json": {
              "type": "string"
            }
          },
          "metadata": {},
          "execution_count": 26
        }
      ]
    },
    {
      "cell_type": "code",
      "source": [
        "#STRIP\n",
        "# REMOVE ESPAÇOS EXCESSIVOS NO INÍCIO E NO FINAL\n",
        "\n",
        "frase = \"   Aprenda Python  \"\n",
        "frase.strip()"
      ],
      "metadata": {
        "colab": {
          "base_uri": "https://localhost:8080/",
          "height": 35
        },
        "id": "N8DapnK11J7S",
        "outputId": "deefcd3d-715b-45bb-ba4b-0931228f7b57"
      },
      "execution_count": null,
      "outputs": [
        {
          "output_type": "execute_result",
          "data": {
            "text/plain": [
              "'Aprenda Python'"
            ],
            "application/vnd.google.colaboratory.intrinsic+json": {
              "type": "string"
            }
          },
          "metadata": {},
          "execution_count": 27
        }
      ]
    },
    {
      "cell_type": "code",
      "source": [
        "# RSTRIP\n",
        "# Remove os espaços do lado direito\n",
        "\n",
        "frase.rstrip()"
      ],
      "metadata": {
        "colab": {
          "base_uri": "https://localhost:8080/",
          "height": 35
        },
        "id": "PYBol9yT1Yqm",
        "outputId": "360d7797-2fc3-4012-8fa4-d3aa20ddde2a"
      },
      "execution_count": null,
      "outputs": [
        {
          "output_type": "execute_result",
          "data": {
            "text/plain": [
              "'   Aprenda Python'"
            ],
            "application/vnd.google.colaboratory.intrinsic+json": {
              "type": "string"
            }
          },
          "metadata": {},
          "execution_count": 28
        }
      ]
    },
    {
      "cell_type": "code",
      "source": [
        "# LSTRIP\n",
        "# Remove os espaços do lado esquerdo\n",
        "\n",
        "frase.lstrip()"
      ],
      "metadata": {
        "colab": {
          "base_uri": "https://localhost:8080/",
          "height": 35
        },
        "id": "ZFJyJpe91iUD",
        "outputId": "9d42e434-f969-449b-c33f-833d2b2aa49c"
      },
      "execution_count": null,
      "outputs": [
        {
          "output_type": "execute_result",
          "data": {
            "text/plain": [
              "'Aprenda Python  '"
            ],
            "application/vnd.google.colaboratory.intrinsic+json": {
              "type": "string"
            }
          },
          "metadata": {},
          "execution_count": 29
        }
      ]
    },
    {
      "cell_type": "code",
      "source": [
        "# DIVIDIR STRINGS\n",
        "# SPLIT\n",
        "# Divide a string entre os espaços, colocando-o dentro de uma lista.\n",
        "\n",
        "frase = \"Curso em Vídeo Python\"\n",
        "frase.split()"
      ],
      "metadata": {
        "colab": {
          "base_uri": "https://localhost:8080/"
        },
        "id": "1YZyGblW1mDX",
        "outputId": "be141569-9a83-4572-eb78-c0e4f1e2ea95"
      },
      "execution_count": null,
      "outputs": [
        {
          "output_type": "execute_result",
          "data": {
            "text/plain": [
              "['Curso', 'em', 'Vídeo', 'Python']"
            ]
          },
          "metadata": {},
          "execution_count": 30
        }
      ]
    },
    {
      "cell_type": "code",
      "source": [
        "# JUNTAR\n",
        "# JOIN\n",
        "# Divide a string entre os espaços, colocando-o dentro de uma lista.\n",
        "\n",
        "frase = \"Curso em Vídeo Python\"\n",
        "frase.split()\n",
        "\"-\".join(frase)"
      ],
      "metadata": {
        "colab": {
          "base_uri": "https://localhost:8080/"
        },
        "id": "n07WP81H10kn",
        "outputId": "82d7bdfc-520c-40c5-f617-34b4d01fcd8f"
      },
      "execution_count": null,
      "outputs": [
        {
          "output_type": "execute_result",
          "data": {
            "text/plain": [
              "['Curso', 'em', 'Vídeo', 'Python']"
            ]
          },
          "metadata": {},
          "execution_count": 38
        }
      ]
    },
    {
      "cell_type": "code",
      "source": [],
      "metadata": {
        "colab": {
          "base_uri": "https://localhost:8080/",
          "height": 35
        },
        "id": "q2jY4QZw2OgG",
        "outputId": "0d91536c-779b-41ff-8c7e-fcc2068f63bb"
      },
      "execution_count": null,
      "outputs": [
        {
          "output_type": "execute_result",
          "data": {
            "text/plain": [
              "'C-u-r-s-o- -e-m- -V-í-d-e-o- -P-y-t-h-o-n'"
            ],
            "application/vnd.google.colaboratory.intrinsic+json": {
              "type": "string"
            }
          },
          "metadata": {},
          "execution_count": 39
        }
      ]
    },
    {
      "cell_type": "code",
      "source": [
        "frase = \"Curso em Vídeo Python\"\n",
        "\n",
        "print(frase.upper().count(\"O\"))"
      ],
      "metadata": {
        "colab": {
          "base_uri": "https://localhost:8080/"
        },
        "id": "DUrkKET42hlB",
        "outputId": "8cc915bb-df0d-4213-d682-5aa2c55f498c"
      },
      "execution_count": null,
      "outputs": [
        {
          "output_type": "stream",
          "name": "stdout",
          "text": [
            "3\n"
          ]
        }
      ]
    },
    {
      "cell_type": "code",
      "source": [
        "dividido = frase.split()\n",
        "\n",
        "print(dividido[2][3])"
      ],
      "metadata": {
        "colab": {
          "base_uri": "https://localhost:8080/"
        },
        "id": "fxnpXRuq2xhH",
        "outputId": "edf2a2c3-c7a7-472a-e05e-715c8e9850d7"
      },
      "execution_count": null,
      "outputs": [
        {
          "output_type": "stream",
          "name": "stdout",
          "text": [
            "e\n"
          ]
        }
      ]
    },
    {
      "cell_type": "code",
      "source": [
        "nome = str(input(\"Digite seu nome completo: \")).strip()\n",
        "\n",
        "print(\"Analisando seu nome... \")\n",
        "print(\"Seu nome em maiúsculas é: {}\".format(nome.upper()))\n",
        "print(\"Seu nome em minúsculas é: {}\".format(nome.lower()))\n",
        "print(\"Seu nome tem {} letras\".format(len(nome)-nome.count(\" \"))) # A LÓGICA É: A QUANTIDADE DE CARACTERES MENOS A QUANTIDADE DE ESPAÇOS\n",
        "#print(\"Seu primeiro nome tem {} letras\".format(nome.find(\" \")))\n",
        "separa = nome.split()\n",
        "print(separa)\n",
        "print(\"Seu primeiro nome é {} e tem {} letras\".format(separa[0], len(separa[0])))\n",
        "\n",
        "\n"
      ],
      "metadata": {
        "colab": {
          "base_uri": "https://localhost:8080/"
        },
        "id": "T-AS9XXX46cM",
        "outputId": "1c8ceb2d-6551-44a7-9866-c036e7bb4a9e"
      },
      "execution_count": null,
      "outputs": [
        {
          "output_type": "stream",
          "name": "stdout",
          "text": [
            "Digite seu nome completo: Lucas Pereira\n",
            "Analisando seu nome... \n",
            "Seu nome em maiúsculas é: LUCAS PEREIRA\n",
            "Seu nome em minúsculas é: lucas pereira\n",
            "Seu nome tem 12 letras\n",
            "['Lucas', 'Pereira']\n",
            "Seu primeiro nome é Lucas e tem 5 letras\n"
          ]
        }
      ]
    },
    {
      "cell_type": "code",
      "source": [
        "num = int(input(\"Informe um número: \"))\n",
        "u = num / 1\n",
        "print(\"Analisando o número {}...\".format(num))\n",
        "print(\"Unidade: {}\".format())\n",
        "print(\"Dezena: {}\".format())\n",
        "print(\"Centena: {}\".format())\n",
        "print(\"Milhar: {}\".format())"
      ],
      "metadata": {
        "colab": {
          "base_uri": "https://localhost:8080/"
        },
        "id": "jmJjPyMh6E6f",
        "outputId": "3106f3d8-3ae5-48ea-a5fe-bc30cede38d3"
      },
      "execution_count": null,
      "outputs": [
        {
          "output_type": "stream",
          "name": "stdout",
          "text": [
            "Informe um número: 9999\n",
            "Analisando o número 9999...\n",
            "Unidade: 9\n",
            "Dezena: 9\n",
            "Centena: 9\n",
            "Milhar: 9\n"
          ]
        }
      ]
    }
  ]
}