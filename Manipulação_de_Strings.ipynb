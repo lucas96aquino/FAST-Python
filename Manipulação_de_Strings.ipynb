{
  "nbformat": 4,
  "nbformat_minor": 0,
  "metadata": {
    "colab": {
      "provenance": [],
      "authorship_tag": "ABX9TyMi4Vpme3+NqW+CDYJtYA17"
    },
    "kernelspec": {
      "name": "python3",
      "display_name": "Python 3"
    },
    "language_info": {
      "name": "python"
    }
  },
  "cells": [
    {
      "cell_type": "code",
      "execution_count": null,
      "metadata": {
        "colab": {
          "base_uri": "https://localhost:8080/",
          "height": 35
        },
        "id": "yEYXdelaYTXT",
        "outputId": "f0a039f5-bcef-4f48-957f-9cc055045194"
      },
      "outputs": [
        {
          "output_type": "execute_result",
          "data": {
            "text/plain": [
              "'S'"
            ],
            "application/vnd.google.colaboratory.intrinsic+json": {
              "type": "string"
            }
          },
          "metadata": {},
          "execution_count": 1
        }
      ],
      "source": [
        "# TESTES\n",
        "# STRINGS SÃO COMO LISTAS E POSSUEM ÍNDICES. É possível ter acesso aos caractéres\n",
        "# através de suas posições entre [].\n",
        "\n",
        "teste = \"Sorria! Hoje é segunda!\"\n",
        "\n",
        "teste[0]"
      ]
    },
    {
      "cell_type": "code",
      "source": [
        "teste[-1]"
      ],
      "metadata": {
        "colab": {
          "base_uri": "https://localhost:8080/",
          "height": 35
        },
        "id": "IK4DP3VBY6rv",
        "outputId": "bd679514-ce03-460e-dba0-2a5d76299d93"
      },
      "execution_count": null,
      "outputs": [
        {
          "output_type": "execute_result",
          "data": {
            "text/plain": [
              "'!'"
            ],
            "application/vnd.google.colaboratory.intrinsic+json": {
              "type": "string"
            }
          },
          "metadata": {},
          "execution_count": 2
        }
      ]
    },
    {
      "cell_type": "code",
      "source": [
        "teste[0:5]"
      ],
      "metadata": {
        "colab": {
          "base_uri": "https://localhost:8080/",
          "height": 35
        },
        "id": "ll-p4eZoZHHT",
        "outputId": "8f2bedb0-6a00-47fe-c80a-c002d1593242"
      },
      "execution_count": null,
      "outputs": [
        {
          "output_type": "execute_result",
          "data": {
            "text/plain": [
              "'Sorri'"
            ],
            "application/vnd.google.colaboratory.intrinsic+json": {
              "type": "string"
            }
          },
          "metadata": {},
          "execution_count": 3
        }
      ]
    },
    {
      "cell_type": "code",
      "source": [
        "# O código abaixo imprime a posição ATÉ A POSIÇÃO INDICADA menos um, ou seja, vai imprimir \"Sorria\" sem o \"!\", que seria o caracter de posição 6\n",
        "\n",
        "teste[:6]"
      ],
      "metadata": {
        "colab": {
          "base_uri": "https://localhost:8080/",
          "height": 35
        },
        "id": "zXD76ExmZJqy",
        "outputId": "1dd3ae71-0a85-4f4a-c9d8-2a1701ebf34e"
      },
      "execution_count": null,
      "outputs": [
        {
          "output_type": "execute_result",
          "data": {
            "text/plain": [
              "'Sorria'"
            ],
            "application/vnd.google.colaboratory.intrinsic+json": {
              "type": "string"
            }
          },
          "metadata": {},
          "execution_count": 4
        }
      ]
    },
    {
      "cell_type": "code",
      "source": [
        "# No caso de baixo, imprime o conteúdo A PARTIR da posição indicada.\n",
        "\n",
        "teste[6:]"
      ],
      "metadata": {
        "colab": {
          "base_uri": "https://localhost:8080/",
          "height": 35
        },
        "id": "StoFOEIWZOAg",
        "outputId": "00ad212e-c008-44bd-f2ea-31ec554e79e8"
      },
      "execution_count": null,
      "outputs": [
        {
          "output_type": "execute_result",
          "data": {
            "text/plain": [
              "'! Hoje é segunda!'"
            ],
            "application/vnd.google.colaboratory.intrinsic+json": {
              "type": "string"
            }
          },
          "metadata": {},
          "execution_count": 5
        }
      ]
    },
    {
      "cell_type": "code",
      "source": [
        "# O caso abaixo vai começar a imprimir a partir da posição 3 e parar na 6 menos um.\n",
        "\n",
        "teste[3:6]"
      ],
      "metadata": {
        "colab": {
          "base_uri": "https://localhost:8080/",
          "height": 35
        },
        "id": "KD6XB8j3Za-H",
        "outputId": "dac1a96b-0e6c-47e4-cd13-6032e90c66ac"
      },
      "execution_count": null,
      "outputs": [
        {
          "output_type": "execute_result",
          "data": {
            "text/plain": [
              "'ria'"
            ],
            "application/vnd.google.colaboratory.intrinsic+json": {
              "type": "string"
            }
          },
          "metadata": {},
          "execution_count": 6
        }
      ]
    },
    {
      "cell_type": "code",
      "source": [
        "# Mesmo caso de acima, onde o último valor é ignorado.\n",
        "\n",
        "teste[3:-1]"
      ],
      "metadata": {
        "colab": {
          "base_uri": "https://localhost:8080/",
          "height": 35
        },
        "id": "mW345bk-Zury",
        "outputId": "1effe2af-cbee-4a4e-89fa-2dde0b4ed0de"
      },
      "execution_count": null,
      "outputs": [
        {
          "output_type": "execute_result",
          "data": {
            "text/plain": [
              "'ria! Hoje é segunda'"
            ],
            "application/vnd.google.colaboratory.intrinsic+json": {
              "type": "string"
            }
          },
          "metadata": {},
          "execution_count": 7
        }
      ]
    },
    {
      "cell_type": "code",
      "source": [
        "# Inicia no 15, vai até o 22, pulando de 2 em 2.\n",
        "\n",
        "teste[15:22:2]"
      ],
      "metadata": {
        "colab": {
          "base_uri": "https://localhost:8080/",
          "height": 35
        },
        "id": "Wr83OvXYZyFB",
        "outputId": "c2310225-1adc-4ca0-8553-6e40ce280580"
      },
      "execution_count": null,
      "outputs": [
        {
          "output_type": "execute_result",
          "data": {
            "text/plain": [
              "'sgna'"
            ],
            "application/vnd.google.colaboratory.intrinsic+json": {
              "type": "string"
            }
          },
          "metadata": {},
          "execution_count": 8
        }
      ]
    },
    {
      "cell_type": "code",
      "source": [
        "teste[100]"
      ],
      "metadata": {
        "colab": {
          "base_uri": "https://localhost:8080/",
          "height": 175
        },
        "id": "Qhhb7FUjZ2Bq",
        "outputId": "a0fec599-10f0-48bd-bd6d-b90ea5828d44"
      },
      "execution_count": null,
      "outputs": [
        {
          "output_type": "error",
          "ename": "IndexError",
          "evalue": "ignored",
          "traceback": [
            "\u001b[0;31m---------------------------------------------------------------------------\u001b[0m",
            "\u001b[0;31mIndexError\u001b[0m                                Traceback (most recent call last)",
            "\u001b[0;32m<ipython-input-9-e83cc6039baa>\u001b[0m in \u001b[0;36m<cell line: 1>\u001b[0;34m()\u001b[0m\n\u001b[0;32m----> 1\u001b[0;31m \u001b[0mteste\u001b[0m\u001b[0;34m[\u001b[0m\u001b[0;36m100\u001b[0m\u001b[0;34m]\u001b[0m\u001b[0;34m\u001b[0m\u001b[0;34m\u001b[0m\u001b[0m\n\u001b[0m",
            "\u001b[0;31mIndexError\u001b[0m: string index out of range"
          ]
        }
      ]
    },
    {
      "cell_type": "code",
      "source": [
        "# Também é impossível inverter a string:\n",
        "\n",
        "print(teste[::-1])"
      ],
      "metadata": {
        "colab": {
          "base_uri": "https://localhost:8080/"
        },
        "id": "AXteCK_1Z4Jv",
        "outputId": "6f513386-8028-4b3d-dc49-7ae30eb69fc3"
      },
      "execution_count": null,
      "outputs": [
        {
          "output_type": "stream",
          "name": "stdout",
          "text": [
            "!adnuges é ejoH !airroS\n"
          ]
        }
      ]
    },
    {
      "cell_type": "code",
      "source": [
        "# Concatenação e formatação de strings\n",
        "\n",
        "nome = 'Irineu,'\n",
        "sobrenome = ' você não sabe e nem eu'\n",
        "\n",
        "print(f\"{nome}{sobrenome}\")\n",
        "print(nome,sobrenome)\n",
        "print(\"{}{}\".format(nome, sobrenome))"
      ],
      "metadata": {
        "colab": {
          "base_uri": "https://localhost:8080/"
        },
        "id": "tsPeaX6eaxxv",
        "outputId": "742ce176-5b86-4614-896b-4467ceec8e66"
      },
      "execution_count": null,
      "outputs": [
        {
          "output_type": "stream",
          "name": "stdout",
          "text": [
            "Irineu, você não sabe e nem eu\n",
            "Irineu,  você não sabe e nem eu\n",
            "Irineu, você não sabe e nem eu\n"
          ]
        }
      ]
    },
    {
      "cell_type": "code",
      "source": [
        "# Strings: troca de palavras\n",
        "# replace()\n",
        "# Strings são imutáveis, sendo assim, é necessário declarar uma nova string para que o replace funcione.\n",
        "\n",
        "texto = \"Sorria! Hoje é sexta\"\n",
        "novoTexto = texto.replace(\"Sorria\", \"Força\")\n",
        "print(novoTexto)"
      ],
      "metadata": {
        "colab": {
          "base_uri": "https://localhost:8080/"
        },
        "id": "ZfONZHoybz9m",
        "outputId": "19127c2a-7217-49cd-859b-666402fcc82c"
      },
      "execution_count": null,
      "outputs": [
        {
          "output_type": "stream",
          "name": "stdout",
          "text": [
            "Força! Hoje é sexta\n"
          ]
        }
      ]
    },
    {
      "cell_type": "code",
      "source": [
        "# len() - Retorna o tamanho da string\n",
        "# find() - Encontra ocorrências dentro de uma string\n",
        "# upper() e lower() - converter uma string para maiusculo ou minusculo\n",
        "# capitulaize() - Converte a primeira letra da string maiuscula e as outras minusculas\n",
        "# title() = Deixa cada letra inicial da frase maiuscula\n",
        "\n",
        "frase = input(\"Digite uma frase: \").upper()\n",
        "\n",
        "print(novoTexto.title())\n",
        "print(novoTexto.lower())\n",
        "print(novoTexto.capitalize())\n",
        "print(len(novoTexto))"
      ],
      "metadata": {
        "colab": {
          "base_uri": "https://localhost:8080/"
        },
        "id": "sVEiKLOucnU8",
        "outputId": "d02cd12b-04d9-4071-ba69-5edd64e5804c"
      },
      "execution_count": null,
      "outputs": [
        {
          "output_type": "stream",
          "name": "stdout",
          "text": [
            "Força! Hoje É Sexta\n",
            "força! hoje é sexta\n",
            "Força! hoje é sexta\n",
            "19\n"
          ]
        }
      ]
    },
    {
      "cell_type": "code",
      "source": [
        "# split() - Pegar uma string e transformar ela em uma lista através do split\n",
        "# Ou seja, sempre que ele encontrar um espaço em branco, ele vai quebrar\n",
        "# e transformar em um elemento de lista\n",
        "# Se quiser outra coisa, por exemplo, uma !, é só declarar como parâmetro\n",
        "# PS: O separador declarado como parâmetro não entra na lista\n",
        "\n",
        "texto = \"Sorria! Hoje! É sexta\"\n",
        "\n",
        "print(texto.split(\"!\"))"
      ],
      "metadata": {
        "colab": {
          "base_uri": "https://localhost:8080/"
        },
        "id": "5qUvIhNgdOLI",
        "outputId": "d9d723d7-0aa3-494b-f34c-15605d79ad34"
      },
      "execution_count": null,
      "outputs": [
        {
          "output_type": "stream",
          "name": "stdout",
          "text": [
            "['Sorria', ' Hoje', ' É sexta']\n"
          ]
        }
      ]
    },
    {
      "cell_type": "code",
      "source": [
        "# JOIN\n",
        "# União de strings\n",
        "# Pegar uma lista e transformar em uma string\n",
        "\n",
        "alunos = [\"Maria\", \"João\", \"Ana\"]\n",
        "print(alunos)\n",
        "print(\", \".join(alunos))\n",
        "print(\" - \".join(alunos))\n",
        "print(\"\".join(alunos))"
      ],
      "metadata": {
        "colab": {
          "base_uri": "https://localhost:8080/"
        },
        "id": "PZwPsnsreByX",
        "outputId": "4d824f58-09cb-4440-876c-6f01906fc394"
      },
      "execution_count": null,
      "outputs": [
        {
          "output_type": "stream",
          "name": "stdout",
          "text": [
            "['Maria', 'João', 'Ana']\n",
            "Maria, João, Ana\n",
            "Maria - João - Ana\n",
            "MariaJoãoAna\n"
          ]
        }
      ]
    },
    {
      "cell_type": "code",
      "source": [
        "# PRÁTICA 1\n",
        "\n",
        "exemplo = \"Python rainha, portugol nadinha\"\n",
        "exemplo2 = exemplo.replace(\"nadinha\", \"princesinha\")\n",
        "\n",
        "print(exemplo.upper())\n",
        "print(exemplo.lower())\n",
        "print(exemplo.capitalize())\n",
        "print(exemplo.title())\n",
        "print(exemplo.count(\"a\"), \"vezes a vogal aparece\")\n",
        "print(exemplo2)"
      ],
      "metadata": {
        "colab": {
          "base_uri": "https://localhost:8080/"
        },
        "id": "qB7kG2qjesEL",
        "outputId": "27d89d62-f720-445a-c26a-640c6e0586f6"
      },
      "execution_count": null,
      "outputs": [
        {
          "output_type": "stream",
          "name": "stdout",
          "text": [
            "PYTHON RAINHA, PORTUGOL NADINHA\n",
            "python rainha, portugol nadinha\n",
            "Python rainha, portugol nadinha\n",
            "Python Rainha, Portugol Nadinha\n",
            "4 vezes a vogal aparece\n",
            "Python rainha, portugol princesinha\n"
          ]
        }
      ]
    },
    {
      "cell_type": "code",
      "source": [
        "# MANIPULAÇÃO DE ARQUIVOS\n",
        "\n",
        "# Grande parte da computação de hoje, envolve processamento de conteúdo de texto\n",
        "# armazenado em arquivos\n",
        "\n",
        "# existem arquivos simples e binários\n",
        "# simples: alfa numérico, formatado em linhas (txt, csv)\n",
        "\n",
        "# binários: pdf, png, xlsx, jpg\n",
        "\n",
        "# 3 etapas: abertura, ler - escrever, fechar.\n",
        "\n"
      ],
      "metadata": {
        "id": "rwUnpeMTfdYR"
      },
      "execution_count": null,
      "outputs": []
    },
    {
      "cell_type": "code",
      "source": [
        "# ABERTURA DE ARQUIVOS\n",
        "# declara o nome do arquivo e o tipo\n",
        "# r+ - leitura e escrita (apenas ler o que ja existe)\n",
        "# w - escrita(apaga o arquivo se já existir), significa que vai escrever no arquivo, adicionando novas informações sem apagar o que já existe\n",
        "# a - escrita (sem apagar conteúdo anterior) - significa escrita, mas todas as vezes que rodar o código, as informações serão apagadas e as infos serão criadas do zero\n",
        "# r - leitura\n",
        "\n",
        "arquivo = open(\"arquivo.txt\", \"r\")\n",
        "soma = 0.0\n",
        "quant = 0\n",
        "\n",
        "\n",
        "for nota in arquivo:\n",
        "    nota = float(nota)\n",
        "    soma += nota\n",
        "    quant += 1\n",
        "\n",
        "arquivo.close() # Boas práticas: sempre fechar o arquivo\n",
        "\n",
        "media = soma/quant\n",
        "print(f\"A média foi: {media:.2f}\")\n",
        "\n"
      ],
      "metadata": {
        "colab": {
          "base_uri": "https://localhost:8080/",
          "height": 245
        },
        "id": "pOw5HV1DidC1",
        "outputId": "5c4725f0-ee95-47f5-f5d3-c7a448ad8d3f"
      },
      "execution_count": null,
      "outputs": [
        {
          "output_type": "error",
          "ename": "FileNotFoundError",
          "evalue": "ignored",
          "traceback": [
            "\u001b[0;31m---------------------------------------------------------------------------\u001b[0m",
            "\u001b[0;31mFileNotFoundError\u001b[0m                         Traceback (most recent call last)",
            "\u001b[0;32m<ipython-input-38-c8f0ebd5f6b7>\u001b[0m in \u001b[0;36m<cell line: 8>\u001b[0;34m()\u001b[0m\n\u001b[1;32m      6\u001b[0m \u001b[0;31m# r - leitura\u001b[0m\u001b[0;34m\u001b[0m\u001b[0;34m\u001b[0m\u001b[0m\n\u001b[1;32m      7\u001b[0m \u001b[0;34m\u001b[0m\u001b[0m\n\u001b[0;32m----> 8\u001b[0;31m \u001b[0marquivo\u001b[0m \u001b[0;34m=\u001b[0m \u001b[0mopen\u001b[0m\u001b[0;34m(\u001b[0m\u001b[0;34m\"arquivo.txt\"\u001b[0m\u001b[0;34m,\u001b[0m \u001b[0;34m\"r\"\u001b[0m\u001b[0;34m)\u001b[0m\u001b[0;34m\u001b[0m\u001b[0;34m\u001b[0m\u001b[0m\n\u001b[0m\u001b[1;32m      9\u001b[0m \u001b[0msoma\u001b[0m \u001b[0;34m=\u001b[0m \u001b[0;36m0.0\u001b[0m\u001b[0;34m\u001b[0m\u001b[0;34m\u001b[0m\u001b[0m\n\u001b[1;32m     10\u001b[0m \u001b[0mquant\u001b[0m \u001b[0;34m=\u001b[0m \u001b[0;36m0\u001b[0m\u001b[0;34m\u001b[0m\u001b[0;34m\u001b[0m\u001b[0m\n",
            "\u001b[0;31mFileNotFoundError\u001b[0m: [Errno 2] No such file or directory: 'arquivo.txt'"
          ]
        }
      ]
    },
    {
      "cell_type": "code",
      "source": [
        "# LEITURA DE ARQUIVOS\n",
        "\n",
        "# read() - retorna o conteúdo do arquivo como uma unica string\n",
        "# readline() - retorna uma linha do texto a cada chamada, na ordem em que aparece no arquivo\n",
        "# readlines() - retorna todo conteudo em formato de lista, cada linha represta um valor da lista\n",
        "\n",
        "\n",
        "\n"
      ],
      "metadata": {
        "id": "v-cOvTcxcnsd"
      },
      "execution_count": null,
      "outputs": []
    },
    {
      "cell_type": "code",
      "source": [
        "# ESCRITA\n",
        "\n",
        "# write() uma string por vez\n",
        "# writelines() - recebe um objeto iteravel (lista, tupla, dicionario etc). com este método, várias linhas podem ser adicionadas de uma vez\n"
      ],
      "metadata": {
        "id": "M07HBB1-hvbl"
      },
      "execution_count": null,
      "outputs": []
    },
    {
      "cell_type": "code",
      "source": [],
      "metadata": {
        "id": "DURfkqkNi7xz"
      },
      "execution_count": null,
      "outputs": []
    }
  ]
}