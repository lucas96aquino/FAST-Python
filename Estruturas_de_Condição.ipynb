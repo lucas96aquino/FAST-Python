{
  "nbformat": 4,
  "nbformat_minor": 0,
  "metadata": {
    "colab": {
      "provenance": [],
      "authorship_tag": "ABX9TyOtK26D/Fi4Wruf1TkhmC0H"
    },
    "kernelspec": {
      "name": "python3",
      "display_name": "Python 3"
    },
    "language_info": {
      "name": "python"
    }
  },
  "cells": [
    {
      "cell_type": "code",
      "execution_count": null,
      "metadata": {
        "colab": {
          "base_uri": "https://localhost:8080/"
        },
        "id": "jSD1f8CMM59k",
        "outputId": "9cbe1ed9-1680-4eb8-c3d4-617a4ff2fa48"
      },
      "outputs": [
        {
          "output_type": "stream",
          "name": "stdout",
          "text": [
            "Quantos anos tem seu carro?10\n",
            "Carro velho\n",
            "--FIM--\n"
          ]
        }
      ],
      "source": [
        "tempo = int(input(\"Quantos anos tem seu carro?\"))\n",
        "\n",
        "if tempo <= 3:\n",
        "\tprint(\"Carro novo\")\n",
        "else:\n",
        "\tprint(\"Carro velho\")\n",
        "print(\"--FIM--\")"
      ]
    },
    {
      "cell_type": "code",
      "source": [
        "tempo = int(input(\"Quantos anos tem seu carro?\"))\n",
        "\n",
        "print(\"Carro novo\" if tempo <=3 else \"Carro velho\")\n",
        "\n",
        "print(\"--FIM--\")"
      ],
      "metadata": {
        "colab": {
          "base_uri": "https://localhost:8080/"
        },
        "id": "X5ilSi41QU2U",
        "outputId": "c6927283-9111-4304-a3e8-d70edd9decc4"
      },
      "execution_count": null,
      "outputs": [
        {
          "output_type": "stream",
          "name": "stdout",
          "text": [
            "Quantos anos tem seu carro?40\n",
            "Carro velho\n",
            "--FIM--\n"
          ]
        }
      ]
    },
    {
      "cell_type": "code",
      "source": [
        "nome = str(input(\"Qual é o seu nome?\"))\n",
        "\n",
        "if nome == \"Gustavo\":\n",
        "  print(\"Que nome lindo você tem!\")\n",
        "else:\n",
        "  print(\"Seu nome é tão normal...\")\n",
        "\n",
        "print(\"Bom dia, {}!\".format(nome))\n",
        "\n"
      ],
      "metadata": {
        "colab": {
          "base_uri": "https://localhost:8080/"
        },
        "id": "A2LOfFQSQwR3",
        "outputId": "143ae6ce-f178-41c9-a0d4-a4451ea96661"
      },
      "execution_count": null,
      "outputs": [
        {
          "output_type": "stream",
          "name": "stdout",
          "text": [
            "Qual é o seu nome?Felipe\n",
            "Seu nome é tão normal...\n",
            "Bom dia, Felipe!\n"
          ]
        }
      ]
    },
    {
      "cell_type": "code",
      "source": [
        "n1 = float(input(\"Digite sua primeira nota: \\n\"))\n",
        "n2 = float(input(\"Digite sua segunda nota: \\n\"))\n",
        "\n",
        "m = (n1+n2)/2\n",
        "\n",
        "print(\"A sua média foi {:.1f}!\".format(m))\n",
        "\n",
        "if m>=6:\n",
        "  print(\"Você foi aprovado! Parabéns!\")\n",
        "else:\n",
        "  print(\"Você foi reprovado...\")\n",
        "\n",
        "print(\"--FIM--\")"
      ],
      "metadata": {
        "colab": {
          "base_uri": "https://localhost:8080/"
        },
        "id": "gFZ1Hc0_SMKg",
        "outputId": "71b344f0-150d-4577-a1fc-9b6fb6d33686"
      },
      "execution_count": null,
      "outputs": [
        {
          "output_type": "stream",
          "name": "stdout",
          "text": [
            "Digite sua primeira nota: \n",
            "5.7888\n",
            "Digite sua segunda nota: \n",
            "10.0\n",
            "A sua média foi 7.9!\n",
            "Você foi aprovado! Parabéns!\n",
            "--FIM--\n"
          ]
        }
      ]
    },
    {
      "cell_type": "code",
      "source": [
        "nome = str(input(\"Qual o seu nome?\"))\n",
        "\n",
        "if nome == \"Gustavo\":\n",
        "  print(\"Que nome bonito!\")\n",
        "elif nome == \"Pedro\" or nome == \"Maria\" or nome == \"Tuxu\":\n",
        "  print(\"Seu nome também é bonito, mas não tanto quanto Gustavo!\")\n",
        "elif nome == \"Koda\":\n",
        "  print(\"Você cagou a privada toda!\")\n",
        "else:\n",
        "  print(\"Seu nome é tão normal...\")\n",
        "\n",
        "print(\"Tenha um bom dia, {}!\".format(nome))"
      ],
      "metadata": {
        "colab": {
          "base_uri": "https://localhost:8080/"
        },
        "id": "arpnQQ65VgUv",
        "outputId": "2dfea7f8-5c77-47b7-8268-dfadb88acac8"
      },
      "execution_count": null,
      "outputs": [
        {
          "output_type": "stream",
          "name": "stdout",
          "text": [
            "Qual o seu nome?Koda\n",
            "Você cagou a privada toda!\n",
            "Tenha um bom dia, Koda!\n"
          ]
        }
      ]
    },
    {
      "cell_type": "code",
      "source": [
        "a = int(input(\"Digite a primeira variável: \"))\n",
        "b = int(input(\"Digite a segunda variável: \"))\n",
        "\n",
        "if 4*a+3==b:\n",
        "  print(\"Equação verdadeira!\")\n"
      ],
      "metadata": {
        "colab": {
          "base_uri": "https://localhost:8080/"
        },
        "id": "B4Vl8qR2lEqy",
        "outputId": "4b30e36c-113f-4d8c-e378-1b0c2b3807d8"
      },
      "execution_count": null,
      "outputs": [
        {
          "output_type": "stream",
          "name": "stdout",
          "text": [
            "Digite a primeira variável: 1\n",
            "Digite a segunda variável: 7\n",
            "Equação verdadeira!\n"
          ]
        }
      ]
    },
    {
      "cell_type": "markdown",
      "source": [
        "Exemplo de condição simples"
      ],
      "metadata": {
        "id": "5mmdOe7Fl9bJ"
      }
    },
    {
      "cell_type": "code",
      "source": [
        "#Aula 2"
      ],
      "metadata": {
        "id": "AehpzxCel_kh"
      },
      "execution_count": null,
      "outputs": []
    },
    {
      "cell_type": "markdown",
      "source": [
        "#Aula 2"
      ],
      "metadata": {
        "id": "3hjUdla4mpnB"
      }
    },
    {
      "cell_type": "code",
      "source": [
        "a = int(input(\"Digite a primeira variável: \"))\n",
        "b = int(input(\"Digite a segunda variável: \"))\n",
        "\n",
        "if 4*a+3==b:\n",
        "  print(\"Equação verdadeira!\")\n",
        "else:\n",
        "  print(\"Equação falsa... Programa encerrado.\")"
      ],
      "metadata": {
        "colab": {
          "base_uri": "https://localhost:8080/"
        },
        "id": "BJ8_qP7Lmr1g",
        "outputId": "e98c06bd-232e-43d4-d294-7883a1e0873c"
      },
      "execution_count": null,
      "outputs": [
        {
          "output_type": "stream",
          "name": "stdout",
          "text": [
            "Digite a primeira variável: 10\n",
            "Digite a segunda variável: 43\n",
            "Equação verdadeira!\n"
          ]
        }
      ]
    },
    {
      "cell_type": "code",
      "source": [
        "velocidade = float(input(\"Qual a velocidade do carro?\"))\n",
        "\n",
        "if velocidade>80:\n",
        "  quantas_multas = velocidade - 80\n",
        "  valor_multa = quantas_multas*5\n",
        "  print(f\"Você foi multado! Seu total de multas é {quantas_multas:.0f} e o valor delas é R$ {valor_multa:.2f}!\")\n",
        "else:\n",
        "  print(\"Você não ultrapassou o limite de velocidade.\")"
      ],
      "metadata": {
        "colab": {
          "base_uri": "https://localhost:8080/"
        },
        "id": "XFjoX_IcnUT1",
        "outputId": "6a1693c7-e14a-43f4-9bc0-651aa972c560"
      },
      "execution_count": null,
      "outputs": [
        {
          "output_type": "stream",
          "name": "stdout",
          "text": [
            "Qual a velocidade do carro?85\n",
            "Você foi multado! Seu total de multas é 5 e o valor delas é R$ 25.00!\n"
          ]
        }
      ]
    },
    {
      "cell_type": "code",
      "source": [
        "num1 = int(input(\"Digite um valor inteiro: \"))\n",
        "num2 = int(input(\"Digite o segundo valor inteiro: \"))\n",
        "\n",
        "soma = num1 + num2\n",
        "\n",
        "if soma>10:\n",
        "  print(f\"O resultado é {soma}!\")\n",
        "else:\n",
        "  print(\"O resultado é \",soma-5)\n"
      ],
      "metadata": {
        "colab": {
          "base_uri": "https://localhost:8080/"
        },
        "id": "gxzJRl0so1iJ",
        "outputId": "5b6655fe-6e18-445d-8202-dce6b8f7d715"
      },
      "execution_count": null,
      "outputs": [
        {
          "output_type": "stream",
          "name": "stdout",
          "text": [
            "Digite um valor inteiro: 1\n",
            "Digite o segundo valor inteiro: 3\n",
            "O resultado é  -1\n"
          ]
        }
      ]
    },
    {
      "cell_type": "code",
      "source": [
        "sexo = str(input(\"Digite seu sexo (F) ou (M): \"))\n",
        "compra = float(input(\"Digite o valor da sua compra!\"))\n",
        "\n",
        "if sexo == \"F\":\n",
        "  valor_desconto = compra*0.13\n",
        "  total = compra - valor_desconto\n",
        "  print(f\"Você recebeu 13% de desconto em sua compra! Seu total de desconto recebido é R$ {valor_desconto:.2f}! Seu total a pagar é R$ {total:.2f}!\")\n",
        "else:\n",
        "  valor_desconto2 = compra*0.05\n",
        "  total2 = compra - valor_desconto2\n",
        "  print(f\"Você recebeu 5% de desconto em sua compra! Seu total de desconto recebido é R$ {valor_desconto2:.2f}! Seu total a pagar é R$ {total2:.2f}!\")"
      ],
      "metadata": {
        "colab": {
          "base_uri": "https://localhost:8080/"
        },
        "id": "bXXxQMXPrwtW",
        "outputId": "8f7a18a5-7893-48e8-a4d7-ccd552a58a23"
      },
      "execution_count": null,
      "outputs": [
        {
          "output_type": "stream",
          "name": "stdout",
          "text": [
            "Digite seu sexo (F) ou (M): M\n",
            "Digite o valor da sua compra!100\n",
            "Você recebeu 5% de desconto em sua compra! Seu total de desconto recebido é R$ 5.00! Seu total a pagar é R$ 95.00!\n"
          ]
        }
      ]
    },
    {
      "cell_type": "code",
      "source": [
        "level = int(input(\"Escreva o level do Voltorb!\"))\n",
        "\n",
        "if 1 <= level <= 20:\n",
        "  potencia = 20 + (level)**3\n",
        "  print(f\"A potência do seu Voltorb é {potencia} W!\")\n",
        "elif 21 <= level <= 40:\n",
        "  potencia = 8000 + (level - 10)**2\n",
        "  print(f\"A potência do seu Voltorb é {potencia} W!\")\n",
        "elif 41 <= level <= 60:\n",
        "  potencia = 9000 + (5*level)\n",
        "  print(f\"A potência do seu Voltorb é {potencia} W!\")\n",
        "elif 61 <= level <= 80:\n",
        "  potencia = 9300 + (2*level)\n",
        "  print(f\"A potência do seu Voltorb é {potencia} W!\")\n",
        "elif 81 <= level <= 100:\n",
        "  potencia = 9500 + level\n",
        "  print(f\"A potência do seu Voltorb é {potencia} W!\")\n",
        "else:\n",
        "  print(\"Level deve estar entre 1 e 100!\")"
      ],
      "metadata": {
        "colab": {
          "base_uri": "https://localhost:8080/"
        },
        "id": "WLNt7WT8u9Bn",
        "outputId": "d871590b-06b8-4cdd-e699-7c07c9ccbce3"
      },
      "execution_count": null,
      "outputs": [
        {
          "output_type": "stream",
          "name": "stdout",
          "text": [
            "Escreva o level do Voltorb!99\n",
            "A potência do seu Voltorb é 9599 W!\n"
          ]
        }
      ]
    },
    {
      "cell_type": "code",
      "source": [
        "idade = int(input(\"Digite sua idade: \"))\n",
        "\n",
        "if 4 <= idade >= 60:\n",
        "  print(\"Sua entrada é gratuita!\")\n",
        "elif 4 >= idade <= 18:\n",
        "  print(\"Sua entrada custa R$ 20,00!\")\n",
        "elif idade > 18:\n",
        "  print(\"Sua entrada custa R$ 30,00!\")"
      ],
      "metadata": {
        "colab": {
          "base_uri": "https://localhost:8080/"
        },
        "id": "eIrLtd3s0gjb",
        "outputId": "f0308de1-2fa8-4273-cdbf-1f80546c5a31"
      },
      "execution_count": null,
      "outputs": [
        {
          "output_type": "stream",
          "name": "stdout",
          "text": [
            "Digite sua idade: 19\n",
            "Sua entrada custa R$ 30,00!\n"
          ]
        }
      ]
    },
    {
      "cell_type": "code",
      "source": [
        "consumo = int(input(\"Insira o valor de consumo que consta na sua conta de energia: \"))\n",
        "\n",
        "if consumo < 500:\n",
        "  tarifa = (0.02*consumo)+5\n",
        "\n",
        "elif consumo > 500 and consumo <= 1000:\n",
        "  tarifa = (10*consumo)+5\n",
        "\n",
        "elif consumo > 1000:\n",
        "  tarifa = (35*consumo)+5\n",
        "\n",
        "print(f\"Sua tarifa é de R${tarifa:.2f}\")\n",
        "\n"
      ],
      "metadata": {
        "colab": {
          "base_uri": "https://localhost:8080/"
        },
        "id": "NmYmUc554JXv",
        "outputId": "4307a67b-36ea-4d77-9659-2cbd568a0e91"
      },
      "execution_count": null,
      "outputs": [
        {
          "output_type": "stream",
          "name": "stdout",
          "text": [
            "Insira o valor de consumo que consta na sua conta de energia: 350\n",
            "Sua tarifa é de R$12.00\n"
          ]
        }
      ]
    },
    {
      "cell_type": "code",
      "source": [
        "recebe_aumento = str(input(\"Você está sem receber reajuste há mais de dois anos? [S] [N]\"))\n",
        "anos = int(input(\"Quantos anos de casa você tem?\"))\n",
        "\n",
        "if recebe_aumento == \"S\":\n",
        "    if anos > 10:\n",
        "      print(\"Você tem direito a um reajuste de 30%!\")\n",
        "    if anos >= 5 and anos <= 10:\n",
        "      print(\"Você tem direito a um reajuste de 20%!\")\n",
        "    if anos < 5:\n",
        "      print(\"Você tem direito a um reajusta de 10%!\")\n",
        "else:\n",
        "  print(\"Você não trabalha na empresa tempo o bastante para receber o reajuste.\")"
      ],
      "metadata": {
        "colab": {
          "base_uri": "https://localhost:8080/"
        },
        "id": "OObKIdz68ZU7",
        "outputId": "c45a2eb7-f132-4b36-bfc7-1beefed51a3b"
      },
      "execution_count": null,
      "outputs": [
        {
          "output_type": "stream",
          "name": "stdout",
          "text": [
            "Você está sem receber reajuste há mais de dois anos? [S] [N]N\n",
            "Quantos anos de casa você tem?10\n",
            "Você não trabalha na empresa tempo o bastante para receber o reajuste.\n"
          ]
        }
      ]
    },
    {
      "cell_type": "code",
      "source": [
        "estado_civil = str(input(\"Qual o seu estado civil? Solteiro [S] Casado [C] Viúvo [V] Divorciado [D]\"))\n",
        "\n",
        "if estado_civil == \"S\":\n",
        "  print(\"Você digitou seu estado civil.\")\n",
        "elif estado_civil == \"C\":\n",
        "  print(\"Você digitou seu estado civil.\")\n",
        "elif estado_civil == \"V\":\n",
        "  print(\"Você digitou seu estado civil.\")\n",
        "elif estado_civil == \"D\":\n",
        "  print(\"Você digitou seu estado civil.\")\n",
        "else:\n",
        "  print(\"Você não digitou uma letra correta.\")"
      ],
      "metadata": {
        "colab": {
          "base_uri": "https://localhost:8080/"
        },
        "id": "bteV1Sme_QgZ",
        "outputId": "72c4c8cb-8882-4aaa-9e75-6d22d44d21f1"
      },
      "execution_count": null,
      "outputs": [
        {
          "output_type": "stream",
          "name": "stdout",
          "text": [
            "Qual o seu estado civil? Solteiro [S] Casado [C] Viúvo [V] Divorciado [D]S\n",
            "Você digitou seu estado civil.\n"
          ]
        }
      ]
    },
    {
      "cell_type": "code",
      "source": [
        "n1 = float(input(\"Digite sua primeira nota: \"))\n",
        "n2 = float(input(\"Digite sua segunda nota: \"))\n",
        "n3 = float(input(\"Digite sua terceira nota: \"))\n",
        "\n",
        "media = (n1*2 + n2*3 + n3*5)/10\n",
        "\n",
        "if media <= 4.9:\n",
        "  print(\"Reprovado\")\n",
        "elif media >= 5.0 and  media <= 6.9:\n",
        "  print(\"Recuperação\")\n",
        "else:\n",
        "  print(\"Aprovado!\")"
      ],
      "metadata": {
        "colab": {
          "base_uri": "https://localhost:8080/"
        },
        "id": "jyJWpRs2AG0o",
        "outputId": "27678b48-dd27-4c15-9336-ba885e7345e1"
      },
      "execution_count": null,
      "outputs": [
        {
          "output_type": "stream",
          "name": "stdout",
          "text": [
            "Digite sua primeira nota: 5\n",
            "Digite sua segunda nota: 7\n",
            "Digite sua terceira nota: 4\n",
            "Recuperação\n"
          ]
        }
      ]
    },
    {
      "cell_type": "code",
      "source": [
        "minutos_expediente = int(input(\"Quantos minutos de expediente você tem?\"))\n",
        "tempo_presente = int(input(\"Quanto tempo é necessário pra fabricar cada presente?\"))\n",
        "\n",
        "if tempo_presente*2 > minutos_expediente:\n",
        "  print(\"Você não vai conseguir terminar hoje. Deixe para amanhã!\")\n",
        "else:\n",
        "  print(\"Você consegue terminar hoje!\")"
      ],
      "metadata": {
        "colab": {
          "base_uri": "https://localhost:8080/"
        },
        "id": "hyrD_WV3BqP4",
        "outputId": "cdfcb5ba-e17c-4cd6-b405-f276265c7ec4"
      },
      "execution_count": null,
      "outputs": [
        {
          "output_type": "stream",
          "name": "stdout",
          "text": [
            "Quantos minutos de expediente você tem?100\n",
            "Quanto tempo é necessário pra fabricar cada presente?20\n",
            "Você consegue terminar hoje!\n"
          ]
        }
      ]
    }
  ]
}