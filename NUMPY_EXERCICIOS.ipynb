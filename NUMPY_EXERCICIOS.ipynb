{
  "nbformat": 4,
  "nbformat_minor": 0,
  "metadata": {
    "colab": {
      "provenance": [],
      "authorship_tag": "ABX9TyOQk1fY5csut0pVPVBH67CG"
    },
    "kernelspec": {
      "name": "python3",
      "display_name": "Python 3"
    },
    "language_info": {
      "name": "python"
    }
  },
  "cells": [
    {
      "cell_type": "code",
      "execution_count": null,
      "metadata": {
        "colab": {
          "base_uri": "https://localhost:8080/"
        },
        "id": "0zYazpxhzFbb",
        "outputId": "b0d2b887-5c3a-41ff-b7d3-f555b44ffade"
      },
      "outputs": [
        {
          "output_type": "stream",
          "name": "stdout",
          "text": [
            "7.2\n"
          ]
        }
      ],
      "source": [
        "# EXERCÍCIO 1\n",
        "\n",
        "import numpy as np\n",
        "\n",
        "listaNotas = ([10, 7, 8, 6, 5])\n",
        "arrayNotas = np.array(listaNotas)\n",
        "type(arrayNotas)\n",
        "\n",
        "def media (n1):\n",
        "  media = np.mean(n1)\n",
        "  return media\n",
        "\n",
        "print(media(arrayNotas))\n",
        "\n"
      ]
    },
    {
      "cell_type": "code",
      "source": [
        "# EXERCÍCIO 2\n",
        "\n",
        "# LISTA PARA GUARDAR TEMPERATURAS\n",
        "\n",
        "listaTemp = []\n",
        "\n",
        "# FUNÇÃO PARA CALCULAR MEDIA\n",
        "\n",
        "def media (n1):\n",
        "  media = np.mean(n1)\n",
        "  return media\n",
        "\n",
        "# INÍCIO DO PROGRAMA\n",
        "\n",
        "programa = input(\"Você deseja registrar as temperaturas? [S] Sim ou [N] Não\")\n",
        "\n",
        "while programa == \"S\":\n",
        "  listaTemp.append(float(input(\"Insira a temperatura em Celsius?\")))\n",
        "  programa = input(\"Deseja continuar registrando temperaturas? [S] Sim ou [N] Não\")\n",
        "  if programa ==\"N\":\n",
        "    print(\"Programa encerrado.\")\n",
        "\n",
        "print(listaTemp)\n",
        "\n",
        "tempArray = np.array(listaTemp)\n",
        "type(tempArray)\n",
        "media(tempArray)\n"
      ],
      "metadata": {
        "colab": {
          "base_uri": "https://localhost:8080/"
        },
        "id": "q_D9wjLRzwWv",
        "outputId": "c9543b2a-a18e-4ec7-f45b-f05cf9c5481b"
      },
      "execution_count": null,
      "outputs": [
        {
          "output_type": "stream",
          "name": "stdout",
          "text": [
            "Você deseja registrar as temperaturas? [S] Sim ou [N] NãoS\n",
            "Insira a temperatura em Celsius?30\n",
            "Deseja continuar registrando temperaturas? [S] Sim ou [N] NãoS\n",
            "Insira a temperatura em Celsius?24\n",
            "Deseja continuar registrando temperaturas? [S] Sim ou [N] NãoS\n",
            "Insira a temperatura em Celsius?25\n",
            "Deseja continuar registrando temperaturas? [S] Sim ou [N] NãoS\n",
            "Insira a temperatura em Celsius?30\n",
            "Deseja continuar registrando temperaturas? [S] Sim ou [N] NãoN\n",
            "Programa encerrado.\n",
            "[30.0, 24.0, 25.0, 30.0]\n"
          ]
        },
        {
          "output_type": "execute_result",
          "data": {
            "text/plain": [
              "27.25"
            ]
          },
          "metadata": {},
          "execution_count": 6
        }
      ]
    },
    {
      "cell_type": "code",
      "source": [
        "# EXERCÍCIO 3\n",
        "\n",
        "# VARIÁVEL\n",
        "\n",
        "notasAlunos = []\n",
        "contador = 0\n",
        "\n",
        "# FUNÇÃO PARA MÉDIA\n",
        "\n",
        "def media (n1):\n",
        "  media = np.mean(n1)\n",
        "  return media\n",
        "\n",
        "# PROGRAMA\n",
        "\n",
        "for i in range(3):\n",
        "  notasAlunos.append(float(input(\"Digite as notas dos alunos: \")))\n",
        "\n",
        "notasArray = np.array(notasAlunos)\n",
        "\n",
        "for i in notasArray:\n",
        "  if i > 7:\n",
        "    contador += 1\n",
        "\n",
        "print(f\"A média dos três estudantes é {media(notasArray)} e foram identificados {contador} notas acima de 7.\")\n",
        "\n",
        "\n"
      ],
      "metadata": {
        "colab": {
          "base_uri": "https://localhost:8080/"
        },
        "id": "2LU6DXtg0_Fk",
        "outputId": "2b2e1ea1-1240-4cfe-ac6a-16fca37bb618"
      },
      "execution_count": null,
      "outputs": [
        {
          "output_type": "stream",
          "name": "stdout",
          "text": [
            "Digite as notas dos alunos: 10\n",
            "Digite as notas dos alunos: 3\n",
            "Digite as notas dos alunos: 2\n",
            "A média dos três estudantes é 5.0 e foram identificados 1 notas acima de 7.\n"
          ]
        }
      ]
    },
    {
      "cell_type": "code",
      "source": [
        "# EXERCÍCIO 5\n",
        "\n",
        "celsius = [30.2, 28.0, 30.5, 26.7, 25.4, 27.0]\n",
        "celsiusArray = np.array(celsius)\n",
        "\n",
        "fahren = (1.8 * celsiusArray) + 32\n",
        "print(f\"A temperatura em Fahrenheit é {fahren}.\")\n",
        "\n",
        "\n",
        "kelvin = (celsiusArray + 273.15)\n",
        "print(f\"A temperatura em Kelvin é {kelvin}.\")\n"
      ],
      "metadata": {
        "colab": {
          "base_uri": "https://localhost:8080/"
        },
        "id": "hKlo9mC52mcD",
        "outputId": "08999525-6384-482f-98d0-7f6bf6d1af07"
      },
      "execution_count": null,
      "outputs": [
        {
          "output_type": "stream",
          "name": "stdout",
          "text": [
            "A temperatura em Fahrenheit é [86.36 82.4  86.9  80.06 77.72 80.6 ].\n",
            "A temperatura em Kelvin é [303.35 301.15 303.65 299.85 298.55 300.15].\n"
          ]
        },
        {
          "output_type": "execute_result",
          "data": {
            "text/plain": [
              "numpy.ndarray"
            ]
          },
          "metadata": {},
          "execution_count": 18
        }
      ]
    },
    {
      "cell_type": "code",
      "source": [
        "# EXERCÍCIO 7\n",
        "\n",
        "import numpy as np\n",
        "\n",
        "# MATRIZ PARA RESULTADO DO TESTE\n",
        "\n",
        "teste = np.array([\n",
        "    [0, 1, 1, 0, 0],\n",
        "    [0, 1, 1, 1, 0],\n",
        "    [0, 1, 1, 1, 0],\n",
        "    [1, 1, 1, 1, 0],\n",
        "])\n",
        "\n",
        "# FORMULA PARA RESULTADO DO TESTE\n",
        "\n",
        "np_resultado = np.sum(teste, axis=1)\n",
        "\n",
        "# IMPRIMIR RESULTADO\n",
        "\n",
        "for i in teste:\n",
        "  print(f\"Teste {i}: O total de {np_resultado[0]} tiveram resultados positivos.\")"
      ],
      "metadata": {
        "colab": {
          "base_uri": "https://localhost:8080/"
        },
        "id": "6mifgoQC4dC6",
        "outputId": "c0214c2c-5cab-42f6-f642-2f926db1d64a"
      },
      "execution_count": null,
      "outputs": [
        {
          "output_type": "stream",
          "name": "stdout",
          "text": [
            "Teste [0 1 1 0 0]: O total de 3 tiveram resultados positivos.\n",
            "Teste [0 1 1 1 0]: O total de 3 tiveram resultados positivos.\n",
            "Teste [0 1 1 1 0]: O total de 3 tiveram resultados positivos.\n",
            "Teste [1 1 1 1 0]: O total de 3 tiveram resultados positivos.\n"
          ]
        }
      ]
    },
    {
      "cell_type": "code",
      "source": [
        "import numpy as np\n",
        "\n",
        "# MATRIZ PARA RESULTADO DO TESTE\n",
        "\n",
        "teste = np.array([[\n",
        "    [0, 1, 1, 0, 0],\n",
        "    [0, 1, 1, 1, 0],\n",
        "    [0, 1, 1, 1, 0],\n",
        "    [1, 1, 1, 1, 0],\n",
        "]])\n",
        "\n",
        "# FORMULA PARA RESULTADO DO TESTE\n",
        "\n",
        "np_resultado = np.sum(teste, axis=0)\n",
        "\n",
        "# IMPRIMIR RESULTADO\n",
        "\n",
        "for i, linha in enumerate(np_resultado[0]):\n",
        "  print(f\"Teste {i+1}: {linha} usuários obtiveram resultados positivos.\")"
      ],
      "metadata": {
        "colab": {
          "base_uri": "https://localhost:8080/"
        },
        "id": "hCo3Ben3Brqq",
        "outputId": "f9e24502-184a-481d-8232-00bbbdd4976c"
      },
      "execution_count": null,
      "outputs": [
        {
          "output_type": "stream",
          "name": "stdout",
          "text": [
            "Teste 1: 0 usuários obtiveram resultados positivos.\n",
            "Teste 2: 1 usuários obtiveram resultados positivos.\n",
            "Teste 3: 1 usuários obtiveram resultados positivos.\n",
            "Teste 4: 0 usuários obtiveram resultados positivos.\n",
            "Teste 5: 0 usuários obtiveram resultados positivos.\n"
          ]
        }
      ]
    },
    {
      "cell_type": "code",
      "source": [
        "# EXERCÍCIO 7\n",
        "\n",
        "import numpy as np\n",
        "\n",
        "# Criar a matriz de resultados dos testes (0 para negativo, 1 para positivo)\n",
        "resultados = np.array([[1, 0, 1, 1, 0],\n",
        "                       [0, 1, 0, 1, 1],\n",
        "                       [1, 1, 1, 0, 0],\n",
        "                       [0, 0, 1, 1, 0]])\n",
        "\n",
        "# Usar o fatiamento para contar quantos usuários obtiveram resultados positivos em cada teste\n",
        "\n",
        "resultados_positivos_por_teste = np.sum(resultados, axis=0)\n",
        "\n",
        "# Imprimir o resultado\n",
        "\n",
        "for i, resultado in enumerate(resultados_positivos_por_teste):\n",
        "    print(f\"Teste {i + 1}: {resultado} usuários obtiveram resultado positivo.\")"
      ],
      "metadata": {
        "colab": {
          "base_uri": "https://localhost:8080/"
        },
        "id": "Isj1Gyey6-01",
        "outputId": "419735d3-eee3-415b-ba23-f690e15b8976"
      },
      "execution_count": null,
      "outputs": [
        {
          "output_type": "stream",
          "name": "stdout",
          "text": [
            "Teste 1: 2 usuários obtiveram resultado positivo.\n",
            "Teste 2: 2 usuários obtiveram resultado positivo.\n",
            "Teste 3: 3 usuários obtiveram resultado positivo.\n",
            "Teste 4: 3 usuários obtiveram resultado positivo.\n",
            "Teste 5: 1 usuários obtiveram resultado positivo.\n"
          ]
        }
      ]
    },
    {
      "cell_type": "code",
      "source": [
        "import numpy as np\n",
        "\n",
        "# MATRIZ PARA RESULTADO DO TESTE\n",
        "\n",
        "teste = np.array([[\n",
        "    [0, 1, 1, 0, 0],\n",
        "    [0, 1, 1, 1, 0],\n",
        "    [0, 1, 1, 1, 0],\n",
        "    [1, 1, 1, 1, 0],\n",
        "]])\n",
        "\n",
        "# FORMULA PARA RESULTADO DO TESTE\n",
        "\n",
        "np_resultado = np.sum(teste, axis=0)\n",
        "\n",
        "# IMPRIMIR RESULTADO\n",
        "\n",
        "for i, teste in enumerate(np_resultado):\n",
        "  print(f\"Teste {i+1}: {teste} usuários obtiveram resultados positivos.\")"
      ],
      "metadata": {
        "colab": {
          "base_uri": "https://localhost:8080/"
        },
        "id": "5PRELUmV919r",
        "outputId": "ac6182cf-2bfd-4bd0-f041-9afa5f1c6e53"
      },
      "execution_count": null,
      "outputs": [
        {
          "output_type": "stream",
          "name": "stdout",
          "text": [
            "Teste 1: [0 1 1 0 0] usuários obtiveram resultados positivos.\n",
            "Teste 2: [0 1 1 1 0] usuários obtiveram resultados positivos.\n",
            "Teste 3: [0 1 1 1 0] usuários obtiveram resultados positivos.\n",
            "Teste 4: [1 1 1 1 0] usuários obtiveram resultados positivos.\n"
          ]
        }
      ]
    },
    {
      "cell_type": "code",
      "source": [
        "import numpy as np\n",
        "\n",
        "matrix = np.array([\n",
        "    [0, 1, 1, 0, 0],\n",
        "    [0, 1, 1, 1, 0],\n",
        "    [0, 1, 1, 1, 0],\n",
        "    [1, 1, 1, 1, 0],\n",
        "])\n",
        "\n",
        "np_resultado = np.sum(matrix, axis=1)\n",
        "\n",
        "for i, result in enumerate(np_resultado):\n",
        "  print(f\"Teste {i+1}: {result} usuários obtiveram resultados positivos. \\n\")"
      ],
      "metadata": {
        "colab": {
          "base_uri": "https://localhost:8080/"
        },
        "id": "ed_gJHaY1P20",
        "outputId": "faf65047-2d18-4f97-c3ad-6ccad4c24df4"
      },
      "execution_count": null,
      "outputs": [
        {
          "output_type": "stream",
          "name": "stdout",
          "text": [
            "Teste 1: 2 usuários obtiveram resultados positivos. \n",
            "\n",
            "Teste 2: 3 usuários obtiveram resultados positivos. \n",
            "\n",
            "Teste 3: 3 usuários obtiveram resultados positivos. \n",
            "\n",
            "Teste 4: 4 usuários obtiveram resultados positivos. \n",
            "\n"
          ]
        }
      ]
    },
    {
      "cell_type": "code",
      "source": [
        "# EXERCÍCIO 7\n",
        "\n",
        "import numpy as np\n",
        "\n",
        "# MATRIZ PARA RESULTADO DO TESTE\n",
        "\n",
        "teste = np.array([\n",
        "    [0, 1, 1, 0, 0],\n",
        "    [0, 1, 1, 1, 0],\n",
        "    [0, 1, 1, 1, 0],\n",
        "    [1, 1, 1, 1, 0],\n",
        "])\n",
        "\n",
        "# FORMULA PARA RESULTADO DO TESTE\n",
        "\n",
        "np_resultado = np.sum(teste, axis=1)\n",
        "\n",
        "# IMPRIMIR RESULTADO\n",
        "\n",
        "for i, resultado in enumerate(np_resultado):\n",
        "  print(f\"Teste {i+1}: {resultado} usuários obtiveram resultados positivos.\")"
      ],
      "metadata": {
        "colab": {
          "base_uri": "https://localhost:8080/"
        },
        "id": "iMGuRpez4bDc",
        "outputId": "9a15e34b-aca8-4290-b470-9c3206bd7e9f"
      },
      "execution_count": null,
      "outputs": [
        {
          "output_type": "stream",
          "name": "stdout",
          "text": [
            "Teste 1: 2 usuários obtiveram resultados positivos.\n",
            "Teste 2: 3 usuários obtiveram resultados positivos.\n",
            "Teste 3: 3 usuários obtiveram resultados positivos.\n",
            "Teste 4: 4 usuários obtiveram resultados positivos.\n"
          ]
        }
      ]
    },
    {
      "cell_type": "code",
      "source": [],
      "metadata": {
        "id": "gSweZIuE5Inl"
      },
      "execution_count": null,
      "outputs": []
    }
  ]
}