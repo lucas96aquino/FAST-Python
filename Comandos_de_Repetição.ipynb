{
  "nbformat": 4,
  "nbformat_minor": 0,
  "metadata": {
    "colab": {
      "provenance": [],
      "authorship_tag": "ABX9TyN7DrZjWQj0Lr5nc27PaRgu"
    },
    "kernelspec": {
      "name": "python3",
      "display_name": "Python 3"
    },
    "language_info": {
      "name": "python"
    }
  },
  "cells": [
    {
      "cell_type": "code",
      "execution_count": null,
      "metadata": {
        "colab": {
          "base_uri": "https://localhost:8080/"
        },
        "id": "EJ5rpJM9sk4i",
        "outputId": "1534693f-c81b-48a2-f865-9c7335f697e9"
      },
      "outputs": [
        {
          "output_type": "stream",
          "name": "stdout",
          "text": [
            "Contando!\n",
            "Contando!\n",
            "Contando!\n",
            "Contando!\n",
            "Contando!\n"
          ]
        }
      ],
      "source": [
        "cont = 1\n",
        "\n",
        "while cont <= 5:\n",
        "  print(\"Contando!\")\n",
        "  cont = cont + 1\n"
      ]
    },
    {
      "cell_type": "code",
      "source": [
        "cont = 1\n",
        "soma = 0\n",
        "\n",
        "while cont <= 5:\n",
        "  idade = int(input(\"Digite sua idade: \"))\n",
        "  soma = soma + idade\n",
        "  cont = cont + 1\n",
        "\n",
        "print(f\"A soma das idades é {soma}!\")"
      ],
      "metadata": {
        "colab": {
          "base_uri": "https://localhost:8080/"
        },
        "id": "s_tY2MADtZKZ",
        "outputId": "569f3f6b-05a7-474a-f33d-6699cca55da0"
      },
      "execution_count": null,
      "outputs": [
        {
          "output_type": "stream",
          "name": "stdout",
          "text": [
            "Digite sua idade: 10\n",
            "Digite sua idade: 20\n",
            "Digite sua idade: 30\n",
            "Digite sua idade: 40\n",
            "Digite sua idade: 50\n",
            "A soma das idades é 150!\n"
          ]
        }
      ]
    },
    {
      "cell_type": "code",
      "source": [
        "# o while é como o if, mas ele executa o comando enquanto a condição for verdadeira\n",
        "\n",
        "while condição:\n",
        "  comandos a serem executados\n",
        "\n"
      ],
      "metadata": {
        "id": "CRk3ADHcuBKY"
      },
      "execution_count": null,
      "outputs": []
    },
    {
      "cell_type": "code",
      "source": [
        "num = 1\n",
        "\n",
        "while num != 0:\n",
        "  num = int(input(\"Digite um número: \"))\n",
        "  if num > 0:\n",
        "    print(\"Maior que zero!\")\n",
        "  elif num == 0:\n",
        "    print(\"Igual a zero!\")\n",
        "  else:\n",
        "    print(\"Menor que zero!\")"
      ],
      "metadata": {
        "colab": {
          "base_uri": "https://localhost:8080/"
        },
        "id": "JIX5BI6-uemf",
        "outputId": "f370f157-3d9a-44fd-bed4-4b64a42b940c"
      },
      "execution_count": null,
      "outputs": [
        {
          "output_type": "stream",
          "name": "stdout",
          "text": [
            "Digite um número: 5\n",
            "Maior que zero!\n",
            "Digite um número: -2\n",
            "Menor que zero!\n",
            "Digite um número: 0\n",
            "Igual a zero!\n"
          ]
        }
      ]
    },
    {
      "cell_type": "code",
      "source": [
        "num1 = int(input(\"Digite o primeiro valor: \"))\n",
        "num2 = int(input(\"Digite o segundo valor: \"))\n",
        "soma = 0\n",
        "\n",
        "while num1 <= num2:\n",
        "  if num1%2 == 0:\n",
        "    soma += num1\n",
        "  num1+=1\n",
        "\n",
        "print(f\"A soma foi {soma}\")\n",
        "\n"
      ],
      "metadata": {
        "colab": {
          "base_uri": "https://localhost:8080/"
        },
        "id": "Zkz5S__BwRhY",
        "outputId": "71b29a17-d719-4804-8ffd-42e5ee73f658"
      },
      "execution_count": null,
      "outputs": [
        {
          "output_type": "stream",
          "name": "stdout",
          "text": [
            "Digite o primeiro valor: 2\n",
            "Digite o segundo valor: 7\n",
            "A soma foi 12\n"
          ]
        }
      ]
    },
    {
      "cell_type": "code",
      "source": [
        "total = 0\n",
        "\n",
        "while True:\n",
        "  valor = float(input(\"Digite o valor da sua compra R$: \"))\n",
        "\n",
        "  if valor == 0:\n",
        "    break\n",
        "  elif valor<0:\n",
        "    print(\"Valor inválido!\")\n",
        "\n",
        "  total += valor\n",
        "\n",
        "if total > 1000:\n",
        "  total = total - (total*0.10)\n",
        "\n",
        "print(f\"Total a pagar {total:.2f}\")"
      ],
      "metadata": {
        "colab": {
          "base_uri": "https://localhost:8080/"
        },
        "id": "CrrFf5T9yfnC",
        "outputId": "4ef6d6f2-497c-4e62-b18f-08b404d8a85d"
      },
      "execution_count": null,
      "outputs": [
        {
          "output_type": "stream",
          "name": "stdout",
          "text": [
            "Digite o valor da sua compra R$: 50\n",
            "Digite o valor da sua compra R$: 50\n",
            "Digite o valor da sua compra R$: 100\n",
            "Digite o valor da sua compra R$: 500\n",
            "Digite o valor da sua compra R$: 500\n",
            "Digite o valor da sua compra R$: 300\n",
            "Digite o valor da sua compra R$: 600\n",
            "Digite o valor da sua compra R$: 0\n",
            "Total a pagar 1890.00\n"
          ]
        }
      ]
    },
    {
      "cell_type": "code",
      "source": [
        "total = 0\n",
        "cont = 0\n",
        "\n",
        "while True:\n",
        "  notas = float(input(\"Digite as suas notas: \"))\n",
        "  if notas < 0:\n",
        "    break\n",
        "  elif notas > 0 and notas <= 10:\n",
        "    total += notas\n",
        "    cont = cont + 1\n",
        "  else:\n",
        "    print(\"Valor inválido. Digite novamente.\")\n",
        "\n",
        "media = total/cont\n",
        "\n",
        "print(f\"Foram informadas {cont} notas e a média delas é {media:.2f}!\")\n",
        "\n"
      ],
      "metadata": {
        "colab": {
          "base_uri": "https://localhost:8080/"
        },
        "id": "ydliJpJM2dgP",
        "outputId": "00231a43-f8f7-48b8-c711-1d3199f8c1c3"
      },
      "execution_count": null,
      "outputs": [
        {
          "output_type": "stream",
          "name": "stdout",
          "text": [
            "Digite as suas notas: 50\n",
            "Valor inválido. Digite novamente.\n",
            "Digite as suas notas: 10\n",
            "Digite as suas notas: 5\n",
            "Digite as suas notas: 6\n",
            "Digite as suas notas: 7\n",
            "Digite as suas notas: 2\n",
            "Digite as suas notas: -1\n",
            "Foram informadas 5 notas e a média delas é 6.00!\n"
          ]
        }
      ]
    },
    {
      "cell_type": "code",
      "source": [],
      "metadata": {
        "id": "EDhrNm9v5Awk"
      },
      "execution_count": null,
      "outputs": []
    },
    {
      "cell_type": "code",
      "source": [
        "soma = 0\n",
        "\n",
        "while True:\n",
        "  val = float(input('Digite o valor do produto comprado: R$ '))\n",
        "  if val > 0:\n",
        "    soma += val\n",
        "    val += 1\n",
        "  if val == 0:\n",
        "    print('Valor inválido')\n",
        "    break\n",
        "  else:\n",
        "    print('Digite um novo valor')\n",
        "\n",
        "print(f'A soma foi de {soma}')"
      ],
      "metadata": {
        "colab": {
          "base_uri": "https://localhost:8080/"
        },
        "id": "hvuex8VU0qfe",
        "outputId": "977cb40b-e21b-4b58-a56d-80c553bf7a9f"
      },
      "execution_count": null,
      "outputs": [
        {
          "output_type": "stream",
          "name": "stdout",
          "text": [
            "Digite o valor do produto comprado: R$ 50\n",
            "Digite um novo valor\n",
            "Digite o valor do produto comprado: R$ 50\n",
            "Digite um novo valor\n",
            "Digite o valor do produto comprado: R$ 0\n",
            "Valor inválido\n",
            "A soma foi de 100.0\n"
          ]
        }
      ]
    },
    {
      "cell_type": "code",
      "source": [
        "# FOR\n",
        "\n",
        "for variavel in range(valores):\n",
        "  comandos a serem executados\n",
        "\n",
        "# o range permite especificar uma faixa de valores e como será incrementada\n",
        "# a variável na função range vai começar com 0 e vai sendo incrementada até a parada\n",
        "# range(start, end, step). range(0,10,1) - começa em zero, vai até 10 e aumenta de 1 em 1\n",
        "# levando em consideração que a contagem começa a partir 0, no range acima, a contagem iria até 9\n"
      ],
      "metadata": {
        "id": "OyeCw__E5B_F"
      },
      "execution_count": null,
      "outputs": []
    },
    {
      "cell_type": "code",
      "source": [
        "for i in range(0, 10, 2):\n",
        "  print(i)"
      ],
      "metadata": {
        "colab": {
          "base_uri": "https://localhost:8080/"
        },
        "id": "pb43UuBN6948",
        "outputId": "7c2e2efb-4a9b-47ee-ddb0-69cf4837088d"
      },
      "execution_count": null,
      "outputs": [
        {
          "output_type": "stream",
          "name": "stdout",
          "text": [
            "0\n",
            "2\n",
            "4\n",
            "6\n",
            "8\n"
          ]
        }
      ]
    },
    {
      "cell_type": "code",
      "source": [
        "for i in range(10, 0, -2):\n",
        "  print(i)"
      ],
      "metadata": {
        "colab": {
          "base_uri": "https://localhost:8080/"
        },
        "id": "TBjns2VN7Pdu",
        "outputId": "9438681b-f41c-446a-82d7-00621cdbf846"
      },
      "execution_count": null,
      "outputs": [
        {
          "output_type": "stream",
          "name": "stdout",
          "text": [
            "10\n",
            "8\n",
            "6\n",
            "4\n",
            "2\n"
          ]
        }
      ]
    },
    {
      "cell_type": "code",
      "source": [
        "for i in range(10):\n",
        "  idade = int(input(\"Digite sua idade\"))\n",
        "\n",
        "  if idade >= 18:\n",
        "    print(\"Maior de idade\")\n",
        "  else:\n",
        "    print(\"Menor de idade\")"
      ],
      "metadata": {
        "colab": {
          "base_uri": "https://localhost:8080/"
        },
        "id": "5-yX6J177Xa7",
        "outputId": "f9b25795-2cfc-4f8e-fd60-ecfd4db3def2"
      },
      "execution_count": null,
      "outputs": [
        {
          "output_type": "stream",
          "name": "stdout",
          "text": [
            "Digite sua idade12\n",
            "Menor de idade\n",
            "Digite sua idade13\n",
            "Menor de idade\n",
            "Digite sua idade15\n",
            "Menor de idade\n",
            "Digite sua idade65\n",
            "Maior de idade\n",
            "Digite sua idade86\n",
            "Maior de idade\n",
            "Digite sua idade87\n",
            "Maior de idade\n",
            "Digite sua idade30\n",
            "Maior de idade\n",
            "Digite sua idade40\n",
            "Maior de idade\n",
            "Digite sua idade50\n",
            "Maior de idade\n",
            "Digite sua idade10\n",
            "Menor de idade\n"
          ]
        }
      ]
    },
    {
      "cell_type": "code",
      "source": [
        "numero = int(input(\"Digite um número perfeito\"))\n",
        "soma = 0\n",
        "\n",
        "# o i vai representar os divisores do número\n",
        "\n",
        "for i in range(1, numero, 1):\n",
        "  if numero%i == 0:\n",
        "    soma += i\n",
        "\n",
        "if numero == soma:\n",
        "  print(\"Número perfeito\")\n",
        "else:\n",
        "  print(\"Não é um número perfeito\")"
      ],
      "metadata": {
        "colab": {
          "base_uri": "https://localhost:8080/"
        },
        "id": "_FKw199L7pwr",
        "outputId": "94a7ac76-ceaf-4223-de0f-a23c4271ff54"
      },
      "execution_count": null,
      "outputs": [
        {
          "output_type": "stream",
          "name": "stdout",
          "text": [
            "Digite um número perfeito20\n",
            "Não é um número perfeito\n"
          ]
        }
      ]
    },
    {
      "cell_type": "code",
      "source": [
        "from datetime import date\n",
        "anoAtual = date.today().year\n",
        "contadorMenor = 0\n",
        "contadorMaior = 0\n",
        "\n",
        "for i in range(0, 5, 1):\n",
        "  anoNascimento = int(input(\"Digite o seu ano de nascimento!\"))\n",
        "  if anoAtual - anoNascimento < 18:\n",
        "    print(\"Você é menor de idade.\")\n",
        "    contadorMenor += 1\n",
        "  else:\n",
        "    print(\"Você é maior de idade.\")\n",
        "    contadorMaior += 1\n",
        "\n",
        "print(f\"Temos {contadorMenor} menores de idade e {contadorMaior} maiores de idade.\")"
      ],
      "metadata": {
        "colab": {
          "base_uri": "https://localhost:8080/"
        },
        "id": "tulOTKvxALev",
        "outputId": "0aad3066-8211-480e-f50c-15fcfa6ed08c"
      },
      "execution_count": null,
      "outputs": [
        {
          "output_type": "stream",
          "name": "stdout",
          "text": [
            "Digite o seu ano de nascimento!1990\n",
            "Você é maior de idade.\n",
            "Digite o seu ano de nascimento!2020\n",
            "Você é menor de idade.\n",
            "Digite o seu ano de nascimento!2018\n",
            "Você é menor de idade.\n",
            "Digite o seu ano de nascimento!2000\n",
            "Você é maior de idade.\n",
            "Digite o seu ano de nascimento!2004\n",
            "Você é maior de idade.\n",
            "Temos 2 menores de idade e 3 maiores de idade.\n"
          ]
        }
      ]
    },
    {
      "cell_type": "code",
      "source": [
        "numeroImpar = 0\n",
        "numeroPar = 0\n",
        "\n",
        "for i in range(0, 10, 1):\n",
        "  numero = int(input(\"Digite seu número inteiro: \"))\n",
        "\n",
        "  if numero%2 != 0:\n",
        "    numeroImpar+=1\n",
        "  elif numero%2 == 0:\n",
        "    numeroPar+=1\n",
        "\n",
        "print(f\"A quantidade de números ímpares é {numeroImpar} e pares é {numeroPar}!\")\n",
        "\n"
      ],
      "metadata": {
        "colab": {
          "base_uri": "https://localhost:8080/"
        },
        "id": "sFxJ8U3uH2mp",
        "outputId": "98ed1f7b-ca38-4fdb-d79e-2a4e5c35a08e"
      },
      "execution_count": null,
      "outputs": [
        {
          "output_type": "stream",
          "name": "stdout",
          "text": [
            "Digite seu número inteiro: 10\n",
            "Digite seu número inteiro: 76\n",
            "Digite seu número inteiro: 77\n",
            "Digite seu número inteiro: 89\n",
            "Digite seu número inteiro: 50\n",
            "Digite seu número inteiro: 32\n",
            "Digite seu número inteiro: 76\n",
            "Digite seu número inteiro: 59\n",
            "Digite seu número inteiro: 41\n",
            "Digite seu número inteiro: 32\n",
            "A quantidade de números ímpares é 4 e pares é 6!\n"
          ]
        }
      ]
    },
    {
      "cell_type": "code",
      "source": [
        "for i in range(5):\n",
        "  sexo = str(input(\"Digite seu sexo [M] Masculino [F] Feminino:\"))\n",
        "  corOlhos = str(input(\"Digite a cor dos seus olhos [A] Azul [V] Verde [C] Castanho\"))\n",
        "  corCabelo = str(input(\"Digite a cor dos seus cabelos [L] Loiro [P] Preto [C] Castanho\"))\n",
        "  idade = int(input(\"Digite a sua idade: \"))\n",
        "  contIdade = 0\n",
        "  contOlhosCabelo = 0\n",
        "  contSexo = 0\n",
        "\n",
        "  if 18 >= idade and idade <= 35:\n",
        "    contIdade+=1\n",
        "  if corOlhos == \"C\" and corCabelo == \"P\":\n",
        "    contOlhosCabelo+=1\n",
        "  if sexo == \"F\":\n",
        "    contSexo+=1\n",
        "  else:\n",
        "    print(\"Obrigado por responder!\")\n",
        "\n",
        "print(f\"{contIdade} possuem entre 18 e 35 anos e {contOlhosCabelo} possuem  olhos castanhos e cabelos pretos! O total de mulheres é {contSexo}.\")\n",
        "\n",
        "\n",
        "\n"
      ],
      "metadata": {
        "colab": {
          "base_uri": "https://localhost:8080/"
        },
        "id": "meM2TJqbIs42",
        "outputId": "69b4f666-67fc-403d-807c-5fcbf3ed4543"
      },
      "execution_count": null,
      "outputs": [
        {
          "output_type": "stream",
          "name": "stdout",
          "text": [
            "Digite seu sexo [M] Masculino [F] Feminino:F\n",
            "Digite a cor dos seus olhos [A] Azul [V] Verde [C] CastanhoC\n",
            "Digite a cor dos seus cabelos [L] Loiro [P] Preto [C] CastanhoP\n",
            "Digite a sua idade: 19\n",
            "Digite seu sexo [M] Masculino [F] Feminino:F\n",
            "Digite a cor dos seus olhos [A] Azul [V] Verde [C] CastanhoC\n",
            "Digite a cor dos seus cabelos [L] Loiro [P] Preto [C] CastanhoP\n",
            "Digite a sua idade: 19\n",
            "Digite seu sexo [M] Masculino [F] Feminino:F\n",
            "Digite a cor dos seus olhos [A] Azul [V] Verde [C] CastanhoC\n",
            "Digite a cor dos seus cabelos [L] Loiro [P] Preto [C] CastanhoP\n",
            "Digite a sua idade: 19\n",
            "Digite seu sexo [M] Masculino [F] Feminino:F\n",
            "Digite a cor dos seus olhos [A] Azul [V] Verde [C] CastanhoC\n",
            "Digite a cor dos seus cabelos [L] Loiro [P] Preto [C] CastanhoP\n",
            "Digite a sua idade: 19\n",
            "Digite seu sexo [M] Masculino [F] Feminino:F\n",
            "Digite a cor dos seus olhos [A] Azul [V] Verde [C] CastanhoC\n",
            "Digite a cor dos seus cabelos [L] Loiro [P] Preto [C] CastanhoP\n",
            "Digite a sua idade: 19\n",
            "0 possuem entre 18 e 35 anos e 1 possuem  olhos castanhos e cabelos pretos! O total de mulheres é 1.\n"
          ]
        }
      ]
    },
    {
      "cell_type": "code",
      "source": [
        "num1 = 0\n",
        "cont1 = 0\n",
        "cont2 = 0\n",
        "\n",
        "while num1 < 5:\n",
        "  sexo = str(input(\"Digite seu sexo [M] Masculino [F] Feminino:\"))\n",
        "  corOlhos = str(input(\"Digite a cor dos seus olhos [A] Azul [V] Verde [C] Castanho\"))\n",
        "  corCabelo = str(input(\"Digite a cor dos seus cabelos [L] Loiro [P] Preto [C] Castanho\"))\n",
        "  idade = int(input(\"Digite a sua idade: \"))\n",
        "  num1 = num1 + 1\n",
        "\n",
        "  if sexo == \"F\" and idade >= 18 and idade <= 35:\n",
        "    cont1 = cont1 + 1\n",
        "  if corOlhos == \"C\" and corCabelo == \"P\":\n",
        "    cont2 = cont2 + 1\n",
        "  else:\n",
        "    print(\"Obrigado pela resposta!\")\n",
        "\n",
        "print(f\"O total de pessoas do sexo feminino com idade entre 18 e 35 anos é {cont1} e o total de pessoas com olhos castanhos e cabelos pretos é {cont2}!\")\n",
        "  contBanho = 0"
      ],
      "metadata": {
        "colab": {
          "base_uri": "https://localhost:8080/"
        },
        "id": "PKAPTfWtMRSc",
        "outputId": "06e7427e-3d1d-4388-aefa-180e7beae005"
      },
      "execution_count": null,
      "outputs": [
        {
          "output_type": "stream",
          "name": "stdout",
          "text": [
            "Digite seu sexo [M] Masculino [F] Feminino:F\n",
            "Digite a cor dos seus olhos [A] Azul [V] Verde [C] CastanhoC\n",
            "Digite a cor dos seus cabelos [L] Loiro [P] Preto [C] CastanhoP\n",
            "Digite a sua idade: 19\n",
            "Digite seu sexo [M] Masculino [F] Feminino:F\n",
            "Digite a cor dos seus olhos [A] Azul [V] Verde [C] CastanhoC\n",
            "Digite a cor dos seus cabelos [L] Loiro [P] Preto [C] CastanhoP\n",
            "Digite a sua idade: 23\n",
            "Digite seu sexo [M] Masculino [F] Feminino:F\n",
            "Digite a cor dos seus olhos [A] Azul [V] Verde [C] CastanhoC\n",
            "Digite a cor dos seus cabelos [L] Loiro [P] Preto [C] CastanhoP\n",
            "Digite a sua idade: 25\n",
            "Digite seu sexo [M] Masculino [F] Feminino:F\n",
            "Digite a cor dos seus olhos [A] Azul [V] Verde [C] CastanhoC\n",
            "Digite a cor dos seus cabelos [L] Loiro [P] Preto [C] CastanhoP\n",
            "Digite a sua idade: 7\n",
            "Digite seu sexo [M] Masculino [F] Feminino:F\n",
            "Digite a cor dos seus olhos [A] Azul [V] Verde [C] CastanhoC\n",
            "Digite a cor dos seus cabelos [L] Loiro [P] Preto [C] CastanhoP\n",
            "Digite a sua idade: 7\n",
            "O total de pessoas do sexo feminino com idade entre 18 e 35 anos é 3 e o total de pessoas com olhos castanhos e cabelos pretos é 5!\n"
          ]
        }
      ]
    },
    {
      "cell_type": "code",
      "source": [
        "contBanho = 0\n",
        "contTosa = 0\n",
        "contBanhoTosa = 0\n",
        "contOutros = 0\n",
        "\n",
        "for i in range(5):\n",
        "\n",
        "  servico = str(input(\"Digite o serviço desejado: [1] Banho [2] Tosa [3] Banho e Tosa [4] Outros\"))\n",
        "\n",
        "  if servico == \"1\":\n",
        "    contBanho += 1\n",
        "  if servico == \"2\":\n",
        "    contTosa += 1\n",
        "  if servico == \"3\":\n",
        "    contBanhoTosa += 1\n",
        "  if servico == \"4\":\n",
        "    contOutros += 1\n",
        "\n",
        "print(f\"O total de serviços de banho é {contBanho}, o total de serviços para Tosa é {contTosa}, o total de serviços para banho e tosa é {contBanhoTosa} e o total de outros serviços é {contOutros}.\")"
      ],
      "metadata": {
        "colab": {
          "base_uri": "https://localhost:8080/"
        },
        "id": "MXQ7vwTySH5a",
        "outputId": "f25e6eca-d9b0-4687-b262-482e35dfc786"
      },
      "execution_count": null,
      "outputs": [
        {
          "output_type": "stream",
          "name": "stdout",
          "text": [
            "Digite o serviço desejado: [1] Banho [2] Tosa [3] Banho e Tosa [4] Outros1\n",
            "Digite o serviço desejado: [1] Banho [2] Tosa [3] Banho e Tosa [4] Outros1\n",
            "Digite o serviço desejado: [1] Banho [2] Tosa [3] Banho e Tosa [4] Outros1\n",
            "Digite o serviço desejado: [1] Banho [2] Tosa [3] Banho e Tosa [4] Outros1\n",
            "Digite o serviço desejado: [1] Banho [2] Tosa [3] Banho e Tosa [4] Outros1\n",
            "O total de serviços de banho é 5, o total de serviços para Tosa é 0, o total de serviços para banho e tosa é 0 e o total de outros serviços é 0.\n"
          ]
        }
      ]
    }
  ]
}